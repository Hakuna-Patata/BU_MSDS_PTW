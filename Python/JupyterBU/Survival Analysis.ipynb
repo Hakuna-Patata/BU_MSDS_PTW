{
 "cells": [
  {
   "cell_type": "markdown",
   "metadata": {},
   "source": [
    "# <span style=\"color:#bcff8f\">Survival Analysis</span>\n",
    "\n",
    "<span style=\"font-size:12pt;color:gray;font-weight:bold\"> Patrick Weatherford</span><br>\n",
    "\n"
   ]
  },
  {
   "cell_type": "markdown",
   "metadata": {},
   "source": [
    "***\n",
    "\n",
    "## <span style=\"color:#c58fff\">Import Libraries</span>"
   ]
  },
  {
   "cell_type": "code",
   "execution_count": 35,
   "metadata": {},
   "outputs": [],
   "source": [
    "import pandas as pd\n",
    "import matplotlib as mpl\n",
    "import matplotlib.pyplot as plt\n",
    "import seaborn as sns\n",
    "import numpy as np\n",
    "import lifelines as sm\n",
    "from lifelines.plotting import plot_lifetimes as lifeplot\n",
    "import lifelines.datasets as life_data\n",
    "from lifelines import NelsonAalenFitter as nonparam_haz\n"
   ]
  },
  {
   "cell_type": "markdown",
   "metadata": {},
   "source": [
    "***\n",
    "\n",
    "## <span style=\"color:#c58fff\">Important Terms</span>\n",
    "\n",
    "- <u>Survival Analysis</u>: Analyzing the time between a start event and end event.\n",
    "\n",
    "- <u>Survival Functions</u>: The probability that a column representing durations has a value greater than time ($t$)<br> \n",
    "    - $S(t)=$\n",
    "        - $P(T \\geq t)$\n",
    "        - $\\int_{t}^{\\infty }f(t')dt'$\n",
    "        - $1-CDF(t)$\n",
    "\n",
    "\n",
    "- <u>Hazard Function</u>: For observation with durations greater than $t$, is the rate at which survival decrease from $t$ to $\\Delta{t}$ \n",
    "    - $h(t)\\ |\\ \\lambda{t}=$\n",
    "        - $\\frac{1}{S(t)}\\lim_{\\Delta{t}\\rightarrow 0}\\frac{S(t)-S(t+\\Delta{t})}{\\Delta{t}]}$\n",
    "        - $\\frac{f(t)}{S(t)}$\n",
    "        - $-\\frac{S'(t)}{S(t)}$\n",
    "\n",
    "\n",
    "        \n",
    "- <u>Cumulative Hazard Function</u>: \n",
    "    - Standard:\n",
    "        - $S(t)=e^{-\\int_{0}^{t}HAZ*\\Delta{HAZ}}$\n",
    "        - $e^{-H(t)}$\n",
    "    - Cox model:\n",
    "        - $H(t|X)=e^{x^{\\gamma\\beta}}\\int_{0}^{t_0}HAZ*\\Delta{HAZ}$\n",
    "        - $e^{x^{\\gamma\\beta}}H_0(t)$\n",
    "\n",
    "\n",
    "- <u>Censoring</u>: Taking into account observations where one of the events is known but not all. It is important to take these into consideration because not doing so will make the model biased and prone to error.\n",
    "    - <u>Right-Censored</u> if end event happened after censor time.\n",
    "        - $RCensored=\\left\\{\\begin{matrix}1, & if\\ T_i\\leq C_i \\\\ 0, & if\\ T_i> C_i\\end{matrix}\\right.$\n",
    "        \n",
    "    - <u>Left-Censored</u> if end event happend before start time.\n",
    "        - $LCensored=\\left\\{\\begin{matrix}1, & if\\ T_i\\geq C_i \\\\ 0, & if\\ T_i< C_i\\end{matrix}\\right.$"
   ]
  },
  {
   "cell_type": "markdown",
   "metadata": {},
   "source": [
    "***\n",
    "\n",
    "## <span style=\"color:#c58fff\">Survival Analysis Example</span>"
   ]
  },
  {
   "cell_type": "markdown",
   "metadata": {},
   "source": [
    "\n",
    "### Why not including censored data is bad\n",
    "\n",
    "- Underestimates the actual duration."
   ]
  },
  {
   "cell_type": "code",
   "execution_count": 10,
   "metadata": {},
   "outputs": [
    {
     "data": {
      "image/png": "[encoded data removed]",
      "text/plain": [
       "<Figure size 432x288 with 1 Axes>"
      ]
     },
     "metadata": {
      "needs_background": "light"
     },
     "output_type": "display_data"
    },
    {
     "data": {
      "image/png": "[encoded data removed]",
      "text/plain": [
       "<Figure size 432x288 with 1 Axes>"
      ]
     },
     "metadata": {
      "needs_background": "light"
     },
     "output_type": "display_data"
    }
   ],
   "source": [
    "## sample size\n",
    "n = 25\n",
    "\n",
    "## date when hypothetical study stopped\n",
    "current_time = 10\n",
    "\n",
    "## create random lifetimes with instances where data is right censored (aka lifetime greater than date when study stopped)\n",
    "actual_lifetimes = np.asarray([\n",
    "    np.random.exponential(scale=12) if (np.random.uniform() < 0.5) else np.random.exponential(2) for i in range(n)\n",
    "])\n",
    "\n",
    "## if lifetime greater than study stop time, end at that date\n",
    "observed_lifetimes = np.minimum(actual_lifetimes, current_time)\n",
    "\n",
    "## True if data is not censored (death observed), False if data is right-censored (death occurred after study stop date)\n",
    "deaths_observed = actual_lifetimes < current_time\n",
    "\n",
    "## plot results and cutoff at study stop \n",
    "ax = lifeplot(durations=observed_lifetimes, event_observed=deaths_observed)\n",
    "ax.set_xlim(0, 25)\n",
    "ax.vlines(10, 0, 30, lw=2, linestyles='--', color='grey')\n",
    "ax.set_xlabel(\"time (t)\")\n",
    "ax.set_title('Births and deaths of our population, at $t=10$')\n",
    "plt.show()\n",
    "\n",
    "## plot results and do NOT cutoff at study stop\n",
    "ax = lifeplot(durations=actual_lifetimes, event_observed=deaths_observed)\n",
    "ax.set_xlim(0, 25)\n",
    "ax.vlines(10, 0, 30, lw=2, linestyles='--', color='grey')\n",
    "ax.set_xlabel(\"time (t)\")\n",
    "ax.set_title('Births and deaths of our population, $(actual)$')\n",
    "plt.show()"
   ]
  },
  {
   "cell_type": "markdown",
   "metadata": {},
   "source": [
    "*As you can see, if you cutoff at the study stop time, or even worse, exclude censored data altogether, your result can be greatly underestimated*"
   ]
  },
  {
   "cell_type": "markdown",
   "metadata": {},
   "source": [
    "<br>\n",
    "\n",
    "### Visualizing Hazard & Cumulative Hazard"
   ]
  },
  {
   "cell_type": "code",
   "execution_count": 31,
   "metadata": {},
   "outputs": [
    {
     "data": {
      "text/html": [
       "<div>\n",
       "<style scoped>\n",
       "    .dataframe tbody tr th:only-of-type {\n",
       "        vertical-align: middle;\n",
       "    }\n",
       "\n",
       "    .dataframe tbody tr th {\n",
       "        vertical-align: top;\n",
       "    }\n",
       "\n",
       "    .dataframe thead th {\n",
       "        text-align: right;\n",
       "    }\n",
       "</style>\n",
       "<table border=\"1\" class=\"dataframe\">\n",
       "  <thead>\n",
       "    <tr style=\"text-align: right;\">\n",
       "      <th></th>\n",
       "      <th>ctryname</th>\n",
       "      <th>cowcode2</th>\n",
       "      <th>politycode</th>\n",
       "      <th>un_region_name</th>\n",
       "      <th>un_continent_name</th>\n",
       "      <th>ehead</th>\n",
       "      <th>leaderspellreg</th>\n",
       "      <th>democracy</th>\n",
       "      <th>regime</th>\n",
       "      <th>start_year</th>\n",
       "      <th>duration</th>\n",
       "      <th>observed</th>\n",
       "    </tr>\n",
       "  </thead>\n",
       "  <tbody>\n",
       "    <tr>\n",
       "      <th>0</th>\n",
       "      <td>Afghanistan</td>\n",
       "      <td>700</td>\n",
       "      <td>700.0</td>\n",
       "      <td>Southern Asia</td>\n",
       "      <td>Asia</td>\n",
       "      <td>Mohammad Zahir Shah</td>\n",
       "      <td>Mohammad Zahir Shah.Afghanistan.1946.1952.Mona...</td>\n",
       "      <td>Non-democracy</td>\n",
       "      <td>Monarchy</td>\n",
       "      <td>1946</td>\n",
       "      <td>7</td>\n",
       "      <td>1</td>\n",
       "    </tr>\n",
       "    <tr>\n",
       "      <th>1</th>\n",
       "      <td>Afghanistan</td>\n",
       "      <td>700</td>\n",
       "      <td>700.0</td>\n",
       "      <td>Southern Asia</td>\n",
       "      <td>Asia</td>\n",
       "      <td>Sardar Mohammad Daoud</td>\n",
       "      <td>Sardar Mohammad Daoud.Afghanistan.1953.1962.Ci...</td>\n",
       "      <td>Non-democracy</td>\n",
       "      <td>Civilian Dict</td>\n",
       "      <td>1953</td>\n",
       "      <td>10</td>\n",
       "      <td>1</td>\n",
       "    </tr>\n",
       "    <tr>\n",
       "      <th>2</th>\n",
       "      <td>Afghanistan</td>\n",
       "      <td>700</td>\n",
       "      <td>700.0</td>\n",
       "      <td>Southern Asia</td>\n",
       "      <td>Asia</td>\n",
       "      <td>Mohammad Zahir Shah</td>\n",
       "      <td>Mohammad Zahir Shah.Afghanistan.1963.1972.Mona...</td>\n",
       "      <td>Non-democracy</td>\n",
       "      <td>Monarchy</td>\n",
       "      <td>1963</td>\n",
       "      <td>10</td>\n",
       "      <td>1</td>\n",
       "    </tr>\n",
       "    <tr>\n",
       "      <th>3</th>\n",
       "      <td>Afghanistan</td>\n",
       "      <td>700</td>\n",
       "      <td>700.0</td>\n",
       "      <td>Southern Asia</td>\n",
       "      <td>Asia</td>\n",
       "      <td>Sardar Mohammad Daoud</td>\n",
       "      <td>Sardar Mohammad Daoud.Afghanistan.1973.1977.Ci...</td>\n",
       "      <td>Non-democracy</td>\n",
       "      <td>Civilian Dict</td>\n",
       "      <td>1973</td>\n",
       "      <td>5</td>\n",
       "      <td>0</td>\n",
       "    </tr>\n",
       "    <tr>\n",
       "      <th>4</th>\n",
       "      <td>Afghanistan</td>\n",
       "      <td>700</td>\n",
       "      <td>700.0</td>\n",
       "      <td>Southern Asia</td>\n",
       "      <td>Asia</td>\n",
       "      <td>Nur Mohammad Taraki</td>\n",
       "      <td>Nur Mohammad Taraki.Afghanistan.1978.1978.Civi...</td>\n",
       "      <td>Non-democracy</td>\n",
       "      <td>Civilian Dict</td>\n",
       "      <td>1978</td>\n",
       "      <td>1</td>\n",
       "      <td>0</td>\n",
       "    </tr>\n",
       "  </tbody>\n",
       "</table>\n",
       "</div>"
      ],
      "text/plain": [
       "      ctryname  cowcode2  politycode un_region_name un_continent_name  \\\n",
       "0  Afghanistan       700       700.0  Southern Asia              Asia   \n",
       "1  Afghanistan       700       700.0  Southern Asia              Asia   \n",
       "2  Afghanistan       700       700.0  Southern Asia              Asia   \n",
       "3  Afghanistan       700       700.0  Southern Asia              Asia   \n",
       "4  Afghanistan       700       700.0  Southern Asia              Asia   \n",
       "\n",
       "                   ehead                                     leaderspellreg  \\\n",
       "0    Mohammad Zahir Shah  Mohammad Zahir Shah.Afghanistan.1946.1952.Mona...   \n",
       "1  Sardar Mohammad Daoud  Sardar Mohammad Daoud.Afghanistan.1953.1962.Ci...   \n",
       "2    Mohammad Zahir Shah  Mohammad Zahir Shah.Afghanistan.1963.1972.Mona...   \n",
       "3  Sardar Mohammad Daoud  Sardar Mohammad Daoud.Afghanistan.1973.1977.Ci...   \n",
       "4    Nur Mohammad Taraki  Nur Mohammad Taraki.Afghanistan.1978.1978.Civi...   \n",
       "\n",
       "       democracy         regime  start_year  duration  observed  \n",
       "0  Non-democracy       Monarchy        1946         7         1  \n",
       "1  Non-democracy  Civilian Dict        1953        10         1  \n",
       "2  Non-democracy       Monarchy        1963        10         1  \n",
       "3  Non-democracy  Civilian Dict        1973         5         0  \n",
       "4  Non-democracy  Civilian Dict        1978         1         0  "
      ]
     },
     "execution_count": 31,
     "metadata": {},
     "output_type": "execute_result"
    }
   ],
   "source": [
    "## import dataset\n",
    "df = life_data.load_dd()\n",
    "df.head()"
   ]
  },
  {
   "cell_type": "code",
   "execution_count": 69,
   "metadata": {},
   "outputs": [
    {
     "data": {
      "image/png": "[encoded data removed]",
      "text/plain": [
       "<Figure size 432x288 with 1 Axes>"
      ]
     },
     "metadata": {
      "needs_background": "light"
     },
     "output_type": "display_data"
    },
    {
     "name": "stdout",
     "output_type": "stream",
     "text": [
      "          NA_estimate\n",
      "timeline             \n",
      "0.0          0.000000\n",
      "1.0          0.325912\n",
      "2.0          0.507356\n",
      "3.0          0.671251\n",
      "4.0          0.869867\n",
      "...\n",
      "          NA_estimate\n",
      "timeline             \n",
      "40.0         3.472771\n",
      "42.0         3.472771\n",
      "44.0         3.472771\n",
      "46.0         3.472771\n",
      "47.0         3.972771\n"
     ]
    }
   ],
   "source": [
    "T = df['duration']\n",
    "E = df['observed']\n",
    "\n",
    "haz = nonparam_haz().fit(T, event_observed=E)\n",
    "\n",
    "haz_df = haz.cumulative_hazard_\n",
    "\n",
    "haz.plot_cumulative_hazard()\n",
    "plt.show()\n",
    "\n",
    "print(f\"{haz_df.head()}\\n...\\n{haz_df.tail()}\")"
   ]
  },
  {
   "cell_type": "code",
   "execution_count": null,
   "metadata": {},
   "outputs": [],
   "source": []
  },
  {
   "cell_type": "code",
   "execution_count": 68,
   "metadata": {},
   "outputs": [
    {
     "data": {
      "text/plain": [
       "<bound method UnivariateFitter.hazard_at_times of <lifelines.NelsonAalenFitter:\"NA_estimate\", fitted with 1808 total observations, 340 right-censored observations>>"
      ]
     },
     "execution_count": 68,
     "metadata": {},
     "output_type": "execute_result"
    }
   ],
   "source": [
    "haz_df1 = haz.hazard_at_times\n",
    "\n",
    "haz_df1"
   ]
  },
  {
   "cell_type": "code",
   "execution_count": 71,
   "metadata": {},
   "outputs": [],
   "source": [
    "data9 = np.random.normal(size=1000)"
   ]
  },
  {
   "cell_type": "code",
   "execution_count": 71,
   "metadata": {},
   "outputs": [
    {
     "data": {
      "image/png": "[encoded data removed]",
      "text/plain": [
       "<Figure size 432x288 with 1 Axes>"
      ]
     },
     "metadata": {
      "needs_background": "light"
     },
     "output_type": "display_data"
    }
   ],
   "source": [
    "plt.hist(data9, bins=10)\n",
    "plt.show()"
   ]
  },
  {
   "cell_type": "code",
   "execution_count": 73,
   "metadata": {},
   "outputs": [
    {
     "data": {
      "text/plain": [
       "(-0.018947781524697865, 1.0092905125106106)"
      ]
     },
     "execution_count": 73,
     "metadata": {},
     "output_type": "execute_result"
    }
   ],
   "source": [
    "mean = data9.mean()\n",
    "std = data9.std()\n",
    "\n",
    "mean, std"
   ]
  },
  {
   "cell_type": "code",
   "execution_count": 102,
   "metadata": {},
   "outputs": [
    {
     "data": {
      "image/png": "[encoded data removed]",
      "text/plain": [
       "<Figure size 432x288 with 1 Axes>"
      ]
     },
     "metadata": {
      "needs_background": "light"
     },
     "output_type": "display_data"
    }
   ],
   "source": [
    "from matplotlib import pyplot as plt\n",
    "import numpy as np\n",
    "from scipy import stats\n",
    "\n",
    "sample = np.random.normal(loc=50, scale=5, size=1000)\n",
    "samp_mean = sample.mean()\n",
    "samp_std = sample.std()\n",
    "\n",
    "## define distribution function\n",
    "dist = stats.norm(samp_mean, samp_std)\n",
    "\n",
    "xs = [x for x in range(30, 70)]\n",
    "pdfs = [dist.pdf(x) for x in xs]\n",
    "\n",
    "plt.hist(sample, bins=10, density=True)\n",
    "plt.plot(xs, pdfs)\n",
    "plt.show()"
   ]
  },
  {
   "cell_type": "code",
   "execution_count": 103,
   "metadata": {},
   "outputs": [
    {
     "data": {
      "image/png": "[encoded data removed]",
      "text/plain": [
       "<Figure size 432x288 with 1 Axes>"
      ]
     },
     "metadata": {
      "needs_background": "light"
     },
     "output_type": "display_data"
    }
   ],
   "source": [
    "samp1 = np.random.normal(loc=20, scale=5, size=300)\n",
    "samp2 = np.random.normal(loc=40, scale=5, size=700)\n",
    "sample = np.hstack((samp1, samp2))\n",
    "\n",
    "plt.hist(sample, bins=50)\n",
    "plt.show()"
   ]
  },
  {
   "cell_type": "code",
   "execution_count": 111,
   "metadata": {},
   "outputs": [
    {
     "data": {
      "image/png": "[encoded data removed]",
      "text/plain": [
       "<Figure size 432x288 with 1 Axes>"
      ]
     },
     "metadata": {
      "needs_background": "light"
     },
     "output_type": "display_data"
    }
   ],
   "source": [
    "from sklearn.neighbors import KernelDensity as kde\n",
    "\n",
    "bw = 2\n",
    "\n",
    "kde_model = kde(bandwidth=bw, kernel='gaussian')\n",
    "sample = sample.reshape((len(sample)), 1)\n",
    "kde_model.fit(sample)\n",
    "\n",
    "xs = np.asarray([x for x in range(1, 60)])\n",
    "xs = xs.reshape(xs.size, 1)\n",
    "pdfs = kde_model.score_samples(xs)\n",
    "pdfs = np.exp(pdfs)\n",
    "\n",
    "plt.hist(sample, bins=50, density=True)\n",
    "plt.plot(xs[:], pdfs)\n",
    "plt.show()"
   ]
  }
 ],
 "metadata": {
  "kernelspec": {
   "display_name": "Python 3 (ipykernel)",
   "language": "python",
   "name": "python3"
  },
  "language_info": {
   "codemirror_mode": {
    "name": "ipython",
    "version": 3
   },
   "file_extension": ".py",
   "mimetype": "text/x-python",
   "name": "python",
   "nbconvert_exporter": "python",
   "pygments_lexer": "ipython3",
   "version": "3.10.2"
  }
 },
 "nbformat": 4,
 "nbformat_minor": 4
}
