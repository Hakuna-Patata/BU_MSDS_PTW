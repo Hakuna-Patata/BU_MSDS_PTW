{
 "cells": [
  {
   "cell_type": "code",
   "execution_count": 2,
   "metadata": {},
   "outputs": [],
   "source": [
    "## monthly loan payment calculator\n",
    "\n",
    "def month_loan_payment(loan_amt, apr, term_yrs, price_per_watt, kw_system):\n",
    "    div=\"=====\"\n",
    "    div2=\"-----\"\n",
    "    nl = '\\n'\n",
    "    loan_amt_26 = loan_amt - (loan_amt * .26)\n",
    "    apr = apr / 100\n",
    "    pymts_per_year = 12\n",
    "    term_mths = 12 * term_yrs\n",
    "    total_pymts = pymts_per_year * term_yrs\n",
    "    mpr = apr / pymts_per_year\n",
    "    \n",
    "    total_panel_amt = kw_system*1000*price_per_watt\n",
    "\n",
    "    monthly_payment = loan_amt / ((((1+mpr)**total_pymts)-1) / (mpr * ((1+mpr)**total_pymts)))\n",
    "    monthly_payment_26 = loan_amt_26 / ((((1+mpr)**total_pymts)-1) / (mpr * ((1+mpr)**total_pymts)))\n",
    "    total_paid = monthly_payment * term_mths\n",
    "    total_paid_26 = monthly_payment_26 * term_mths\n",
    "    total_interest_paid = total_paid - loan_amt\n",
    "    total_interest_paid_26 = total_paid_26 - loan_amt_26\n",
    "    print(f\"\"\"\n",
    "    SOLAR LOAN CALCULATOR\n",
    "    {div*11}\n",
    "    APR: {apr*100}%\n",
    "    TERM: {term_yrs} years\n",
    "    PRICE PER WATT: ${price_per_watt}\n",
    "    TOTAL PANEL COST: ${total_panel_amt:,.2f}\n",
    "    LOAN FEES: ${loan_amt - total_panel_amt:,.2f}\n",
    "    FEE %: {(loan_amt - total_panel_amt) / loan_amt * 100:.1f}\n",
    "    {div2*11}\n",
    "    \\t\\t\\t\\t|Full Amt.\\t|26%\n",
    "    {div2*11}\n",
    "    LOAN AMOUNT:\\t\\t|${loan_amt:,.0f}\\t|${loan_amt_26:,.0f}\n",
    "    MONTHLY PAYMENT:\\t\\t|${monthly_payment:,.2f}\\t|${monthly_payment_26:,.02f}\n",
    "    TOTAL PAID:\\t\\t\\t|${total_paid:,.2f}\\t|${total_paid_26:,.2f}\n",
    "    TOTAL INTEREST:\\t\\t|${total_interest_paid:,.2f}\\t|${total_interest_paid_26:,.2f}\n",
    "    {div2*11}\n",
    "    TOTAL NON-PANEL COST: ${total_interest_paid + (loan_amt - total_panel_amt):,.2f}\"\"\")"
   ]
  },
  {
   "cell_type": "code",
   "execution_count": 7,
   "metadata": {},
   "outputs": [
    {
     "data": {
      "text/plain": [
       "4440.0"
      ]
     },
     "execution_count": 7,
     "metadata": {},
     "output_type": "execute_result"
    }
   ],
   "source": [
    "(14.8*1000*3) - (14.8*1000*2.7)"
   ]
  },
  {
   "cell_type": "code",
   "execution_count": 9,
   "metadata": {},
   "outputs": [
    {
     "name": "stdout",
     "output_type": "stream",
     "text": [
      "\n",
      "    SOLAR LOAN CALCULATOR\n",
      "    =======================================================\n",
      "    APR: 1.49%\n",
      "    TERM: 25 years\n",
      "    PRICE PER WATT: $3\n",
      "    TOTAL PANEL COST: $44,400.00\n",
      "    LOAN FEES: $19,707.00\n",
      "    FEE %: 30.7\n",
      "    -------------------------------------------------------\n",
      "    \t\t\t\t|Full Amt.\t|26%\n",
      "    -------------------------------------------------------\n",
      "    LOAN AMOUNT:\t\t|$64,107\t|$47,439\n",
      "    MONTHLY PAYMENT:\t\t|$256.09\t|$189.50\n",
      "    TOTAL PAID:\t\t\t|$76,825.83\t|$56,851.11\n",
      "    TOTAL INTEREST:\t\t|$12,718.83\t|$9,411.93\n",
      "    -------------------------------------------------------\n",
      "    TOTAL NON-PANEL COST: $32,425.83\n"
     ]
    }
   ],
   "source": [
    "loan_amt = 64107\n",
    "apr = 1.49\n",
    "term = 25\n",
    "price_per_watt = 3\n",
    "kw_system = 14.8\n",
    "\n",
    "month_loan_payment(loan_amt, apr, term, 3, 14.8)\n"
   ]
  },
  {
   "cell_type": "code",
   "execution_count": 10,
   "metadata": {},
   "outputs": [
    {
     "name": "stdout",
     "output_type": "stream",
     "text": [
      "\n",
      "    SOLAR LOAN CALCULATOR\n",
      "    =======================================================\n",
      "    APR: 1.49%\n",
      "    TERM: 25 years\n",
      "    PRICE PER WATT: $2.8\n",
      "    TOTAL PANEL COST: $41,440.00\n",
      "    LOAN FEES: $18,227.00\n",
      "    FEE %: 30.5\n",
      "    -------------------------------------------------------\n",
      "    \t\t\t\t|Full Amt.\t|26%\n",
      "    -------------------------------------------------------\n",
      "    LOAN AMOUNT:\t\t|$59,667\t|$44,154\n",
      "    MONTHLY PAYMENT:\t\t|$238.35\t|$176.38\n",
      "    TOTAL PAID:\t\t\t|$71,504.93\t|$52,913.65\n",
      "    TOTAL INTEREST:\t\t|$11,837.93\t|$8,760.07\n",
      "    -------------------------------------------------------\n",
      "    TOTAL NON-PANEL COST: $30,064.93\n"
     ]
    }
   ],
   "source": [
    "loan_amt = 64107-4440\n",
    "apr = 1.49\n",
    "term = 25\n",
    "price_per_watt = 2.8\n",
    "kw_system = 14.8\n",
    "\n",
    "month_loan_payment(loan_amt, apr, term, price_per_watt, kw_system)"
   ]
  }
 ],
 "metadata": {
  "kernelspec": {
   "display_name": "Python 3",
   "language": "python",
   "name": "python3"
  },
  "language_info": {
   "codemirror_mode": {
    "name": "ipython",
    "version": 3
   },
   "file_extension": ".py",
   "mimetype": "text/x-python",
   "name": "python",
   "nbconvert_exporter": "python",
   "pygments_lexer": "ipython3",
   "version": "3.8.5"
  }
 },
 "nbformat": 4,
 "nbformat_minor": 4
}
