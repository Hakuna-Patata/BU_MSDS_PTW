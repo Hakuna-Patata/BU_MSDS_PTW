{
 "cells": [
  {
   "cell_type": "markdown",
   "id": "22cf47f1-9a92-4aa3-8085-a3148e5e6a74",
   "metadata": {
    "tags": []
   },
   "source": [
    "# <span style=\"color:#bce35b\">Probability Distribution Functions</span>"
   ]
  },
  {
   "cell_type": "markdown",
   "id": "db5bd920-9acf-4e77-924c-23b9916850c7",
   "metadata": {},
   "source": [
    "Import modules"
   ]
  },
  {
   "cell_type": "code",
   "execution_count": 262,
   "id": "658ed8a0-40c6-4d9b-9569-68db89fcda3d",
   "metadata": {},
   "outputs": [],
   "source": [
    "%matplotlib inline\n",
    "import matplotlib.pyplot as plt\n",
    "import pandas as pd\n",
    "import numpy as np\n",
    "import os\n",
    "from pydataset import data\n",
    "import seaborn as sns\n",
    "import statistics\n",
    "from scipy.stats import norm\n",
    "from scipy import stats"
   ]
  },
  {
   "cell_type": "markdown",
   "id": "2d4b0a7d-b4bf-4a1d-9117-98bce0121ac5",
   "metadata": {},
   "source": [
    "<br>\n",
    "\n",
    "Create dataframe for analysis"
   ]
  },
  {
   "cell_type": "markdown",
   "id": "f602f98a-1d71-453e-9b3a-d4b8db736a1f",
   "metadata": {},
   "source": [
    "<br>\n",
    "\n",
    "## <span style=\"color:#ae8bd5\">Probability Mass Function (PMF)</span>\n",
    "\n",
    "- Instead of frequency like a histogram shows, a Probability Mass Function will output the probability for each value.\n",
    "- Not good for distributions with a lot of distinct values. Will produce a lot of noise.\n",
    "- Sum of all probabilities must equal 1\n",
    "\n",
    "$f(x)=\\left\\{\\begin{matrix}\\frac{1}{b-a}\n",
    " & a<= x <= b \\\\ 0\n",
    " & otherwise\n",
    "\\end{matrix}\\right.$"
   ]
  },
  {
   "cell_type": "markdown",
   "id": "39a2b61f-f38a-4008-8df7-36a99b7c5088",
   "metadata": {},
   "source": [
    "<br>\n",
    "\n",
    "## <span style=\"color:#ae8bd5\">Cumulative Distribution Function (CDF)</span>\n",
    "\n",
    "- The probability that x will have a value less than (or equal depending on who you ask) x.\n",
    "- Every CDF is non-decreasing while iterating over x. This is because the probability for x is accumulated from previous values.\n",
    "- The entire function must be equal to 1.\n",
    "- The function ranges from 0 to 1.\n",
    "\n",
    "$FX(x)=P(X\\leq x)$"
   ]
  },
  {
   "cell_type": "markdown",
   "id": "734ca63f-e892-45e0-8072-49ee3a391c5c",
   "metadata": {},
   "source": [
    "<br> \n",
    "\n",
    "## <span style=\"color:#ae8bd5\">Probability Density Function</span>"
   ]
  },
  {
   "cell_type": "markdown",
   "id": "c715c239-d1ed-4c76-973d-655d0e675304",
   "metadata": {},
   "source": [
    "<br>\n",
    "\n",
    "## <span style=\"color:#ae8bd5\">Kernel Density Function</span>"
   ]
  },
  {
   "cell_type": "markdown",
   "id": "1faca75f-53e1-4a93-9797-2926919f6aca",
   "metadata": {},
   "source": [
    "## <span style=\"color:#ae8bd5\">Different Distributions</span>"
   ]
  },
  {
   "cell_type": "markdown",
   "id": "e846cb47-c259-4ef1-8012-fbc9218dd27d",
   "metadata": {},
   "source": [
    "\n",
    "### Uniform Distribution"
   ]
  },
  {
   "cell_type": "markdown",
   "id": "c8cc71e5-49f1-45fe-88c6-edb9ca363a2c",
   "metadata": {},
   "source": [
    "#### <span style=\"color:gray\">Probability Mass Function (PMF)</span>\n",
    "\n",
    "For discrete variables with not so many values, we can use a PMF function which maps the value to it's probability (aka %)."
   ]
  },
  {
   "cell_type": "code",
   "execution_count": 24,
   "id": "5ac8f38e-14b7-433f-ad15-214de95aaa19",
   "metadata": {},
   "outputs": [
    {
     "data": {
      "image/png": "[encoded data removed]",
      "text/plain": [
       "<Figure size 576x432 with 2 Axes>"
      ]
     },
     "metadata": {
      "needs_background": "light"
     },
     "output_type": "display_data"
    }
   ],
   "source": [
    "n = 1000\n",
    "\n",
    "# set seed for random data\n",
    "rng = np.random.default_rng(seed=777)\n",
    "\n",
    "# from seed object, create discrete uniform distribution\n",
    "uniform_disc = rng.integers(low=1, high=7, size=n)\n",
    "\n",
    "# from uniform array, get unique value array and counts array\n",
    "val, cnt = np.unique(uniform_disc, return_counts=True)\n",
    "\n",
    "# from counts array, calculate the probability mass function (PMF)\n",
    "prob = cnt/len(uniform_disc)\n",
    "\n",
    "# plot the histogram and pmf graph\n",
    "fig, axs = plt.subplots(nrows=2, figsize=(8,6))\n",
    "plt.subplots_adjust(hspace=.5)  # adjust row space between graphs\n",
    "\n",
    "axs[0].set_title('Histogram')\n",
    "axs[0].bar(val, cnt)\n",
    "axs[0].set_xlabel('X')\n",
    "axs[0].set_ylabel('Frequency')\n",
    "\n",
    "axs[1].set_title('PMF')\n",
    "axs[1].bar(val, prob)\n",
    "axs[1].set_xlabel('X')\n",
    "axs[1].set_ylabel('Probability p(x)')\n",
    "\n",
    "plt.suptitle('Uniform Discrete', size=16, weight='bold')\n",
    "plt.show()\n"
   ]
  },
  {
   "cell_type": "markdown",
   "id": "d303ce49-9a26-420f-94be-668e63f9be0e",
   "metadata": {},
   "source": [
    "<br>\n",
    "\n",
    "<u>Uniform Continuous</u>\n",
    "\n",
    "Below, as you can see, PMF does not work well when the variable is not discrete and has many values. The more values there are, the more noise is produced. For this type of data a Cumulative Distribution Function (CDF) or Probability Density Function (PDF) would be a better function for the data."
   ]
  },
  {
   "cell_type": "code",
   "execution_count": 18,
   "id": "db967276-aa86-4aa5-bc8a-70980f656e46",
   "metadata": {},
   "outputs": [
    {
     "data": {
      "image/png": "[encoded data removed]",
      "text/plain": [
       "<Figure size 432x288 with 1 Axes>"
      ]
     },
     "metadata": {
      "needs_background": "light"
     },
     "output_type": "display_data"
    }
   ],
   "source": [
    "n = 1000\n",
    "\n",
    "rng = np.random.default_rng(seed=777)\n",
    "\n",
    "uniform_cont = rng.uniform(low=1, high=7, size=n)\n",
    "\n",
    "val, cnt = np.unique(uniform_cont, return_counts=True)\n",
    "\n",
    "prob = cnt/len(uniform_cont)\n",
    "\n",
    "plt.bar(val, prob, width=.01)\n",
    "plt.title('PMF with many distinct values')\n",
    "plt.show()"
   ]
  },
  {
   "cell_type": "markdown",
   "id": "40381c65-4354-41f4-b0b9-a2463ecca247",
   "metadata": {},
   "source": [
    "<br>\n",
    "\n",
    "#### <span style=\"color:gray\">Cumulative Distribution Function (CDF)</span>"
   ]
  },
  {
   "cell_type": "markdown",
   "id": "3e753776-7af5-41d9-a616-bbb333ee0e9d",
   "metadata": {},
   "source": [
    "As the name suggests, we'll be adding up probabilities up to a certain value. \n",
    "- One way to think of it like percentiles. We're basically evaluating how many values that are less than or equal to the value in question divided by the total number of values. \n",
    "- Taking the derivative of $FX(x)$ = Probabiity Density Function (PDF)\n",
    "\n",
    "<br>\n",
    "\n",
    "$FX(x)=P(X\\leq x)$\n",
    "\n"
   ]
  },
  {
   "cell_type": "markdown",
   "id": "519983c5-7de8-4f1d-aba3-c536935955f2",
   "metadata": {},
   "source": [
    "<br>\n",
    "\n",
    "<u>Uniform Discrete</u>"
   ]
  },
  {
   "cell_type": "code",
   "execution_count": 166,
   "id": "a56e5474-2a9f-40c9-8f3d-ef5b41f33817",
   "metadata": {},
   "outputs": [
    {
     "data": {
      "image/png": "[encoded data removed]",
      "text/plain": [
       "<Figure size 576x432 with 2 Axes>"
      ]
     },
     "metadata": {
      "needs_background": "light"
     },
     "output_type": "display_data"
    }
   ],
   "source": [
    "n = 1000\n",
    "\n",
    "# set seed for random data\n",
    "rng = np.random.default_rng(seed=777)\n",
    "\n",
    "# from seed object, create discrete uniform distribution\n",
    "uniform_disc = rng.integers(low=1, high=7, size=n)\n",
    "uniform_disc.sort()\n",
    "\n",
    "# from uniform array, get unique value array and counts array\n",
    "x, cnt = np.unique(uniform_disc, return_counts=True)\n",
    "\n",
    "# from counts array, calculate the probability mass function (PMF)\n",
    "prob = cnt/len(uniform_disc)\n",
    "\n",
    "# from values, create CDF\n",
    "sample_size = len(uniform_disc)\n",
    "cdf_dict = {}\n",
    "for count, val in enumerate(uniform_disc, start=1):\n",
    "    cdf_dict[val] = count/sample_size\n",
    "    \n",
    "cdf_x, cumulative_prob = zip(*cdf_dict.items())\n",
    "\n",
    "# plot the pmf and cdf graph\n",
    "fig, axs = plt.subplots(nrows=2, figsize=(8,6))\n",
    "plt.subplots_adjust(hspace=.5)  # adjust row space between graphs\n",
    "\n",
    "axs[0].set_title('PMF')\n",
    "axs[0].bar(x, prob)\n",
    "axs[0].set_xlabel('X')\n",
    "axs[0].set_ylabel('Probability p(x)')\n",
    "\n",
    "axs[1].set_title('CDF')\n",
    "axs[1].bar(cdf_x, cumulative_prob)\n",
    "axs[1].set_xlabel('X')\n",
    "axs[1].set_ylabel('Cumulative Probability p(x)')\n",
    "\n",
    "plt.suptitle('Uniform Discrete', size=16, weight='bold')\n",
    "plt.show()"
   ]
  },
  {
   "cell_type": "code",
   "execution_count": 167,
   "id": "8d7d66b6-fc7d-4996-9b13-1a2b11214900",
   "metadata": {},
   "outputs": [
    {
     "data": {
      "text/plain": [
       "Text(0, 0.5, 'Cumalitive Probability (CDF)')"
      ]
     },
     "execution_count": 259,
     "metadata": {},
     "output_type": "execute_result"
    },
    {
     "data": {
      "image/png": "[encoded data removed]",
      "text/plain": [
       "<Figure size 432x288 with 1 Axes>"
      ]
     },
     "metadata": {
      "needs_background": "light"
     },
     "output_type": "display_data"
    }
   ],
   "source": [
    "n = 1000\n",
    "\n",
    "rng = np.random.default_rng(seed=777)\n",
    "\n",
    "uniform_cont = rng.uniform(low=1, high=7, size=n)\n",
    "\n",
    "sample_size = len(uniform_cont)\n",
    "\n",
    "uniform_cont.sort()\n",
    "\n",
    "cdf_dict = {}\n",
    "\n",
    "for count, val in enumerate(uniform_cont, start=1):\n",
    "    cdf_dict[val] = count/sample_size\n",
    "    \n",
    "cdf_x, cdf = zip(*cdf_dict.items())\n",
    "\n",
    "plt.plot(cdf_x, cdf)\n",
    "plt.title('Uniform CDF')\n",
    "plt.ylabel('Cumalitive Probability (CDF)')"
   ]
  },
  {
   "cell_type": "markdown",
   "id": "eb526337-10a2-458e-9c02-97676b0de58a",
   "metadata": {},
   "source": [
    "<br>\n",
    "\n",
    "#### <span style=\"color:gray\">Probability Density Function (PDF)</span>\n",
    "\n",
    "The probability density function show the rate of changes for a Cumulative Distribution Function (CDF). So getting the derivative of the CDF at each value of x will give you the PDF. "
   ]
  },
  {
   "cell_type": "code",
   "execution_count": 260,
   "id": "16c8412b-a6ea-457c-8dff-5fff849006da",
   "metadata": {},
   "outputs": [
    {
     "data": {
      "text/plain": [
       "<matplotlib.legend.Legend at 0x1912156ce50>"
      ]
     },
     "execution_count": 260,
     "metadata": {},
     "output_type": "execute_result"
    },
    {
     "data": {
      "image/png": "[encoded data removed]",
      "text/plain": [
       "<Figure size 432x288 with 1 Axes>"
      ]
     },
     "metadata": {
      "needs_background": "light"
     },
     "output_type": "display_data"
    }
   ],
   "source": [
    "n = 1000\n",
    "\n",
    "rng = np.random.default_rng(seed=777)\n",
    "\n",
    "uniform_cont = rng.uniform(low=1, high=7, size=n)\n",
    "\n",
    "sample_size = len(uniform_cont)\n",
    "\n",
    "uniform_cont.sort()\n",
    "\n",
    "cdf_dict = {}\n",
    "\n",
    "for count, val in enumerate(uniform_cont, start=1):\n",
    "    cdf_dict[val] = count/sample_size\n",
    "    \n",
    "x, cdf = zip(*cdf_dict.items())\n",
    "\n",
    "## using np.diff, get PDF\n",
    "dx = np.diff(x, prepend=0)\n",
    "dy = np.diff(cdf, prepend=0)\n",
    "pdf = dy/dx\n",
    "\n",
    "## using np.gradient, get PDF\n",
    "dx2 = np.gradient(x)\n",
    "dy2 = np.gradient(cdf)\n",
    "pdf2 = dy2/dx2\n",
    "\n",
    "plt.plot(x, pdf, label='NumPy Diff')\n",
    "plt.plot(x, pdf2, label='NumPy Gradient')\n",
    "plt.legend()"
   ]
  },
  {
   "cell_type": "code",
   "execution_count": null,
   "id": "3081bdd1-a378-4ce2-9cee-2d4c372af0b4",
   "metadata": {},
   "outputs": [],
   "source": [
    "n = 1000\n",
    "mean = 0\n",
    "std = 1\n",
    "\n",
    "rng = np.random.default_rng(seed=777)  # set seed to get reproducable work\n",
    "\n",
    "uniform_cont = rng.uniform(low=1, high=7, size=n)\n",
    "\n",
    "normal_disc.sort()  # sort normal distribution\n",
    "\n",
    "normal_disc_dict = {}  # instantiate dictionary\n",
    "\n",
    "\n",
    "## loop through sorted distribution to get CDF\n",
    "for i, val in enumerate(normal_disc, start=1):\n",
    "    normal_disc_dict[val] = i/len(normal_disc)\n",
    "    \n",
    "\n",
    "## pull x values and CDF from dictionary\n",
    "x, cdf = zip(*normal_disc_dict.items())\n",
    "\n",
    "## using np.diff\n",
    "dx = np.diff(x, prepend=0)\n",
    "dy = np.diff(cdf, prepend=0)\n",
    "\n",
    "## using np.gradient\n",
    "dx2 = np.gradient(x)\n",
    "dy2 = np.gradient(cdf)\n",
    "\n",
    "## plotting results\n",
    "plt.plot(x, dy/dx)\n",
    "plt.plot(x, dy2/dx2)"
   ]
  },
  {
   "cell_type": "markdown",
   "id": "1eda41fe-dcd1-4f97-a1f4-418df4864f75",
   "metadata": {},
   "source": [
    "<br>\n",
    "\n",
    "### Normal Distribution"
   ]
  },
  {
   "cell_type": "markdown",
   "id": "f85cf2c3-bacd-42f7-bc68-3eacde45afa9",
   "metadata": {},
   "source": [
    "<br>\n",
    "\n",
    "#### <span style=\"color:gray\">Probability Mass Function (PMF)</span>"
   ]
  },
  {
   "cell_type": "markdown",
   "id": "20c903e5-f27e-416d-8e4c-53994645bfe8",
   "metadata": {},
   "source": [
    "<u>Normal Discrete</u>"
   ]
  },
  {
   "cell_type": "code",
   "execution_count": 141,
   "id": "43137175-5e5c-4513-be6b-df76e66c90e7",
   "metadata": {},
   "outputs": [
    {
     "data": {
      "image/png": "[encoded data removed]",
      "text/plain": [
       "<Figure size 576x432 with 2 Axes>"
      ]
     },
     "metadata": {
      "needs_background": "light"
     },
     "output_type": "display_data"
    }
   ],
   "source": [
    "n = 1000\n",
    "mean = 0\n",
    "std = 1\n",
    "\n",
    "rng = np.random.default_rng(seed=777)\n",
    "\n",
    "normal_disc = rng.normal(loc=mean, scale=std, size=n)\n",
    "\n",
    "normal_disc = np.around(normal_disc, 1)\n",
    "\n",
    "# from normal array, get unique value array and counts array\n",
    "val, cnt = np.unique(normal_disc, return_counts=True)\n",
    "\n",
    "# from counts array, calculate the probability mass function (PMF)\n",
    "prob = cnt/len(uniform_disc)\n",
    "\n",
    "# plot the histogram and pmf graph\n",
    "fig, axs = plt.subplots(nrows=2, figsize=(8,6))\n",
    "plt.subplots_adjust(hspace=.5)  # adjust row space between graphs\n",
    "\n",
    "axs[0].set_title('Histogram')\n",
    "axs[0].bar(val, cnt)\n",
    "axs[0].set_xlabel('X')\n",
    "axs[0].set_ylabel('Frequency')\n",
    "\n",
    "axs[1].set_title('PMF')\n",
    "axs[1].bar(val, prob)\n",
    "axs[1].set_xlabel('X')\n",
    "axs[1].set_ylabel('Probability p(x)')\n",
    "\n",
    "plt.suptitle('Normal Discrete', size=16, weight='bold')\n",
    "plt.show()"
   ]
  },
  {
   "cell_type": "markdown",
   "id": "ed889aa1-d22d-444d-bc31-a076f63b4695",
   "metadata": {},
   "source": [
    "<br>\n",
    "\n",
    "#### <span style=\"color:gray\">Cumulative Distribution Function (CDF)</span>"
   ]
  },
  {
   "cell_type": "code",
   "execution_count": 290,
   "id": "601fa365-a959-474b-9410-45202aea2553",
   "metadata": {},
   "outputs": [
    {
     "data": {
      "text/plain": [
       "Text(0, 0.5, 'Cumulative Probability')"
      ]
     },
     "execution_count": 290,
     "metadata": {},
     "output_type": "execute_result"
    },
    {
     "data": {
      "image/png": "[encoded data removed]",
      "text/plain": [
       "<Figure size 432x288 with 1 Axes>"
      ]
     },
     "metadata": {
      "needs_background": "light"
     },
     "output_type": "display_data"
    }
   ],
   "source": [
    "n = 1000\n",
    "mean = 0\n",
    "std = 1\n",
    "\n",
    "rng = np.random.default_rng(seed=777)  # set seed to get reproducable work\n",
    "\n",
    "normal_disc = rng.normal(loc=mean, scale=std, size=n)  # get normal sample\n",
    "\n",
    "normal_disc = np.around(normal_disc, 1)  # round to get discrete values\n",
    "\n",
    "normal_disc.sort()  # sort normal distribution\n",
    "\n",
    "normal_disc_dict = {}  # instantiate dictionary\n",
    "\n",
    "\n",
    "## loop through sorted distribution to get CDF\n",
    "for i, val in enumerate(normal_disc, start=1):\n",
    "    normal_disc_dict[val] = i/len(normal_disc)\n",
    "    \n",
    "\n",
    "## pull x values and CDF from dictionary\n",
    "x, cdf = zip(*normal_disc_dict.items())\n",
    "\n",
    "## plot the results\n",
    "plt.plot(x, cdf)\n",
    "plt.suptitle('Normal Discrete', size=16, weight='bold')\n",
    "plt.title('CDF')\n",
    "plt.ylabel('Cumulative Probability')"
   ]
  },
  {
   "cell_type": "markdown",
   "id": "a493c4d7-9ac4-4785-8b8a-9d7942d6e10d",
   "metadata": {},
   "source": [
    "<br>\n",
    "\n",
    "#### <span style=\"color:gray\">Kernel Density Estimation (KDE)</span>"
   ]
  },
  {
   "cell_type": "code",
   "execution_count": 319,
   "id": "b6ed6027-4416-4f50-b8ba-490e02f13164",
   "metadata": {},
   "outputs": [
    {
     "ename": "AttributeError",
     "evalue": "'Rectangle' object has no property 'fit'",
     "output_type": "error",
     "traceback": [
      "\u001b[1;31m---------------------------------------------------------------------------\u001b[0m",
      "\u001b[1;31mAttributeError\u001b[0m                            Traceback (most recent call last)",
      "\u001b[1;32m<ipython-input-319-9c815e08ad6f>\u001b[0m in \u001b[0;36m<module>\u001b[1;34m\u001b[0m\n\u001b[0;32m     22\u001b[0m \u001b[1;33m\u001b[0m\u001b[0m\n\u001b[0;32m     23\u001b[0m \u001b[1;31m## plotting estimated PDF using Kernel Density Function\u001b[0m\u001b[1;33m\u001b[0m\u001b[1;33m\u001b[0m\u001b[1;33m\u001b[0m\u001b[0m\n\u001b[1;32m---> 24\u001b[1;33m \u001b[0msns\u001b[0m\u001b[1;33m.\u001b[0m\u001b[0mdisplot\u001b[0m\u001b[1;33m(\u001b[0m\u001b[0mx\u001b[0m\u001b[1;33m,\u001b[0m \u001b[0mkde\u001b[0m\u001b[1;33m=\u001b[0m\u001b[1;32mTrue\u001b[0m\u001b[1;33m,\u001b[0m \u001b[0mfit\u001b[0m\u001b[1;33m=\u001b[0m\u001b[0mnorm\u001b[0m\u001b[1;33m)\u001b[0m\u001b[1;33m\u001b[0m\u001b[1;33m\u001b[0m\u001b[0m\n\u001b[0m",
      "\u001b[1;32m~\\Anaconda3\\lib\\site-packages\\seaborn\\distributions.py\u001b[0m in \u001b[0;36mdisplot\u001b[1;34m(data, x, y, hue, row, col, weights, kind, rug, rug_kws, log_scale, legend, palette, hue_order, hue_norm, color, col_wrap, row_order, col_order, height, aspect, facet_kws, **kwargs)\u001b[0m\n\u001b[0;32m   2222\u001b[0m \u001b[1;33m\u001b[0m\u001b[0m\n\u001b[0;32m   2223\u001b[0m             \u001b[0m_assign_default_kwargs\u001b[0m\u001b[1;33m(\u001b[0m\u001b[0mhist_kws\u001b[0m\u001b[1;33m,\u001b[0m \u001b[0mp\u001b[0m\u001b[1;33m.\u001b[0m\u001b[0mplot_univariate_histogram\u001b[0m\u001b[1;33m,\u001b[0m \u001b[0mhistplot\u001b[0m\u001b[1;33m)\u001b[0m\u001b[1;33m\u001b[0m\u001b[1;33m\u001b[0m\u001b[0m\n\u001b[1;32m-> 2224\u001b[1;33m             \u001b[0mp\u001b[0m\u001b[1;33m.\u001b[0m\u001b[0mplot_univariate_histogram\u001b[0m\u001b[1;33m(\u001b[0m\u001b[1;33m**\u001b[0m\u001b[0mhist_kws\u001b[0m\u001b[1;33m)\u001b[0m\u001b[1;33m\u001b[0m\u001b[1;33m\u001b[0m\u001b[0m\n\u001b[0m\u001b[0;32m   2225\u001b[0m \u001b[1;33m\u001b[0m\u001b[0m\n\u001b[0;32m   2226\u001b[0m         \u001b[1;32melse\u001b[0m\u001b[1;33m:\u001b[0m\u001b[1;33m\u001b[0m\u001b[1;33m\u001b[0m\u001b[0m\n",
      "\u001b[1;32m~\\Anaconda3\\lib\\site-packages\\seaborn\\distributions.py\u001b[0m in \u001b[0;36mplot_univariate_histogram\u001b[1;34m(self, multiple, element, fill, common_norm, common_bins, shrink, kde, kde_kws, color, legend, line_kws, estimate_kws, **plot_kws)\u001b[0m\n\u001b[0;32m    552\u001b[0m                 \u001b[0mplot_func\u001b[0m \u001b[1;33m=\u001b[0m \u001b[0max\u001b[0m\u001b[1;33m.\u001b[0m\u001b[0mbar\u001b[0m \u001b[1;32mif\u001b[0m \u001b[0mself\u001b[0m\u001b[1;33m.\u001b[0m\u001b[0mdata_variable\u001b[0m \u001b[1;33m==\u001b[0m \u001b[1;34m\"x\"\u001b[0m \u001b[1;32melse\u001b[0m \u001b[0max\u001b[0m\u001b[1;33m.\u001b[0m\u001b[0mbarh\u001b[0m\u001b[1;33m\u001b[0m\u001b[1;33m\u001b[0m\u001b[0m\n\u001b[0;32m    553\u001b[0m                 \u001b[0mmove\u001b[0m \u001b[1;33m=\u001b[0m \u001b[1;36m.5\u001b[0m \u001b[1;33m*\u001b[0m \u001b[1;33m(\u001b[0m\u001b[1;36m1\u001b[0m \u001b[1;33m-\u001b[0m \u001b[0mshrink\u001b[0m\u001b[1;33m)\u001b[0m\u001b[1;33m\u001b[0m\u001b[1;33m\u001b[0m\u001b[0m\n\u001b[1;32m--> 554\u001b[1;33m                 artists = plot_func(\n\u001b[0m\u001b[0;32m    555\u001b[0m                     \u001b[0mhist\u001b[0m\u001b[1;33m[\u001b[0m\u001b[1;34m\"edges\"\u001b[0m\u001b[1;33m]\u001b[0m \u001b[1;33m+\u001b[0m \u001b[0mmove\u001b[0m\u001b[1;33m,\u001b[0m\u001b[1;33m\u001b[0m\u001b[1;33m\u001b[0m\u001b[0m\n\u001b[0;32m    556\u001b[0m                     \u001b[0mhist\u001b[0m\u001b[1;33m[\u001b[0m\u001b[1;34m\"heights\"\u001b[0m\u001b[1;33m]\u001b[0m \u001b[1;33m-\u001b[0m \u001b[0mbottom\u001b[0m\u001b[1;33m,\u001b[0m\u001b[1;33m\u001b[0m\u001b[1;33m\u001b[0m\u001b[0m\n",
      "\u001b[1;32m~\\Anaconda3\\lib\\site-packages\\matplotlib\\__init__.py\u001b[0m in \u001b[0;36minner\u001b[1;34m(ax, data, *args, **kwargs)\u001b[0m\n\u001b[0;32m   1436\u001b[0m     \u001b[1;32mdef\u001b[0m \u001b[0minner\u001b[0m\u001b[1;33m(\u001b[0m\u001b[0max\u001b[0m\u001b[1;33m,\u001b[0m \u001b[1;33m*\u001b[0m\u001b[0margs\u001b[0m\u001b[1;33m,\u001b[0m \u001b[0mdata\u001b[0m\u001b[1;33m=\u001b[0m\u001b[1;32mNone\u001b[0m\u001b[1;33m,\u001b[0m \u001b[1;33m**\u001b[0m\u001b[0mkwargs\u001b[0m\u001b[1;33m)\u001b[0m\u001b[1;33m:\u001b[0m\u001b[1;33m\u001b[0m\u001b[1;33m\u001b[0m\u001b[0m\n\u001b[0;32m   1437\u001b[0m         \u001b[1;32mif\u001b[0m \u001b[0mdata\u001b[0m \u001b[1;32mis\u001b[0m \u001b[1;32mNone\u001b[0m\u001b[1;33m:\u001b[0m\u001b[1;33m\u001b[0m\u001b[1;33m\u001b[0m\u001b[0m\n\u001b[1;32m-> 1438\u001b[1;33m             \u001b[1;32mreturn\u001b[0m \u001b[0mfunc\u001b[0m\u001b[1;33m(\u001b[0m\u001b[0max\u001b[0m\u001b[1;33m,\u001b[0m \u001b[1;33m*\u001b[0m\u001b[0mmap\u001b[0m\u001b[1;33m(\u001b[0m\u001b[0msanitize_sequence\u001b[0m\u001b[1;33m,\u001b[0m \u001b[0margs\u001b[0m\u001b[1;33m)\u001b[0m\u001b[1;33m,\u001b[0m \u001b[1;33m**\u001b[0m\u001b[0mkwargs\u001b[0m\u001b[1;33m)\u001b[0m\u001b[1;33m\u001b[0m\u001b[1;33m\u001b[0m\u001b[0m\n\u001b[0m\u001b[0;32m   1439\u001b[0m \u001b[1;33m\u001b[0m\u001b[0m\n\u001b[0;32m   1440\u001b[0m         \u001b[0mbound\u001b[0m \u001b[1;33m=\u001b[0m \u001b[0mnew_sig\u001b[0m\u001b[1;33m.\u001b[0m\u001b[0mbind\u001b[0m\u001b[1;33m(\u001b[0m\u001b[0max\u001b[0m\u001b[1;33m,\u001b[0m \u001b[1;33m*\u001b[0m\u001b[0margs\u001b[0m\u001b[1;33m,\u001b[0m \u001b[1;33m**\u001b[0m\u001b[0mkwargs\u001b[0m\u001b[1;33m)\u001b[0m\u001b[1;33m\u001b[0m\u001b[1;33m\u001b[0m\u001b[0m\n",
      "\u001b[1;32m~\\Anaconda3\\lib\\site-packages\\matplotlib\\axes\\_axes.py\u001b[0m in \u001b[0;36mbar\u001b[1;34m(self, x, height, width, bottom, align, **kwargs)\u001b[0m\n\u001b[0;32m   2486\u001b[0m                 \u001b[0mlabel\u001b[0m\u001b[1;33m=\u001b[0m\u001b[1;34m'_nolegend_'\u001b[0m\u001b[1;33m,\u001b[0m\u001b[1;33m\u001b[0m\u001b[1;33m\u001b[0m\u001b[0m\n\u001b[0;32m   2487\u001b[0m                 )\n\u001b[1;32m-> 2488\u001b[1;33m             \u001b[0mr\u001b[0m\u001b[1;33m.\u001b[0m\u001b[0mupdate\u001b[0m\u001b[1;33m(\u001b[0m\u001b[0mkwargs\u001b[0m\u001b[1;33m)\u001b[0m\u001b[1;33m\u001b[0m\u001b[1;33m\u001b[0m\u001b[0m\n\u001b[0m\u001b[0;32m   2489\u001b[0m             \u001b[0mr\u001b[0m\u001b[1;33m.\u001b[0m\u001b[0mget_path\u001b[0m\u001b[1;33m(\u001b[0m\u001b[1;33m)\u001b[0m\u001b[1;33m.\u001b[0m\u001b[0m_interpolation_steps\u001b[0m \u001b[1;33m=\u001b[0m \u001b[1;36m100\u001b[0m\u001b[1;33m\u001b[0m\u001b[1;33m\u001b[0m\u001b[0m\n\u001b[0;32m   2490\u001b[0m             \u001b[1;32mif\u001b[0m \u001b[0morientation\u001b[0m \u001b[1;33m==\u001b[0m \u001b[1;34m'vertical'\u001b[0m\u001b[1;33m:\u001b[0m\u001b[1;33m\u001b[0m\u001b[1;33m\u001b[0m\u001b[0m\n",
      "\u001b[1;32m~\\Anaconda3\\lib\\site-packages\\matplotlib\\artist.py\u001b[0m in \u001b[0;36mupdate\u001b[1;34m(self, props)\u001b[0m\n\u001b[0;32m    994\u001b[0m                     \u001b[0mfunc\u001b[0m \u001b[1;33m=\u001b[0m \u001b[0mgetattr\u001b[0m\u001b[1;33m(\u001b[0m\u001b[0mself\u001b[0m\u001b[1;33m,\u001b[0m \u001b[1;34mf\"set_{k}\"\u001b[0m\u001b[1;33m,\u001b[0m \u001b[1;32mNone\u001b[0m\u001b[1;33m)\u001b[0m\u001b[1;33m\u001b[0m\u001b[1;33m\u001b[0m\u001b[0m\n\u001b[0;32m    995\u001b[0m                     \u001b[1;32mif\u001b[0m \u001b[1;32mnot\u001b[0m \u001b[0mcallable\u001b[0m\u001b[1;33m(\u001b[0m\u001b[0mfunc\u001b[0m\u001b[1;33m)\u001b[0m\u001b[1;33m:\u001b[0m\u001b[1;33m\u001b[0m\u001b[1;33m\u001b[0m\u001b[0m\n\u001b[1;32m--> 996\u001b[1;33m                         raise AttributeError(f\"{type(self).__name__!r} object \"\n\u001b[0m\u001b[0;32m    997\u001b[0m                                              f\"has no property {k!r}\")\n\u001b[0;32m    998\u001b[0m                     \u001b[0mret\u001b[0m\u001b[1;33m.\u001b[0m\u001b[0mappend\u001b[0m\u001b[1;33m(\u001b[0m\u001b[0mfunc\u001b[0m\u001b[1;33m(\u001b[0m\u001b[0mv\u001b[0m\u001b[1;33m)\u001b[0m\u001b[1;33m)\u001b[0m\u001b[1;33m\u001b[0m\u001b[1;33m\u001b[0m\u001b[0m\n",
      "\u001b[1;31mAttributeError\u001b[0m: 'Rectangle' object has no property 'fit'"
     ]
    },
    {
     "data": {
      "image/png": "[encoded data removed]",
      "text/plain": [
       "<Figure size 360x360 with 1 Axes>"
      ]
     },
     "metadata": {
      "needs_background": "light"
     },
     "output_type": "display_data"
    }
   ],
   "source": [
    "n = 1000\n",
    "mean = 0\n",
    "std = 1\n",
    "\n",
    "rng = np.random.default_rng(seed=777)  # set seed to get reproducable work\n",
    "\n",
    "normal_cont = rng.normal(loc=mean, scale=std, size=n)  # get normal sample\n",
    "\n",
    "normal_cont.sort()  # sort normal distribution\n",
    "\n",
    "normal_cont_dict = {}  # instantiate dictionary\n",
    "\n",
    "\n",
    "## loop through sorted distribution to get CDF\n",
    "for i, val in enumerate(normal_cont, start=1):\n",
    "    normal_cont_dict[val] = i/len(normal_cont)\n",
    "    \n",
    "\n",
    "## pull x values and CDF from dictionary\n",
    "x, cdf = zip(*normal_cont_dict.items())\n",
    "\n",
    "\n",
    "## plotting estimated PDF using Kernel Density Function\n",
    "sns.displot(x, kde=True)\n"
   ]
  }
 ],
 "metadata": {
  "kernelspec": {
   "display_name": "Python 3",
   "language": "python",
   "name": "python3"
  },
  "language_info": {
   "codemirror_mode": {
    "name": "ipython",
    "version": 3
   },
   "file_extension": ".py",
   "mimetype": "text/x-python",
   "name": "python",
   "nbconvert_exporter": "python",
   "pygments_lexer": "ipython3",
   "version": "3.8.5"
  }
 },
 "nbformat": 4,
 "nbformat_minor": 5
}
