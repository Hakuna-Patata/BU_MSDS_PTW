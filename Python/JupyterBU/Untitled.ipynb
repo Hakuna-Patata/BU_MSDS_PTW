{
 "cells": [
  {
   "cell_type": "code",
   "execution_count": 2,
   "id": "1aec3ceb-8ec8-4ad1-9c97-cb83b42a2291",
   "metadata": {},
   "outputs": [
    {
     "data": {
      "text/plain": [
       "['c:\\\\users\\\\patri\\\\appdata\\\\local\\\\programs\\\\python\\\\python39',\n",
       " 'c:\\\\users\\\\patri\\\\appdata\\\\local\\\\programs\\\\python\\\\python39\\\\lib\\\\site-packages']"
      ]
     },
     "execution_count": 2,
     "metadata": {},
     "output_type": "execute_result"
    }
   ],
   "source": [
    "import site\n",
    "site.getsitepackages()"
   ]
  }
 ],
 "metadata": {
  "kernelspec": {
   "display_name": "Python 3",
   "language": "python",
   "name": "python3"
  },
  "language_info": {
   "codemirror_mode": {
    "name": "ipython",
    "version": 3
   },
   "file_extension": ".py",
   "mimetype": "text/x-python",
   "name": "python",
   "nbconvert_exporter": "python",
   "pygments_lexer": "ipython3",
   "version": "3.9.5"
  }
 },
 "nbformat": 4,
 "nbformat_minor": 5
}
