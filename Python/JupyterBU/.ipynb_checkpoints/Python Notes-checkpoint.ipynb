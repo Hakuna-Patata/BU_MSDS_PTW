{
 "cells": [
  {
   "cell_type": "markdown",
   "metadata": {},
   "source": [
    "<a id='Home'></a>\n",
    "\n",
    "# <font color=#1de30b>Python Notes</font>\n",
    "<font color='grey'>Patrick Weatherford</font>"
   ]
  },
  {
   "cell_type": "markdown",
   "metadata": {},
   "source": [
    "---\n",
    "---\n",
    "---\n",
    "<br>\n",
    "\n",
    "### <u>Table of Contents</u>\n",
    "\n",
    "- #### [Basic Commands/Operators](#BasicOperators)\n",
    "- #### [Loops](#Loop)\n",
    "- #### [Functions](#Function)\n",
    "- #### [Lists](#List)\n",
    "- #### [Dictionaries](#Dictionary)\n",
    "- #### [Working with Text Files](#TextFile)\n",
    "- #### [Exception Handling](#ExceptionHandling)\n",
    "\n",
    "<br>\n",
    "\n",
    "---\n",
    "---\n",
    "---"
   ]
  },
  {
   "cell_type": "markdown",
   "metadata": {},
   "source": [
    "<a id='BasicOperators'></a>\n",
    "### <font color=#1de30b>Basic Commands/Operators</font>\n",
    "---\n",
    "[*Home*](#Home) | [*Next*](#Loop)"
   ]
  },
  {
   "cell_type": "code",
   "execution_count": 17,
   "metadata": {},
   "outputs": [
    {
     "name": "stdout",
     "output_type": "stream",
     "text": [
      "The single quote here: ' is being escaped\n",
      "\n",
      "Variable var = 10\n",
      "Variable var x 20 = 200\n",
      "\n",
      "11\n",
      "9\n",
      "3\n",
      "3.3333333333333335\n",
      "1\n",
      "100\n"
     ]
    }
   ],
   "source": [
    "#The backslash '\\' is the escape character\n",
    "print('The single quote here: \\' is being escaped')\n",
    "\n",
    "#Superior use of 'f-string' argument vs. legacy print arguments. Cannot use escape character though so have to make variables for things you want to escape.\n",
    "var = 10\n",
    "nl = '\\n'\n",
    "print(f\"{nl}Variable var = {var}{nl}Variable var x 20 = {var*20}{nl}\")\n",
    "\n",
    "x=10\n",
    "#operators\n",
    "print(x+1)  # add\n",
    "print(x-1)  # subtract\n",
    "print(x//3)  # floor division\n",
    "print(x/3)  # float division\n",
    "print(x%3)  # modulo\n",
    "print(x**2)  # exponentiation\n",
    "\n"
   ]
  },
  {
   "cell_type": "code",
   "execution_count": 23,
   "metadata": {},
   "outputs": [
    {
     "name": "stdout",
     "output_type": "stream",
     "text": [
      "Enter anything: anything\n",
      "Enter a number: 1354\n",
      "This is a string: anything\n",
      "This is a number: 1354\n"
     ]
    }
   ],
   "source": [
    "#The input function allows user to enter value. Will always return value as string so will have\n",
    "#have to convert to number if needed after.\n",
    "\n",
    "#Example\n",
    "string_val = input('Enter anything: ')\n",
    "num_val = int(input('Enter a number: '))\n",
    "\n",
    "print('This is a string:',string_val) #space included when combining pieces via comma\n",
    "print('This is a number:',num_val)"
   ]
  },
  {
   "cell_type": "code",
   "execution_count": 24,
   "metadata": {},
   "outputs": [
    {
     "name": "stdout",
     "output_type": "stream",
     "text": [
      "10 is <class 'str'>\n",
      "10 is <class 'int'>\n",
      "10.0 is <class 'float'>\n"
     ]
    }
   ],
   "source": [
    "#Data type conversions\n",
    "\n",
    "x = 10 \n",
    "\n",
    "print(str(x),'is',type(str(x))) ##converts x to string\n",
    "print(int(x),'is',type(int(x))) ##converts x to integer\n",
    "print(float(x),'is',type(float(x))) ##converts x to float"
   ]
  },
  {
   "cell_type": "code",
   "execution_count": 25,
   "metadata": {},
   "outputs": [
    {
     "name": "stdout",
     "output_type": "stream",
     "text": [
      "Number is greater than or equal to 100\n"
     ]
    }
   ],
   "source": [
    "# 'if' statements\n",
    "\n",
    "num1 = 100\n",
    "\n",
    "#initial if statements\n",
    "if num1 < 50:\n",
    "    print('Number is less than 50')\n",
    "    \n",
    "#any preceding 'if' statements must be 'elif' or 'else'\n",
    "elif num1 >= 50 and num1 < 100:\n",
    "    print('Number is greater than or equal to 50 and less than 100')\n",
    "else:\n",
    "    print('Number is greater than or equal to 100')\n",
    "    "
   ]
  },
  {
   "cell_type": "code",
   "execution_count": 26,
   "metadata": {},
   "outputs": [
    {
     "name": "stdout",
     "output_type": "stream",
     "text": [
      "Number is 0\n"
     ]
    }
   ],
   "source": [
    "# One '=' sign asigns value, two '==' signs checks equality.\n",
    "\n",
    "num1 = 0 #assigning 0 to num1\n",
    "\n",
    "if num1 == 0: #checks for equality\n",
    "    print('Number is',num1)\n",
    "else:\n",
    "    print('Number is not 0')"
   ]
  },
  {
   "cell_type": "markdown",
   "metadata": {},
   "source": [
    "---\n",
    "---\n",
    "<br>\n",
    "\n",
    "<a id='Loop'></a> \n",
    "\n",
    "### <font color = #1de30b>Loops</font>\n",
    "---\n",
    "[*Home*](#Home) | [*Previous*](#BasicOperators) | [*Next*](#Function)"
   ]
  },
  {
   "cell_type": "code",
   "execution_count": 27,
   "metadata": {},
   "outputs": [
    {
     "name": "stdout",
     "output_type": "stream",
     "text": [
      "Current value: 1\n",
      "Current value: 2\n",
      "Current value: 3\n",
      "Current value: 4\n",
      "Current value: 5\n",
      "Current value: 6\n",
      "Current value: 7\n",
      "Current value: 8\n",
      "Current value: 9\n",
      "Current value: 10\n"
     ]
    }
   ],
   "source": [
    "#'for' Loop:\n",
    "for i in range(1,11): ## 1 is inclusive, 11 is exclusive\n",
    "    print('Current value:',i)"
   ]
  },
  {
   "cell_type": "code",
   "execution_count": 28,
   "metadata": {},
   "outputs": [
    {
     "name": "stdout",
     "output_type": "stream",
     "text": [
      "Please provid a password: pat1018\n",
      "Your password contains 4 digits\n"
     ]
    }
   ],
   "source": [
    "#'for' loop: count number of digits in a string\n",
    "\n",
    "user_input = input('Please provid a password: ')\n",
    "count = 0\n",
    "\n",
    "for char in user_input:\n",
    "    if char.isnumeric() == True:\n",
    "        count += 1\n",
    "print('Your password contains',count,'digits')"
   ]
  },
  {
   "cell_type": "code",
   "execution_count": 29,
   "metadata": {
    "scrolled": true
   },
   "outputs": [
    {
     "name": "stdout",
     "output_type": "stream",
     "text": [
      "Current value: 1\n",
      "Current value: 2\n",
      "Current value: 3\n",
      "Current value: 4\n",
      "Current value: 5\n",
      "Current value: 6\n",
      "Current value: 7\n",
      "Current value: 8\n",
      "Current value: 9\n",
      "Current value: 10\n"
     ]
    }
   ],
   "source": [
    "#'while' loop example\n",
    "counter = 1\n",
    "while counter <= 10:\n",
    "    print('Current value:',counter)\n",
    "    counter += 1"
   ]
  },
  {
   "cell_type": "code",
   "execution_count": 30,
   "metadata": {
    "scrolled": true
   },
   "outputs": [
    {
     "name": "stdout",
     "output_type": "stream",
     "text": [
      "1 x 1 = 1\n",
      "1 x 2 = 2\n",
      "1 x 3 = 3\n",
      "1 x 4 = 4\n",
      "1 x 5 = 5\n",
      "1 x 6 = 6\n",
      "1 x 7 = 7\n",
      "1 x 8 = 8\n",
      "1 x 9 = 9\n",
      "1 x 10 = 10\n",
      "2 x 1 = 2\n",
      "2 x 2 = 4\n",
      "2 x 3 = 6\n",
      "2 x 4 = 8\n",
      "2 x 5 = 10\n",
      "2 x 6 = 12\n",
      "2 x 7 = 14\n",
      "2 x 8 = 16\n",
      "2 x 9 = 18\n",
      "2 x 10 = 20\n",
      "3 x 1 = 3\n",
      "3 x 2 = 6\n",
      "3 x 3 = 9\n",
      "3 x 4 = 12\n",
      "3 x 5 = 15\n",
      "3 x 6 = 18\n",
      "3 x 7 = 21\n",
      "3 x 8 = 24\n",
      "3 x 9 = 27\n",
      "3 x 10 = 30\n",
      "4 x 1 = 4\n",
      "4 x 2 = 8\n",
      "4 x 3 = 12\n",
      "4 x 4 = 16\n",
      "4 x 5 = 20\n",
      "4 x 6 = 24\n",
      "4 x 7 = 28\n",
      "4 x 8 = 32\n",
      "4 x 9 = 36\n",
      "4 x 10 = 40\n",
      "5 x 1 = 5\n",
      "5 x 2 = 10\n",
      "5 x 3 = 15\n",
      "5 x 4 = 20\n",
      "5 x 5 = 25\n",
      "5 x 6 = 30\n",
      "5 x 7 = 35\n",
      "5 x 8 = 40\n",
      "5 x 9 = 45\n",
      "5 x 10 = 50\n",
      "6 x 1 = 6\n",
      "6 x 2 = 12\n",
      "6 x 3 = 18\n",
      "6 x 4 = 24\n",
      "6 x 5 = 30\n",
      "6 x 6 = 36\n",
      "6 x 7 = 42\n",
      "6 x 8 = 48\n",
      "6 x 9 = 54\n",
      "6 x 10 = 60\n",
      "7 x 1 = 7\n",
      "7 x 2 = 14\n",
      "7 x 3 = 21\n",
      "7 x 4 = 28\n",
      "7 x 5 = 35\n",
      "7 x 6 = 42\n",
      "7 x 7 = 49\n",
      "7 x 8 = 56\n",
      "7 x 9 = 63\n",
      "7 x 10 = 70\n",
      "8 x 1 = 8\n",
      "8 x 2 = 16\n",
      "8 x 3 = 24\n",
      "8 x 4 = 32\n",
      "8 x 5 = 40\n",
      "8 x 6 = 48\n",
      "8 x 7 = 56\n",
      "8 x 8 = 64\n",
      "8 x 9 = 72\n",
      "8 x 10 = 80\n",
      "9 x 1 = 9\n",
      "9 x 2 = 18\n",
      "9 x 3 = 27\n",
      "9 x 4 = 36\n",
      "9 x 5 = 45\n",
      "9 x 6 = 54\n",
      "9 x 7 = 63\n",
      "9 x 8 = 72\n",
      "9 x 9 = 81\n",
      "9 x 10 = 90\n",
      "10 x 1 = 10\n",
      "10 x 2 = 20\n",
      "10 x 3 = 30\n",
      "10 x 4 = 40\n",
      "10 x 5 = 50\n",
      "10 x 6 = 60\n",
      "10 x 7 = 70\n",
      "10 x 8 = 80\n",
      "10 x 9 = 90\n",
      "10 x 10 = 100\n"
     ]
    }
   ],
   "source": [
    "#nested 'for' loop example\n",
    "for i in range(1,11):\n",
    "    for j in range(1,11):\n",
    "        print(i, 'x', j, '=', i*j)"
   ]
  },
  {
   "cell_type": "code",
   "execution_count": 31,
   "metadata": {},
   "outputs": [
    {
     "name": "stdout",
     "output_type": "stream",
     "text": [
      "11111111111111111111\n",
      "22222222222222222222\n",
      "33333333333333333333\n",
      "44444444444444444444\n",
      "55555555555555555555\n",
      "66666666666666666666\n",
      "77777777777777777777\n"
     ]
    }
   ],
   "source": [
    "#another nested 'for' loop example\n",
    "val1_stop = 7\n",
    "val2_stop = 20\n",
    "for val1 in range(1,val1_stop+1):\n",
    "    string = ''\n",
    "    for val2 in range(1,val2_stop+1):\n",
    "        string = string + str(val1)\n",
    "    print(string)\n",
    " "
   ]
  },
  {
   "cell_type": "code",
   "execution_count": 1,
   "metadata": {},
   "outputs": [
    {
     "name": "stdin",
     "output_type": "stream",
     "text": [
      "How many numbers will be given?  3\n",
      "Provide a number:  j\n",
      "That's not a number! Try again:  10\n"
     ]
    },
    {
     "ename": "KeyboardInterrupt",
     "evalue": "Interrupted by user",
     "output_type": "error",
     "traceback": [
      "\u001b[1;31m---------------------------------------------------------------------------\u001b[0m",
      "\u001b[1;31mKeyboardInterrupt\u001b[0m                         Traceback (most recent call last)",
      "\u001b[1;32m<ipython-input-1-06239f81e533>\u001b[0m in \u001b[0;36m<module>\u001b[1;34m\u001b[0m\n\u001b[0;32m      7\u001b[0m \u001b[1;33m\u001b[0m\u001b[0m\n\u001b[0;32m      8\u001b[0m \u001b[1;32mwhile\u001b[0m \u001b[0mcount\u001b[0m \u001b[1;33m<\u001b[0m \u001b[0mn_numbers\u001b[0m\u001b[1;33m:\u001b[0m\u001b[1;33m\u001b[0m\u001b[1;33m\u001b[0m\u001b[0m\n\u001b[1;32m----> 9\u001b[1;33m     \u001b[0mcurrent_number\u001b[0m \u001b[1;33m=\u001b[0m \u001b[0minput\u001b[0m\u001b[1;33m(\u001b[0m\u001b[1;34m'Provide a number: '\u001b[0m\u001b[1;33m)\u001b[0m\u001b[1;33m\u001b[0m\u001b[1;33m\u001b[0m\u001b[0m\n\u001b[0m\u001b[0;32m     10\u001b[0m     \u001b[1;32mwhile\u001b[0m \u001b[1;32mnot\u001b[0m \u001b[0mcurrent_number\u001b[0m\u001b[1;33m.\u001b[0m\u001b[0misnumeric\u001b[0m\u001b[1;33m(\u001b[0m\u001b[1;33m)\u001b[0m\u001b[1;33m:\u001b[0m\u001b[1;33m\u001b[0m\u001b[1;33m\u001b[0m\u001b[0m\n\u001b[0;32m     11\u001b[0m         \u001b[0mcurrent_number\u001b[0m \u001b[1;33m=\u001b[0m \u001b[0minput\u001b[0m\u001b[1;33m(\u001b[0m\u001b[1;34m'That\\'s not a number! Try again: '\u001b[0m\u001b[1;33m)\u001b[0m\u001b[1;33m\u001b[0m\u001b[1;33m\u001b[0m\u001b[0m\n",
      "\u001b[1;32m~\\Anaconda3\\lib\\site-packages\\ipykernel\\kernelbase.py\u001b[0m in \u001b[0;36mraw_input\u001b[1;34m(self, prompt)\u001b[0m\n\u001b[0;32m    858\u001b[0m                 \u001b[1;34m\"raw_input was called, but this frontend does not support input requests.\"\u001b[0m\u001b[1;33m\u001b[0m\u001b[1;33m\u001b[0m\u001b[0m\n\u001b[0;32m    859\u001b[0m             )\n\u001b[1;32m--> 860\u001b[1;33m         return self._input_request(str(prompt),\n\u001b[0m\u001b[0;32m    861\u001b[0m             \u001b[0mself\u001b[0m\u001b[1;33m.\u001b[0m\u001b[0m_parent_ident\u001b[0m\u001b[1;33m,\u001b[0m\u001b[1;33m\u001b[0m\u001b[1;33m\u001b[0m\u001b[0m\n\u001b[0;32m    862\u001b[0m             \u001b[0mself\u001b[0m\u001b[1;33m.\u001b[0m\u001b[0m_parent_header\u001b[0m\u001b[1;33m,\u001b[0m\u001b[1;33m\u001b[0m\u001b[1;33m\u001b[0m\u001b[0m\n",
      "\u001b[1;32m~\\Anaconda3\\lib\\site-packages\\ipykernel\\kernelbase.py\u001b[0m in \u001b[0;36m_input_request\u001b[1;34m(self, prompt, ident, parent, password)\u001b[0m\n\u001b[0;32m    902\u001b[0m             \u001b[1;32mexcept\u001b[0m \u001b[0mKeyboardInterrupt\u001b[0m\u001b[1;33m:\u001b[0m\u001b[1;33m\u001b[0m\u001b[1;33m\u001b[0m\u001b[0m\n\u001b[0;32m    903\u001b[0m                 \u001b[1;31m# re-raise KeyboardInterrupt, to truncate traceback\u001b[0m\u001b[1;33m\u001b[0m\u001b[1;33m\u001b[0m\u001b[1;33m\u001b[0m\u001b[0m\n\u001b[1;32m--> 904\u001b[1;33m                 \u001b[1;32mraise\u001b[0m \u001b[0mKeyboardInterrupt\u001b[0m\u001b[1;33m(\u001b[0m\u001b[1;34m\"Interrupted by user\"\u001b[0m\u001b[1;33m)\u001b[0m \u001b[1;32mfrom\u001b[0m \u001b[1;32mNone\u001b[0m\u001b[1;33m\u001b[0m\u001b[1;33m\u001b[0m\u001b[0m\n\u001b[0m\u001b[0;32m    905\u001b[0m             \u001b[1;32mexcept\u001b[0m \u001b[0mException\u001b[0m \u001b[1;32mas\u001b[0m \u001b[0me\u001b[0m\u001b[1;33m:\u001b[0m\u001b[1;33m\u001b[0m\u001b[1;33m\u001b[0m\u001b[0m\n\u001b[0;32m    906\u001b[0m                 \u001b[0mself\u001b[0m\u001b[1;33m.\u001b[0m\u001b[0mlog\u001b[0m\u001b[1;33m.\u001b[0m\u001b[0mwarning\u001b[0m\u001b[1;33m(\u001b[0m\u001b[1;34m\"Invalid Message:\"\u001b[0m\u001b[1;33m,\u001b[0m \u001b[0mexc_info\u001b[0m\u001b[1;33m=\u001b[0m\u001b[1;32mTrue\u001b[0m\u001b[1;33m)\u001b[0m\u001b[1;33m\u001b[0m\u001b[1;33m\u001b[0m\u001b[0m\n",
      "\u001b[1;31mKeyboardInterrupt\u001b[0m: Interrupted by user"
     ]
    }
   ],
   "source": [
    "#nested 'while' loop example\n",
    "\n",
    "#Get the mean of input numbers\n",
    "n_numbers = int(input(\"How many numbers will be given? \"))\n",
    "sum_numbers = 0\n",
    "count = 0\n",
    "\n",
    "while count < n_numbers:\n",
    "    current_number = input('Provide a number: ')\n",
    "    while not current_number.isnumeric():\n",
    "        current_number = input('That\\'s not a number! Try again: ')\n",
    "    sum_numbers += int(current_number)\n",
    "    count += 1\n",
    "\n",
    "print(sum_numbers / n_numbers)"
   ]
  },
  {
   "cell_type": "code",
   "execution_count": 33,
   "metadata": {},
   "outputs": [
    {
     "name": "stdout",
     "output_type": "stream",
     "text": [
      "In which year was Python first released? 1990\n",
      "Correct!\n"
     ]
    }
   ],
   "source": [
    "#'while' loop: loop indefinetly until condition met and then end loop via break\n",
    "year = input('In which year was Python first released? ')\n",
    "while True:\n",
    "    if int(year) == 1990:\n",
    "        break\n",
    "    year = input('Wrong! In which year was Python first released? ')\n",
    "print('Correct!')"
   ]
  },
  {
   "cell_type": "code",
   "execution_count": 34,
   "metadata": {},
   "outputs": [
    {
     "name": "stdout",
     "output_type": "stream",
     "text": [
      "Please provide a number from 2 to 1000: 50\n",
      "50 is not prime!\n"
     ]
    }
   ],
   "source": [
    "#'for' loop with break\n",
    "\n",
    "#determines if the number entered is a prime number or not. will loop\n",
    "#and divide user number by each number leading up to the user number and\n",
    "#if there is a number that has no remainder after division, then loop will\n",
    "#break and return false. If no divisions return a remainder of 0 then the \n",
    "#user number is a prime number and variable holding True will remain the same.\n",
    "user_number = int(input('Please provide a number from 2 to 1000: '))\n",
    "if user_number < 2 or user_number > 1000:\n",
    "    print('Incorrect number!')\n",
    "else:\n",
    "    is_prime = True\n",
    "    for digit in range(2, user_number):\n",
    "        if user_number % digit == 0:\n",
    "            is_prime = False\n",
    "            break\n",
    "\n",
    "if is_prime == False:\n",
    "    print(user_number, 'is not prime!')\n",
    "elif is_prime == True:\n",
    "    print(user_number, 'is prime!')"
   ]
  },
  {
   "cell_type": "code",
   "execution_count": 35,
   "metadata": {},
   "outputs": [
    {
     "name": "stdout",
     "output_type": "stream",
     "text": [
      "2\n",
      "4\n",
      "8\n",
      "10\n",
      "14\n",
      "16\n",
      "20\n",
      "22\n",
      "26\n",
      "28\n",
      "32\n",
      "34\n",
      "38\n",
      "40\n",
      "44\n",
      "46\n",
      "50\n"
     ]
    }
   ],
   "source": [
    "#'while' loop: using continue to skip loop iterations based on met criteria\n",
    "\n",
    "#print only even numbers less than 50 that are NOT divisible by 6\n",
    "current_value = 0\n",
    "while current_value < 50:\n",
    "    current_value += 2\n",
    "    if current_value % 6 == 0:\n",
    "        continue #will skip iteration if divisible by 6\n",
    "    print(current_value)"
   ]
  },
  {
   "cell_type": "code",
   "execution_count": 36,
   "metadata": {},
   "outputs": [
    {
     "name": "stdout",
     "output_type": "stream",
     "text": [
      "1 x 1 = 1\n",
      "2 x 1 = 2\n",
      "3 x 2 = 6\n",
      "4 x 6 = 24\n",
      "5 x 24 = 120\n",
      "The factorial of 5 is 120\n"
     ]
    }
   ],
   "source": [
    "#using 'for' loop to get factorial of number\n",
    "\n",
    "#A factorial is a number multiplied by all of the positive integers leading up to that number and\n",
    "#the number itself.\n",
    "#example: factorial of 5! = 5 * 4 * 3 * 2 * 1   =  120\n",
    "iterations = 5\n",
    "iteration_num = 1\n",
    "for i in range(1, iterations+1):\n",
    "    print(i,'x',iteration_num,'=',i*iteration_num)\n",
    "    iteration_num = iteration_num * i\n",
    "print('The factorial of',iterations,'is',iteration_num)"
   ]
  },
  {
   "cell_type": "code",
   "execution_count": 37,
   "metadata": {},
   "outputs": [
    {
     "name": "stdout",
     "output_type": "stream",
     "text": [
      "~|~|~|~|~|~|~|~|~|~|~|~|~|~|~|~|~|~|~|~|~|~|~|~|~\n",
      "|~|~|~|~|~|~|~|~|~|~|~|~|~|~|~|~|~|~|~|~|~|~|~|~|\n",
      "~|~|~|~|~|~|~|~|~|~|~|~|~|~|~|~|~|~|~|~|~|~|~|~|~\n",
      "|~|~|~|~|~|~|~|~|~|~|~|~|~|~|~|~|~|~|~|~|~|~|~|~|\n",
      "~|~|~|~|~|~|~|~|~|~|~|~|~|~|~|~|~|~|~|~|~|~|~|~|~\n",
      "|~|~|~|~|~|~|~|~|~|~|~|~|~|~|~|~|~|~|~|~|~|~|~|~|\n",
      "~|~|~|~|~|~|~|~|~|~|~|~|~|~|~|~|~|~|~|~|~|~|~|~|~\n",
      "|~|~|~|~|~|~|~|~|~|~|~|~|~|~|~|~|~|~|~|~|~|~|~|~|\n"
     ]
    }
   ],
   "source": [
    "#using nested 'for' loop to create patterns.\n",
    "for val1 in range(1,9):\n",
    "    string = ''\n",
    "    for val2 in range(1,50):\n",
    "        val2_1 = '~'\n",
    "        val2_2 = '|'\n",
    "        if val1 % 2 != 0:\n",
    "            if val2 % 2 != 0:\n",
    "                string = string + val2_1\n",
    "            else:\n",
    "                string = string + val2_2\n",
    "        else:\n",
    "            if val2 % 2 != 0:\n",
    "                string = string + val2_2\n",
    "            else:\n",
    "                string = string + val2_1\n",
    "    print(string)"
   ]
  },
  {
   "cell_type": "markdown",
   "metadata": {},
   "source": [
    "---\n",
    "---\n",
    "<br>\n",
    "<a id='Function'></a>\n",
    "\n",
    "### <font color = #1de30b>Functions</font>\n",
    "---\n",
    "[*Home*](#Home) | [*Previous*](#Loop) | [*Next*](#List)"
   ]
  },
  {
   "cell_type": "code",
   "execution_count": 39,
   "metadata": {},
   "outputs": [
    {
     "name": "stdout",
     "output_type": "stream",
     "text": [
      "This is a function\n"
     ]
    }
   ],
   "source": [
    "#defining a function and executing it\n",
    "def function_1():\n",
    "    print('This is a function')\n",
    "    \n",
    "function_1()"
   ]
  },
  {
   "cell_type": "code",
   "execution_count": 42,
   "metadata": {},
   "outputs": [
    {
     "name": "stdout",
     "output_type": "stream",
     "text": [
      "1\n",
      "2\n",
      "3\n",
      "4\n",
      "5\n",
      "6\n",
      "7\n",
      "8\n",
      "9\n",
      "10\n"
     ]
    }
   ],
   "source": [
    "#defining a function with a parameter and executing\n",
    "def print_numbers(number):\n",
    "    for num in range(1,number+1):\n",
    "        print(num)\n",
    "        \n",
    "print_numbers(10)"
   ]
  },
  {
   "cell_type": "code",
   "execution_count": 17,
   "metadata": {},
   "outputs": [
    {
     "data": {
      "text/plain": [
       "30.09259259259259"
      ]
     },
     "execution_count": 17,
     "metadata": {},
     "output_type": "execute_result"
    }
   ],
   "source": [
    "#defining a function with multiple parameters and default values\n",
    "def bmi(mass=97.5,height=1.8):\n",
    "    bmi = mass / height**2\n",
    "    return bmi\n",
    "\n",
    "bmi()"
   ]
  },
  {
   "cell_type": "markdown",
   "metadata": {},
   "source": [
    "---\n",
    "---\n",
    "<br>\n",
    "<a id='List'></a>\n",
    "\n",
    "### <font color=#1de30b>Lists</font>\n",
    "\n",
    "Represented by [val1, val2, ...]\n",
    "- Stores values in single row OR mult-row/multi-column\n",
    "- Allows duplicate elements\n",
    "- Values are indexed (starting index is 0)\n",
    "- Mutable meaning we can modify the list values\n",
    "\n",
    "---\n",
    "[*Home*](#Home) | [*Previous*](#Function) | [*Next*](#Dictionary)"
   ]
  },
  {
   "cell_type": "code",
   "execution_count": 46,
   "metadata": {},
   "outputs": [
    {
     "name": "stdout",
     "output_type": "stream",
     "text": [
      "[730, 609, 682, 712, 733, 751, 740]\n"
     ]
    }
   ],
   "source": [
    "#List variable: storing multiple items into 1 variable\n",
    "\n",
    "water_level = [730,609,682,712,733,751,740]\n",
    "print(water_level)\n"
   ]
  },
  {
   "cell_type": "markdown",
   "metadata": {},
   "source": [
    "<br>\n",
    "\n",
    "<font color = 'yellow'>Get value(s) via list index</font>\n",
    "- 1 Value: _list_name[**index**]_\n",
    "- Range of values: _list_name[**start_index**(inclusive):**end_index**(exclusive)]_"
   ]
  },
  {
   "cell_type": "code",
   "execution_count": 68,
   "metadata": {},
   "outputs": [
    {
     "name": "stdout",
     "output_type": "stream",
     "text": [
      "682\n",
      "[751, 740]\n"
     ]
    }
   ],
   "source": [
    "#List variable: obtaining certain piece of the list variable **starts at 0 not 1\n",
    "\n",
    "#define list variable\n",
    "water_level = [730,709,682,712,733,751,740]\n",
    "\n",
    "#access water level on the 3rd day?\n",
    "print(water_level[2]) #starts at 0 not 1\n",
    "print(water_level[5:7]) #remember 1st number is inclusive and last number is exclusive; starts at 0"
   ]
  },
  {
   "cell_type": "markdown",
   "metadata": {},
   "source": [
    "<br>\n",
    "\n",
    "<font color = 'yellow'>Modify Lists</font>\n",
    "<li>Change existing value: <i>list_name[<b>index</b>]=<b>value</b></i>\n",
    "<li>Add value to end of list: <i>list_name.<b>append</b>(<b>value</b>)</i>"
   ]
  },
  {
   "cell_type": "code",
   "execution_count": 11,
   "metadata": {},
   "outputs": [
    {
     "name": "stdout",
     "output_type": "stream",
     "text": [
      "[730, 709, 693, 712, 733, 751, 740]\n"
     ]
    }
   ],
   "source": [
    "#define list variable\n",
    "water_level = [730,709,682,712,733,751,740]\n",
    "\n",
    "#update 3rd days value to 693\n",
    "water_level[2] = 693\n",
    "print(water_level)\n",
    "\n",
    "#add piece to end of list variable\n",
    "water_level.append(772)\n",
    "print(water_level)"
   ]
  },
  {
   "cell_type": "code",
   "execution_count": 9,
   "metadata": {},
   "outputs": [
    {
     "name": "stdout",
     "output_type": "stream",
     "text": [
      "[730, 709, 682, 712, 733, 751, 740, 772, 770, 745]\n"
     ]
    }
   ],
   "source": [
    "#List variable: combining lists together\n",
    "\n",
    "#define list variable 1\n",
    "water_level = [730,709,682,712,733,751,740]\n",
    "\n",
    "#define list variable 2\n",
    "water_level_2 = [772,770,745]\n",
    "\n",
    "#combine lists with list variable 2 coming at the end of list variable 1\n",
    "water_level = water_level + water_level_2\n",
    "\n",
    "print(water_level)"
   ]
  },
  {
   "cell_type": "code",
   "execution_count": 8,
   "metadata": {},
   "outputs": [
    {
     "name": "stdout",
     "output_type": "stream",
     "text": [
      "[709, 682, 712, 733, 751, 740]\n"
     ]
    }
   ],
   "source": [
    "#List variable: deleting piece of list variable\n",
    "# **When you delete a piece the preceding pieces' rank will be shifted forward\n",
    "\n",
    "#define list variable\n",
    "water_level = [730,709,682,712,733,751,740]\n",
    "\n",
    "#delete first piece of list variable\n",
    "del water_level[0]\n",
    "\n",
    "print(water_level)"
   ]
  },
  {
   "cell_type": "code",
   "execution_count": 7,
   "metadata": {},
   "outputs": [
    {
     "name": "stdout",
     "output_type": "stream",
     "text": [
      "[709, 682, 712, 733, 751, 740]\n"
     ]
    }
   ],
   "source": [
    "#List variable: deleting piece by name/value, not index number\n",
    "# **When you delete a piece the preceding pieces' rank will be shifted forward\n",
    "\n",
    "#define list variable\n",
    "water_level = [730,709,682,712,733,751,740]\n",
    "\n",
    "#delete piece with value of 730\n",
    "water_level.remove(730)\n",
    "\n",
    "print(water_level)"
   ]
  },
  {
   "cell_type": "code",
   "execution_count": 6,
   "metadata": {},
   "outputs": [
    {
     "name": "stdout",
     "output_type": "stream",
     "text": [
      "Enter monthly arrivals: 9.0\n",
      "Value found.\n"
     ]
    }
   ],
   "source": [
    "#List variable: use if statement to check if user input is in list variable\n",
    "\n",
    "#list variable declaration\n",
    "tourist_arrivals = [7.8, 9.0, 10.4, 10.9, 14.7, 15.6, 22.7, 22.3, 14.8, 11.4, 8.6, 9.1]\n",
    "\n",
    "#user input that will be checked\n",
    "number = float(input('Enter monthly arrivals: '))\n",
    "\n",
    "#check user input\n",
    "if number in tourist_arrivals:\n",
    "    print('Value found.')\n",
    "else:\n",
    "    print('Value not found.')"
   ]
  },
  {
   "cell_type": "code",
   "execution_count": 9,
   "metadata": {},
   "outputs": [
    {
     "name": "stdout",
     "output_type": "stream",
     "text": [
      "12\n",
      "13\n"
     ]
    },
    {
     "ename": "TypeError",
     "evalue": "object of type 'int' has no len()",
     "output_type": "error",
     "traceback": [
      "\u001b[1;31m---------------------------------------------------------------------------\u001b[0m",
      "\u001b[1;31mTypeError\u001b[0m                                 Traceback (most recent call last)",
      "\u001b[1;32m<ipython-input-9-1604eccf7ff4>\u001b[0m in \u001b[0;36m<module>\u001b[1;34m\u001b[0m\n\u001b[0;32m      5\u001b[0m \u001b[0mprint\u001b[0m\u001b[1;33m(\u001b[0m\u001b[0mlen\u001b[0m\u001b[1;33m(\u001b[0m\u001b[0mtourist_arrivals\u001b[0m\u001b[1;33m)\u001b[0m\u001b[1;33m)\u001b[0m \u001b[1;31m#prints the number of elements for list\u001b[0m\u001b[1;33m\u001b[0m\u001b[1;33m\u001b[0m\u001b[0m\n\u001b[0;32m      6\u001b[0m \u001b[0mprint\u001b[0m\u001b[1;33m(\u001b[0m\u001b[0mlen\u001b[0m\u001b[1;33m(\u001b[0m\u001b[0mstring1\u001b[0m\u001b[1;33m)\u001b[0m\u001b[1;33m)\u001b[0m \u001b[1;31m#prints the number of characters for string\u001b[0m\u001b[1;33m\u001b[0m\u001b[1;33m\u001b[0m\u001b[0m\n\u001b[1;32m----> 7\u001b[1;33m \u001b[0mprint\u001b[0m\u001b[1;33m(\u001b[0m\u001b[0mlen\u001b[0m\u001b[1;33m(\u001b[0m\u001b[0mnum1\u001b[0m\u001b[1;33m)\u001b[0m\u001b[1;33m)\u001b[0m \u001b[1;31m#len does not work on int\u001b[0m\u001b[1;33m\u001b[0m\u001b[1;33m\u001b[0m\u001b[0m\n\u001b[0m",
      "\u001b[1;31mTypeError\u001b[0m: object of type 'int' has no len()"
     ]
    }
   ],
   "source": [
    "#List variable: check how many elements are in the list\n",
    "tourist_arrivals = [7.8, 9.0, 10.4, 10.9, 14.7, 15.6, 22.7, 22.3, 14.8, 11.4, 8.6, 9.1]\n",
    "string1 = 'Hello world!!'\n",
    "num1 = 135\n",
    "print(len(tourist_arrivals)) #prints the number of elements for list\n",
    "print(len(string1)) #prints the number of characters for string\n",
    "print(len(num1)) #len does not work on int\n"
   ]
  },
  {
   "cell_type": "code",
   "execution_count": 3,
   "metadata": {},
   "outputs": [
    {
     "name": "stdout",
     "output_type": "stream",
     "text": [
      "Tourist arrivals in January 2016 were 7.8 million people.\n",
      "Tourist arrivals in February 2016 were 9.0 million people.\n",
      "Tourist arrivals in March 2016 were 10.4 million people.\n",
      "Tourist arrivals in April 2016 were 10.9 million people.\n",
      "Tourist arrivals in May 2016 were 14.7 million people.\n",
      "Tourist arrivals in June 2016 were 15.6 million people.\n",
      "Tourist arrivals in July 2016 were 22.7 million people.\n",
      "Tourist arrivals in August 2016 were 22.3 million people.\n",
      "Tourist arrivals in September 2016 were 14.8 million people.\n",
      "Tourist arrivals in October 2016 were 11.4 million people.\n",
      "Tourist arrivals in November 2016 were 8.6 million people.\n",
      "Tourist arrivals in December 2016 were 9.1 million people.\n"
     ]
    }
   ],
   "source": [
    "#List variable with 'for' loop\n",
    "tourist_arrivals = [7.8, 9.0, 10.4, 10.9, 14.7, 15.6, 22.7, 22.3, 14.8, 11.4, 8.6, 9.1]\n",
    "months = ['January','February','March','April','May','June','July','August','September','October'\n",
    "          ,'November', 'December']\n",
    "\n",
    "for i in range(0, len(tourist_arrivals)):\n",
    "    print('Tourist arrivals in',months[i],'2016 were',tourist_arrivals[i],'million people.')"
   ]
  },
  {
   "cell_type": "code",
   "execution_count": 2,
   "metadata": {},
   "outputs": [
    {
     "name": "stdout",
     "output_type": "stream",
     "text": [
      "['Tesco', 'Aldi', 'Morrisons', 'Co-op', 'Iceland', 'Lidl']\n"
     ]
    }
   ],
   "source": [
    "#Search for item in list and if not there, add it.\n",
    "supermarkets = ['Tesco', 'Aldi', 'Morrisons', 'Co-op', 'Iceland']\n",
    "add = 'Lidl'\n",
    "if add not in supermarkets:\n",
    "    supermarkets.append(add)\n",
    "    \n",
    "print(supermarkets)\n",
    "    "
   ]
  },
  {
   "cell_type": "code",
   "execution_count": 1,
   "metadata": {},
   "outputs": [
    {
     "name": "stdout",
     "output_type": "stream",
     "text": [
      "1 7213 - 7128 = 85\n",
      "2 7299 - 7213 = 86\n",
      "3 7383 - 7299 = 84\n",
      "4 7467 - 7383 = 84\n",
      "5 7550 - 7467 = 83\n",
      "6 7633 - 7550 = 83\n"
     ]
    }
   ],
   "source": [
    "#List variable with 'for' loop.\n",
    "# Find difference from current value in last from previous value (lag method)\n",
    "world_pop = [7128, 7213, 7299, 7383, 7467, 7550, 7633]\n",
    "for i in range(1, len(world_pop)): #skip 0 (first) index since there is no value before\n",
    "    current_year = world_pop[i]\n",
    "    previous_year = world_pop[i-1]\n",
    "    diff = world_pop[i] - world_pop[i-1]\n",
    "    print(i, current_year, '-', previous_year, '=', diff)"
   ]
  },
  {
   "cell_type": "code",
   "execution_count": 28,
   "metadata": {},
   "outputs": [
    {
     "name": "stdout",
     "output_type": "stream",
     "text": [
      "[100, 200, 150, 300, 400]\n"
     ]
    }
   ],
   "source": [
    "#define function that takes a list and outputs the absolute value for each number in the list\n",
    "list1 = [-100,200,-150,-300,400]\n",
    "list2 = [-59,10,-20,-40]\n",
    "\n",
    "def get_absolute_values(list_input):\n",
    "    for i in range(0,len(list_input)):\n",
    "        list_input[i] = abs(list_input[i])\n",
    "        i+=1\n",
    "    print(list_input)\n",
    "\n",
    "get_absolute_values(list1)"
   ]
  },
  {
   "cell_type": "code",
   "execution_count": 31,
   "metadata": {},
   "outputs": [
    {
     "name": "stdout",
     "output_type": "stream",
     "text": [
      "[12, 8, 9, 7]\n"
     ]
    }
   ],
   "source": [
    "#remove values from one list based on another\n",
    "\n",
    "list1 = [12,47,8,9,1,7]\n",
    "remove_list = [max(list1),min(list1)]\n",
    "for val in list1:\n",
    "    if val in remove_list:\n",
    "        list1.remove(val)\n",
    "\n",
    "print(list1)"
   ]
  },
  {
   "cell_type": "markdown",
   "metadata": {},
   "source": [
    "---\n",
    "---\n",
    "<a id='Dictionary'></a>\n",
    "<br>\n",
    "\n",
    "### <font color=1de30b>Dictionaries</font>\n",
    "\n",
    "Represented by { key1:val1, key2:val2, ...}\n",
    "- Used to store data in key:value pairs\n",
    "- In Python 3.7 & above, dictionaries are ordered\n",
    "- Does not allow duplicate key values. **Last key value duplicate/value returned\n",
    "- Is mutable meaning the values can be changed/modified\n",
    "\n",
    "---\n",
    "[*Home*](#Home) | [*Previous*](#List) | [*Next*](#TextFile)"
   ]
  },
  {
   "cell_type": "code",
   "execution_count": 55,
   "metadata": {},
   "outputs": [
    {
     "name": "stdout",
     "output_type": "stream",
     "text": [
      "Original dictionary: {2015: 'Windows 10', 2013: 'Windows 8.1', 2012: 'Windows 8', 2009: 'Windows 7', 2007: 'Windows Vista'}\n"
     ]
    }
   ],
   "source": [
    "#Creating Dictionary\n",
    "os_releases = {\n",
    "    2015:'Windows 10'\n",
    "    , 2013:\"Windows 8.1\"\n",
    "    , 2012:\"Windows 8\"\n",
    "    , 2009:\"Windows 7\"\n",
    "    , 2007:\"Windows Vista\"\n",
    "}\n",
    "print('Original dictionary:',os_releases)"
   ]
  },
  {
   "cell_type": "markdown",
   "metadata": {},
   "source": [
    "<br>\n",
    "\n",
    "<font color='yellow'>Get value for specified <b>key</b>.</font><br><u>Syntax</u>: <i>dictionary_name[<b>key</b>]</i>"
   ]
  },
  {
   "cell_type": "code",
   "execution_count": 57,
   "metadata": {},
   "outputs": [
    {
     "name": "stdout",
     "output_type": "stream",
     "text": [
      "Value for key=2015: Windows 10\n"
     ]
    }
   ],
   "source": [
    "# Get value for key\n",
    "os_releases = {\n",
    "    2015:'Windows 10'\n",
    "    , 2013:\"Windows 8.1\"\n",
    "    , 2012:\"Windows 8\"\n",
    "    , 2009:\"Windows 7\"\n",
    "    , 2007:\"Windows Vista\"\n",
    "}\n",
    "\n",
    "# Get value for key\n",
    "print('Value for key=2015:',os_releases[2015])  # get value in dictionary with key=2015"
   ]
  },
  {
   "cell_type": "markdown",
   "metadata": {},
   "source": [
    "<br>\n",
    "\n",
    "<font color='yellow'>Add new <b>key:value</b> pair to dictionary</font>"
   ]
  },
  {
   "cell_type": "code",
   "execution_count": 58,
   "metadata": {},
   "outputs": [
    {
     "name": "stdout",
     "output_type": "stream",
     "text": [
      "{2015: 'Windows 10', 2013: 'Windows 8.1', 2012: 'Windows 8', 2009: 'Windows 7', 2007: 'Windows Vista', 2001: 'Windows XP'}\n"
     ]
    }
   ],
   "source": [
    "# Add key:value pair to dictionary\n",
    "os_releases = {\n",
    "    2015:'Windows 10'\n",
    "    , 2013:\"Windows 8.1\"\n",
    "    , 2012:\"Windows 8\"\n",
    "    , 2009:\"Windows 7\"\n",
    "    , 2007:\"Windows Vista\"\n",
    "}\n",
    "\n",
    "# Add key:value pair to dictionary\n",
    "os_releases[2001] = 'Windows XP'  # add key:value pair to dictionary\n",
    "print(os_releases)"
   ]
  },
  {
   "cell_type": "markdown",
   "metadata": {},
   "source": [
    "<br>\n",
    "<font color='yellow'>\n",
    "    Delete <b>key:value</b> pair or entire dictionary</font><br>\n",
    "    <u>Syntax</u>: <i><b><font color=#f92672>del</font></b> dictionary_name[<b>key</b>]</i></li>"
   ]
  },
  {
   "cell_type": "code",
   "execution_count": 67,
   "metadata": {},
   "outputs": [
    {
     "name": "stdout",
     "output_type": "stream",
     "text": [
      "{2015: 'Windows 10', 2013: 'Windows 8.1', 2012: 'Windows 8', 2009: 'Windows 7'}\n"
     ]
    }
   ],
   "source": [
    "# Delete key:value pair from dictionary\n",
    "os_releases = {\n",
    "    2015:'Windows 10'\n",
    "    , 2013:\"Windows 8.1\"\n",
    "    , 2012:\"Windows 8\"\n",
    "    , 2009:\"Windows 7\"\n",
    "    , 2007:\"Windows Vista\"\n",
    "}\n",
    "\n",
    "# Delete key:value pair from dictionary\n",
    "del os_releases[2007]  # function to remove key:value pair\n",
    "print(os_releases)\n",
    "del os_releases  # !!deletes the entire dictionary!!"
   ]
  },
  {
   "cell_type": "code",
   "execution_count": 62,
   "metadata": {},
   "outputs": [
    {
     "name": "stdout",
     "output_type": "stream",
     "text": [
      "Enter key to search for: 2013\n",
      "Version found: {Windows 8.1}\n"
     ]
    }
   ],
   "source": [
    "# Search for key values in dictionary\n",
    "os_releases = {\n",
    "    2015:'Windows 10'\n",
    "    , 2013:\"Windows 8.1\"\n",
    "    , 2012:\"Windows 8\"\n",
    "    , 2009:\"Windows 7\"\n",
    "    , 2007:\"Windows Vista\"\n",
    "}\n",
    "\n",
    "# Search for key values in dictionary\n",
    "key = int(input('Enter key to search for: '))\n",
    "if key in os_releases:\n",
    "    print('Version found: {',os_releases[key],'}',sep='')\n",
    "else:\n",
    "    print('No version found.')"
   ]
  },
  {
   "cell_type": "markdown",
   "metadata": {},
   "source": [
    "<br>\n",
    "<font color='yellow'>\n",
    "    Iterate through keys </font><br>Looping through dictionary will pull <b>keys</b> by default</li>"
   ]
  },
  {
   "cell_type": "code",
   "execution_count": 64,
   "metadata": {},
   "outputs": [
    {
     "name": "stdout",
     "output_type": "stream",
     "text": [
      "2015 = Windows 10\n",
      "2013 = Windows 8.1\n",
      "2012 = Windows 8\n",
      "2009 = Windows 7\n",
      "2007 = Windows Vista\n"
     ]
    }
   ],
   "source": [
    "# Iterate through keys\n",
    "os_releases = {\n",
    "    2015:'Windows 10'\n",
    "    , 2013:\"Windows 8.1\"\n",
    "    , 2012:\"Windows 8\"\n",
    "    , 2009:\"Windows 7\"\n",
    "    , 2007:\"Windows Vista\"\n",
    "}\n",
    "\n",
    "# Iterate through keys\n",
    "for key in os_releases:\n",
    "    print(key, '=', os_releases[key])"
   ]
  },
  {
   "cell_type": "markdown",
   "metadata": {},
   "source": [
    "<br>\n",
    "<font color='yellow'>\n",
    "    Iterate through values</font><br><u>Syntax</u>: <i>dictionary_name.<b>values()</b></i>"
   ]
  },
  {
   "cell_type": "code",
   "execution_count": 86,
   "metadata": {},
   "outputs": [
    {
     "name": "stdout",
     "output_type": "stream",
     "text": [
      "{'Windows 10': 10, 'Windows 8.1': 11, 'Windows 8': 9, 'Windows 7': 9, 'Windows Vista': 13}\n"
     ]
    }
   ],
   "source": [
    "#Iterate through values and create a new list from values\n",
    "os_releases = {\n",
    "    2015:'Windows 10'\n",
    "    , 2013:\"Windows 8.1\"\n",
    "    , 2012:\"Windows 8\"\n",
    "    , 2009:\"Windows 7\"\n",
    "    , 2007:\"Windows Vista\"\n",
    "}\n",
    "\n",
    "os_lengths = {}\n",
    "\n",
    "#Iterate through values and create a new list from values\n",
    "for value in os_releases.values():\n",
    "    os_lengths[value] = len(value)\n",
    "print(os_lengths)\n",
    "    "
   ]
  },
  {
   "cell_type": "markdown",
   "metadata": {},
   "source": [
    "<br>\n",
    "<font color='yellow'>\n",
    "    Iterate through <b>key:value</b> pairs using <b>item function</b>\n",
    "    </font>"
   ]
  },
  {
   "cell_type": "code",
   "execution_count": 87,
   "metadata": {},
   "outputs": [
    {
     "name": "stdout",
     "output_type": "stream",
     "text": [
      "Windows 10 was released in 2015 - 30 years after Windwos 1.0\n",
      "Windows 8.1 was released in 2013 - 28 years after Windwos 1.0\n",
      "Windows 8 was released in 2012 - 27 years after Windwos 1.0\n",
      "Windows 7 was released in 2009 - 24 years after Windwos 1.0\n",
      "Windows Vista was released in 2007 - 22 years after Windwos 1.0\n"
     ]
    }
   ],
   "source": [
    "os_releases = {\n",
    "    2015:'Windows 10'\n",
    "    , 2013:\"Windows 8.1\"\n",
    "    , 2012:\"Windows 8\"\n",
    "    , 2009:\"Windows 7\"\n",
    "    , 2007:\"Windows Vista\"\n",
    "}\n",
    "\n",
    "for key, value in os_releases.items():\n",
    "    print(os_releases[key],' was released in ',key,' - ',key-1985,' years after Windwos 1.0',sep='')"
   ]
  },
  {
   "cell_type": "markdown",
   "metadata": {},
   "source": [
    "<br>\n",
    "<font color = 'yellow'>\n",
    "Loop through words and add them to another dictionary and aggregate the values for the keys.\n",
    "</font>"
   ]
  },
  {
   "cell_type": "code",
   "execution_count": 4,
   "metadata": {},
   "outputs": [
    {
     "name": "stdin",
     "output_type": "stream",
     "text": [
      "Please provide some text:  yo yo yo what it do do\n"
     ]
    },
    {
     "name": "stdout",
     "output_type": "stream",
     "text": [
      "{'yo': 3, 'what': 1, 'it': 1, 'do': 2}\n"
     ]
    }
   ],
   "source": [
    "user_input = input('Please provide some text: ')\n",
    "word_frequencies = {}\n",
    "\n",
    "for word in user_input.split():\n",
    "    if word not in word_frequencies:\n",
    "        word_frequencies[word] = 1\n",
    "    else:\n",
    "        word_frequencies[word] = word_frequencies[word] + 1\n",
    "print(word_frequencies)"
   ]
  },
  {
   "cell_type": "markdown",
   "metadata": {},
   "source": [
    "<br>\n",
    "<font color='yellow'>\n",
    "Functions and Dictionaries\n",
    "    </font>"
   ]
  },
  {
   "cell_type": "code",
   "execution_count": 44,
   "metadata": {},
   "outputs": [
    {
     "name": "stdout",
     "output_type": "stream",
     "text": [
      "\n",
      "10\n",
      "\n",
      "{'a': 1, 'b': 12, 'c': 3, 'd': 14}\n",
      "\n",
      "previous dictionary: {'a': 1, 'b': 12, 'c': 3, 'd': 14}\n",
      "new/copied dictionary: {'a': 1, 'b': 32, 'c': 3, 'd': 34}\n"
     ]
    }
   ],
   "source": [
    "\n",
    "#get the max value from dictionary and return it\n",
    "nl = '\\n'\n",
    "dic1 = {\n",
    "     \"val1\":1\n",
    "    ,\"val2\":10\n",
    "    ,\"val3\":8\n",
    "}\n",
    "def max_value(dictionary):\n",
    "    max_value = max(dictionary.values())\n",
    "    return max_value\n",
    "print(f\"{nl}{max_value(dic1)}\")     \n",
    "\n",
    "###############################################################\n",
    "\n",
    "#Replace all even numbers in a dictionary\n",
    "dic1 = {\n",
    "     \"a\":1\n",
    "    ,\"b\":2\n",
    "    ,\"c\":3\n",
    "    ,\"d\":4\n",
    "}\n",
    "def add_ten(dictionary):\n",
    "    for key, value in dictionary.items():\n",
    "        if value % 2 == 0:\n",
    "            dictionary[key] = value+10\n",
    "    return dictionary\n",
    "\n",
    "print(f\"{nl}{add_ten(dic1)}\")\n",
    "\n",
    "###############################################################\n",
    "\n",
    "#Copy dictionary from above code so that original is left alone and new dictionary created\n",
    "def add_twenty(dictionary):\n",
    "    dic_copy = dictionary.copy()\n",
    "    for key, value in dic_copy.items():\n",
    "        if value % 2 == 0:\n",
    "            dic_copy[key] = value+20\n",
    "    return dic_copy\n",
    "print(f\"{nl}previous dictionary: {dic1}{nl}new/copied dictionary: {add_twenty(dic1)}\")"
   ]
  },
  {
   "cell_type": "markdown",
   "metadata": {},
   "source": [
    "<br>\n",
    "<font color='yellow'>Doing things with multiple dictionaries with matching <b>keys</b></font>"
   ]
  },
  {
   "cell_type": "code",
   "execution_count": 20,
   "metadata": {},
   "outputs": [
    {
     "name": "stdout",
     "output_type": "stream",
     "text": [
      "{'shirt': 20, 'dress': 230, 'tie': 20, 'skirt': 25}\n",
      "\n",
      "......-...-..--- -......-..!!\n",
      "\n",
      "14.43\n"
     ]
    }
   ],
   "source": [
    "nl = '\\n'\n",
    "#Create a new dictionary with new totals based on base price dictionary and discounts dictionary\n",
    "base_prices = {\n",
    "    \"shirt\":25\n",
    "    ,\"dress\":250\n",
    "    ,\"tie\":20\n",
    "    ,\"skirt\":25\n",
    "}\n",
    "\n",
    "discounts = {\n",
    "    \"shirt\":5\n",
    "    ,\"dress\":20\n",
    "}\n",
    "\n",
    "discounted_price = {}\n",
    "\n",
    "def calculate_discount(dic_price, dic_disc):\n",
    "    for key in dic_price:\n",
    "        if key in discounts.keys():\n",
    "            discounted_price[key] = dic_price[key] - discounts[key]\n",
    "        else:\n",
    "            discounted_price[key] = dic_price[key]\n",
    "    return discounted_price\n",
    "    print(f\"{discounted_price}\")\n",
    "            \n",
    "print(f\"{calculate_discount(base_prices, discounts)}\")\n",
    "\n",
    "###############################################################\n",
    "\n",
    "#Take user input and create equivalent morris code represenation\n",
    "morse = {'A': '.-', 'B': '-...', 'C': '-.-.', 'D': '-..', 'E': '.', 'F': '..-.',\n",
    "         'G': '--.', 'H': '....', 'I': '..', 'J': '.---', 'K': '-.-', 'L': '.-..',\n",
    "         'M': '--', 'N': '-.', 'O': '---', 'P': '.--.', 'Q': '--.-', 'R': '.-.',\n",
    "         'S': '...', 'T': '-', 'U': '..-', 'V': '...-', 'W': '.--', 'X': '-..-',\n",
    "         'Y': '-.--', 'Z': '--..', '0': '-----', '1': '.----', '2': '..---',\n",
    "         '3': '...--', '4': '....-', '5': '.....', '6': '-....', '7': '--...',\n",
    "         '8': '---..', '9': '----.', '.': '.-.-.-', ',': '--..--'}\n",
    "\n",
    "def translate_into_morse(user_input):\n",
    "    morse_val = ''\n",
    "    user_input = user_input.upper()\n",
    "    for char in user_input:\n",
    "        if char in morse.keys():\n",
    "            morse_val += morse[char]\n",
    "        else:\n",
    "            morse_val += char\n",
    "    return morse_val\n",
    "    print(f\"{morse_val}\")\n",
    "\n",
    "print(f\"{nl}{translate_into_morse('hello there!!')}\")\n",
    "\n",
    "###############################################################\n",
    "\n",
    "#Calculate the total from the order dictionary based on the price list dictionary\n",
    "pricelist = {'bread': 2.37, 'ham': 3.48, 'cheese': 3.09, 'water': 1.19, 'coke': 2.58, 'juice': 4.18, 'butter': 5.18}\n",
    "\n",
    "customer_order = {\n",
    "    'cheese':3\n",
    "    ,'coke':2\n",
    "}\n",
    "\n",
    "def calculate_price(order):\n",
    "    total = 0\n",
    "    order_copy = order.copy()\n",
    "    for key in order_copy:\n",
    "        if key in order_copy.keys():\n",
    "            total += (pricelist[key] * order_copy[key])\n",
    "    return total\n",
    "    print(f\"{total}\")\n",
    "    \n",
    "print(f\"{nl}{calculate_price(customer_order)}\")"
   ]
  },
  {
   "cell_type": "markdown",
   "metadata": {},
   "source": [
    "<br>\n",
    "<font color='yellow'>Sorting dictionary based on <b>keys</b> or <b>values</b></font>"
   ]
  },
  {
   "cell_type": "code",
   "execution_count": 9,
   "metadata": {},
   "outputs": [
    {
     "name": "stdout",
     "output_type": "stream",
     "text": [
      "B  :  1000\n",
      "C  :  750\n",
      "A  :  500\n",
      "D  :  300\n"
     ]
    }
   ],
   "source": [
    "dictn = {'A':500,'B':1000,'C':750,'D':300}\n",
    "\n",
    "sort_dictn = sorted(dictn.items(), key=lambda kv: kv[1], reverse=True)  # kv[1|0]: if 1 then sorting on value, if 0 then sorting on key | reverse=True is descending, reverse=False is ascending\n",
    "for kv in sort_dictn:\n",
    "    "
   ]
  },
  {
   "cell_type": "markdown",
   "metadata": {},
   "source": [
    "---\n",
    "---\n",
    "<a id='TextFile'></a>\n",
    "<br>\n",
    "\n",
    "### <font color=1de30b>Working with Text Files</font>\n",
    "---\n",
    "[*Home*](#Home) | [*Previous*](#Dictionary) | [*Next*](#ExceptionHandling)\n"
   ]
  },
  {
   "cell_type": "markdown",
   "metadata": {},
   "source": [
    "<br>\n",
    "<font color='yellow'>Opening, Reading, and Writing Text file</font>\n",
    "\n",
    "<ul>\n",
    "    <li> Open([file], parameters..)</li>\n",
    "    <ul style=\"list-style-type:circle;\">\n",
    "        <li> r - read </li>\n",
    "        <li> w - write (overwrites current text) </li>\n",
    "        <li> a - append (adds text to end) </li>\n",
    "    </ul>\n",
    "    <li> **Remember to close the file after!\n",
    "</ul>\n",
    "\n",
    "<img src=\"ipynb Files/Text IO Decision Tree.png\">"
   ]
  },
  {
   "cell_type": "code",
   "execution_count": 31,
   "metadata": {},
   "outputs": [
    {
     "name": "stdout",
     "output_type": "stream",
     "text": [
      "Four score and seven years ago our fathers brought forth on this continent, a new nation, conceived in Liberty, and dedicated to the proposition that all men are created equal.\n",
      "\n",
      "Now we are engaged in a great civil war, testing whether that nation, or any nation so conceived and so dedicated, can long endure. We are met on a great battle-field of that war. We have come to dedicate a portion of that field, as a final resting place for those who here gave their lives that that nation might live. It is altogether fitting and proper that we should do this.\n",
      "\n",
      "But, in a larger sense, we can not dedicate -- we can not consecrate -- we can not hallow -- this ground. The brave men, living and dead, who struggled here, have consecrated it, far above our poor power to add or detract. The world will little note, nor long remember what we say here, but it can never forget what they did here. It is for us the living, rather, to be dedicated here to the unfinished work which they who fought here have thus far so nobly advanced. It is rather for us to be here dedicated to the great task remaining before us -- that from these honored dead we take increased devotion to that cause for which they gave the last full measure of devotion -- that we here highly resolve that these dead shall not have died in vain -- that this nation, under God, shall have a new birth of freedom -- and that government of the people, by the people, for the people, shall not perish from the earth.\n",
      "\n",
      "Abraham Lincoln\n",
      "November 19, 1863\n",
      "\n",
      "***********\n",
      "\n",
      "\n",
      "\n",
      "***********\n",
      "\n",
      "yo whatup, this is the new file text now!! Muawhahahaha\n",
      "Appended text: This is appended text!!\n"
     ]
    }
   ],
   "source": [
    "nl = '\\n'\n",
    "\n",
    "# Open and read file\n",
    "file = open('gettysburg')  # Original file. Just reading which is default (no parameter).\n",
    "print(file.read())\n",
    "file.close()\n",
    "print(f\"{nl}***********{nl}\")  # Spacer between operations\n",
    "\n",
    "\n",
    "# Open and write to file\n",
    "file2 = open('getty_copy', 'w+')  # open with 'write-w' parameter. \n",
    "file2.write(f\"yo whatup, this is the new file text now!! Muawhahahaha\")\n",
    "print(file2.read())\n",
    "file2.close()\n",
    "print(f\"{nl}***********{nl}\")  # Spacer\n",
    "\n",
    "\n",
    "# Append to file\n",
    "file2 = open('getty_copy', 'a')  # Using copied file which was written to, append to it. Note usage of 'append-a' parameter.\n",
    "file2.write(f\"{nl}Appended text: This is appended text!!\")\n",
    "file2.close\n",
    "file2 = open('getty_copy')\n",
    "print(file2.read())\n",
    "file2.close()"
   ]
  },
  {
   "cell_type": "markdown",
   "metadata": {},
   "source": [
    "<br>\n",
    "<font color='yellow'>\n",
    "    <ol>\n",
    "        <li>Open text file with numbers on each line.</li>\n",
    "        <li>Iterate through each line checking if current value is greater than the last. If so store that value in the <b>max</b> variable</li>\n",
    "        <li>Store values on each line in a list</li>\n",
    "    </ol>\n",
    "</font>"
   ]
  },
  {
   "cell_type": "code",
   "execution_count": 21,
   "metadata": {},
   "outputs": [
    {
     "name": "stdout",
     "output_type": "stream",
     "text": [
      "['19438', '498', '2983', '568', '3983', '86856']\n",
      "Max number: 86856\n"
     ]
    }
   ],
   "source": [
    "nl = '\\n'\n",
    "num_list = []\n",
    "file = open('Numbers.txt')\n",
    "max_num = None\n",
    "for line in file:\n",
    "    num_list.append(line.replace('\\n',''))\n",
    "    if max_num == None:\n",
    "        max_num = line\n",
    "    else:\n",
    "        if line > max_num:\n",
    "            max_num = line\n",
    "        else:\n",
    "            max_num = max_num\n",
    "print(f\"{num_list}\")\n",
    "print(f\"Max number: {max_num}\")\n",
    "file.close()"
   ]
  },
  {
   "cell_type": "markdown",
   "metadata": {},
   "source": [
    "<br>\n",
    "<font color='yellow'>Looping to <b>'write to'</b> a file</font>"
   ]
  },
  {
   "cell_type": "code",
   "execution_count": 1,
   "metadata": {},
   "outputs": [
    {
     "name": "stdout",
     "output_type": "stream",
     "text": [
      "http://imaginary-site.com/download/math-2010\n",
      "http://imaginary-site.com/download/math-2011\n",
      "http://imaginary-site.com/download/math-2012\n",
      "http://imaginary-site.com/download/biology-2010\n",
      "http://imaginary-site.com/download/biology-2011\n",
      "http://imaginary-site.com/download/biology-2012\n",
      "http://imaginary-site.com/download/chemistry-2010\n",
      "http://imaginary-site.com/download/chemistry-2011\n",
      "http://imaginary-site.com/download/chemistry-2012\n",
      "http://imaginary-site.com/download/physics-2010\n",
      "http://imaginary-site.com/download/physics-2011\n",
      "http://imaginary-site.com/download/physics-2012\n",
      "\n"
     ]
    }
   ],
   "source": [
    "subjects = ['math', 'biology', 'chemistry', 'physics']\n",
    "nl = \"\\n\"\n",
    "\n",
    "with open(\"urls.txt\", \"w\") as file:\n",
    "  for subject in subjects:\n",
    "    for year in range(2010, 2012+1):\n",
    "      file.write(f\"http://imaginary-site.com/download/{subject}-{str(year)}{nl}\")\n",
    "      \n",
    "with open(\"urls.txt\", \"r\") as file:\n",
    "  print(file.read())"
   ]
  },
  {
   "cell_type": "code",
   "execution_count": null,
   "metadata": {},
   "outputs": [],
   "source": [
    "with open('gettysburg', 'r') as file:\n",
    "    with open('getty_copy2', 'w+') as file2:\n",
    "        file2.write(\"yo yo\")\n",
    "        print(file2.read())"
   ]
  },
  {
   "cell_type": "markdown",
   "metadata": {},
   "source": [
    "---\n",
    "---\n",
    "<a id='ExceptionHandling'></a>\n",
    "<br>\n",
    "\n",
    "### <font color=1de30b>Exception Handling</font>\n",
    "---\n",
    "[*Home*](#Home) | [*Previous*](#TextFile) | "
   ]
  },
  {
   "cell_type": "markdown",
   "metadata": {},
   "source": [
    "<br>\n",
    "\n",
    "<font color=\"yellow\">\n",
    "    \n",
    "Syntax:\n",
    "    \n",
    "    try:\n",
    "        [expression]\n",
    "        if no exception thrown, continue with code in this block\n",
    "    except (specific exception or leave blank for all):\n",
    "        [expression]\n",
    "        if exception thrown in try block, continue with code in this block\n",
    "    else:\n",
    "        [expression]\n",
    "        if exception thrown in try block and exception not specific to except block or code exits the except block for whatever reason, continue with code in this block\n",
    "    \n",
    "</font>"
   ]
  },
  {
   "cell_type": "code",
   "execution_count": 3,
   "metadata": {},
   "outputs": [
    {
     "name": "stdout",
     "output_type": "stream",
     "text": [
      "Could not read the file\n"
     ]
    }
   ],
   "source": [
    "try:\n",
    "    with open(\"non-existing file.txt\", \"r\") as file:\n",
    "        print(file.read())\n",
    "except IOError:\n",
    "    print(\"Could not read the file\")"
   ]
  },
  {
   "cell_type": "markdown",
   "metadata": {},
   "source": [
    "<br>\n",
    "\n",
    "<font color=\"yellow\">\n",
    "Continue asking user for file name and trying to find, open, and read the file.\n",
    "</font>"
   ]
  },
  {
   "cell_type": "code",
   "execution_count": 6,
   "metadata": {},
   "outputs": [
    {
     "name": "stdin",
     "output_type": "stream",
     "text": [
      "Enter file name to read:  non-existing file\n",
      "File not found! Try again:  urls\n",
      "File not found! Try again:  urls.txt\n"
     ]
    },
    {
     "name": "stdout",
     "output_type": "stream",
     "text": [
      "http://imaginary-site.com/download/math-2010\n",
      "http://imaginary-site.com/download/math-2011\n",
      "http://imaginary-site.com/download/math-2012\n",
      "http://imaginary-site.com/download/biology-2010\n",
      "http://imaginary-site.com/download/biology-2011\n",
      "http://imaginary-site.com/download/biology-2012\n",
      "http://imaginary-site.com/download/chemistry-2010\n",
      "http://imaginary-site.com/download/chemistry-2011\n",
      "http://imaginary-site.com/download/chemistry-2012\n",
      "http://imaginary-site.com/download/physics-2010\n",
      "http://imaginary-site.com/download/physics-2011\n",
      "http://imaginary-site.com/download/physics-2012\n",
      "\n"
     ]
    }
   ],
   "source": [
    "loop = True\n",
    "\n",
    "while loop is True:\n",
    "    try:\n",
    "        file_name = input(\"Enter file name to read: \")\n",
    "        with open(file_name, \"r\") as file:\n",
    "            print(file.read())\n",
    "    except IOError:\n",
    "        while True:\n",
    "            try:\n",
    "                file_name = input(\"File not found! Try again: \")\n",
    "                with open(file_name, \"r\") as file:\n",
    "                    print(file.read())\n",
    "                    loop = False\n",
    "                    break\n",
    "            except IOError:\n",
    "                continue"
   ]
  },
  {
   "cell_type": "code",
   "execution_count": 44,
   "metadata": {},
   "outputs": [
    {
     "ename": "KeyError",
     "evalue": "'abc'",
     "output_type": "error",
     "traceback": [
      "\u001b[1;31m---------------------------------------------------------------------------\u001b[0m",
      "\u001b[1;31mKeyError\u001b[0m                                  Traceback (most recent call last)",
      "\u001b[1;32m<ipython-input-44-7a0bc12c4959>\u001b[0m in \u001b[0;36m<module>\u001b[1;34m\u001b[0m\n\u001b[0;32m     12\u001b[0m     \u001b[1;32mreturn\u001b[0m \u001b[0mword_cnt\u001b[0m\u001b[1;33m\u001b[0m\u001b[1;33m\u001b[0m\u001b[0m\n\u001b[0;32m     13\u001b[0m \u001b[1;33m\u001b[0m\u001b[0m\n\u001b[1;32m---> 14\u001b[1;33m \u001b[0mcount_word\u001b[0m\u001b[1;33m(\u001b[0m\u001b[1;34m\"ipynb Files\\List of Stuff.txt\"\u001b[0m\u001b[1;33m,\u001b[0m \u001b[1;34m\"abc\"\u001b[0m\u001b[1;33m)\u001b[0m\u001b[1;33m\u001b[0m\u001b[1;33m\u001b[0m\u001b[0m\n\u001b[0m",
      "\u001b[1;32m<ipython-input-44-7a0bc12c4959>\u001b[0m in \u001b[0;36mcount_word\u001b[1;34m(file_name, word)\u001b[0m\n\u001b[0;32m      9\u001b[0m             \u001b[1;32melse\u001b[0m\u001b[1;33m:\u001b[0m\u001b[1;33m\u001b[0m\u001b[1;33m\u001b[0m\u001b[0m\n\u001b[0;32m     10\u001b[0m                 \u001b[0mword_freq\u001b[0m\u001b[1;33m[\u001b[0m\u001b[0mline\u001b[0m\u001b[1;33m]\u001b[0m \u001b[1;33m=\u001b[0m \u001b[0mword_freq\u001b[0m\u001b[1;33m[\u001b[0m\u001b[0mline\u001b[0m\u001b[1;33m]\u001b[0m \u001b[1;33m+\u001b[0m \u001b[1;36m1\u001b[0m\u001b[1;33m\u001b[0m\u001b[1;33m\u001b[0m\u001b[0m\n\u001b[1;32m---> 11\u001b[1;33m     \u001b[0mword_cnt\u001b[0m \u001b[1;33m=\u001b[0m \u001b[0mword_freq\u001b[0m\u001b[1;33m[\u001b[0m\u001b[0mword\u001b[0m\u001b[1;33m]\u001b[0m\u001b[1;33m\u001b[0m\u001b[1;33m\u001b[0m\u001b[0m\n\u001b[0m\u001b[0;32m     12\u001b[0m     \u001b[1;32mreturn\u001b[0m \u001b[0mword_cnt\u001b[0m\u001b[1;33m\u001b[0m\u001b[1;33m\u001b[0m\u001b[0m\n\u001b[0;32m     13\u001b[0m \u001b[1;33m\u001b[0m\u001b[0m\n",
      "\u001b[1;31mKeyError\u001b[0m: 'abc'"
     ]
    }
   ],
   "source": [
    "def count_word(file_name, word):\n",
    "    word_freq = {}\n",
    "    with open(file_name, \"r\") as file:\n",
    "        for line in file:\n",
    "            line.replace(\"\\n\", \"\")\n",
    "            line.lower()\n",
    "            if line not in word_freq:\n",
    "                word_freq[line] = 1\n",
    "            else:\n",
    "                word_freq[line] = word_freq[line] + 1\n",
    "    word_cnt = word_freq[word]\n",
    "    return word_cnt\n",
    "\n",
    "count_word(\"ipynb Files\\List of Stuff.txt\", \"abc\")"
   ]
  }
 ],
 "metadata": {
  "kernelspec": {
   "display_name": "Python 3",
   "language": "python",
   "name": "python3"
  },
  "language_info": {
   "codemirror_mode": {
    "name": "ipython",
    "version": 3
   },
   "file_extension": ".py",
   "mimetype": "text/x-python",
   "name": "python",
   "nbconvert_exporter": "python",
   "pygments_lexer": "ipython3",
   "version": "3.8.5"
  }
 },
 "nbformat": 4,
 "nbformat_minor": 4
}
