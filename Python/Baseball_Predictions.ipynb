{
 "cells": [
  {
   "cell_type": "code",
   "execution_count": 263,
   "metadata": {},
   "outputs": [],
   "source": [
    "import requests\n",
    "from bs4 import BeautifulSoup\n",
    "import pandas as pd\n",
    "import numpy as np\n",
    "from http import HTTPStatus\n",
    "from pprint import pprint as pp\n",
    "from datetime import datetime, date\n",
    "import re"
   ]
  },
  {
   "cell_type": "code",
   "execution_count": 247,
   "metadata": {},
   "outputs": [
    {
     "name": "stdout",
     "output_type": "stream",
     "text": [
      "Connection status: OK\n"
     ]
    }
   ],
   "source": [
    "mlb_today_url = r'https://www.espn.com/mlb/schedule'\n",
    "\n",
    "s = requests.Session()\n",
    "r = s.get(mlb_today_url, timeout=10)\n",
    "\n",
    "print(f\"Connection status: {HTTPStatus(r.status_code).phrase}\")"
   ]
  },
  {
   "cell_type": "code",
   "execution_count": 248,
   "metadata": {},
   "outputs": [
    {
     "data": {
      "text/html": [
       "<div>\n",
       "<style scoped>\n",
       "    .dataframe tbody tr th:only-of-type {\n",
       "        vertical-align: middle;\n",
       "    }\n",
       "\n",
       "    .dataframe tbody tr th {\n",
       "        vertical-align: top;\n",
       "    }\n",
       "\n",
       "    .dataframe thead th {\n",
       "        text-align: right;\n",
       "    }\n",
       "</style>\n",
       "<table border=\"1\" class=\"dataframe\">\n",
       "  <thead>\n",
       "    <tr style=\"text-align: right;\">\n",
       "      <th></th>\n",
       "      <th>MATCH_DATE</th>\n",
       "      <th>GAME_URL</th>\n",
       "    </tr>\n",
       "  </thead>\n",
       "  <tbody>\n",
       "    <tr>\n",
       "      <th>0</th>\n",
       "      <td>2022-05-18</td>\n",
       "      <td>https://www.espn.com/mlb/game?gameId=401354799</td>\n",
       "    </tr>\n",
       "    <tr>\n",
       "      <th>1</th>\n",
       "      <td>2022-05-18</td>\n",
       "      <td>https://www.espn.com/mlb/game?gameId=401354793</td>\n",
       "    </tr>\n",
       "    <tr>\n",
       "      <th>2</th>\n",
       "      <td>2022-05-18</td>\n",
       "      <td>https://www.espn.com/mlb/game?gameId=401354796</td>\n",
       "    </tr>\n",
       "    <tr>\n",
       "      <th>3</th>\n",
       "      <td>2022-05-18</td>\n",
       "      <td>https://www.espn.com/mlb/game?gameId=401354798</td>\n",
       "    </tr>\n",
       "    <tr>\n",
       "      <th>4</th>\n",
       "      <td>2022-05-18</td>\n",
       "      <td>https://www.espn.com/mlb/game?gameId=401354806</td>\n",
       "    </tr>\n",
       "  </tbody>\n",
       "</table>\n",
       "</div>"
      ],
      "text/plain": [
       "   MATCH_DATE                                        GAME_URL\n",
       "0  2022-05-18  https://www.espn.com/mlb/game?gameId=401354799\n",
       "1  2022-05-18  https://www.espn.com/mlb/game?gameId=401354793\n",
       "2  2022-05-18  https://www.espn.com/mlb/game?gameId=401354796\n",
       "3  2022-05-18  https://www.espn.com/mlb/game?gameId=401354798\n",
       "4  2022-05-18  https://www.espn.com/mlb/game?gameId=401354806"
      ]
     },
     "execution_count": 248,
     "metadata": {},
     "output_type": "execute_result"
    }
   ],
   "source": [
    "soup = BeautifulSoup(r.text, 'lxml')\n",
    "\n",
    "matchups = []\n",
    "\n",
    "for day in soup.findAll(\"div\", {\"class\":\"ScheduleTables mb5 ScheduleTables--mlb ScheduleTables--baseball\"}):\n",
    "    try:\n",
    "        dt = datetime.strptime(day.find(\"div\", {\"class\":\"Table__Title\"}).text.strip(), \"%A, %B %d, %Y\").date()\n",
    "    except:\n",
    "        dt = pd.NaT\n",
    "\n",
    "    for match in day.findAll(\"td\", {\"class\":[\"date__col Table__TD\",\"teams__col Table__TD\"]}):\n",
    "        try:\n",
    "            url_find = match.find(\"a\")['href']\n",
    "            if bool(re.search(r\"/mlb/game\", url_find)):\n",
    "                game_url = r\"https://www.espn.com\" + url_find\n",
    "                game_row = (dt, game_url)\n",
    "                matchups.append(game_row)\n",
    "            else:\n",
    "                continue\n",
    "        except:\n",
    "            continue\n",
    "    \n",
    "matchup_df = pd.DataFrame(matchups, columns=['MATCH_DATE','GAME_URL'])\n",
    "\n",
    "matchup_df.head()"
   ]
  },
  {
   "cell_type": "code",
   "execution_count": 264,
   "metadata": {},
   "outputs": [],
   "source": [
    "def get_pitchers(url):\n",
    "    try:\n",
    "        s = requests.Session()\n",
    "        r = s.get(url, timeout=10)\n",
    "\n",
    "        soup = BeautifulSoup(r.text, 'lxml')\n",
    "\n",
    "        starting_pitchers = []\n",
    "\n",
    "        for pitchers in soup.findAll(\"table\", {\"data-type\":\"pitching\"}):\n",
    "            pitcher = pitchers.a['href']\n",
    "            starting_pitchers.append(pitcher)\n",
    "\n",
    "        if len(starting_pitchers) == 0:\n",
    "            away_pitcher = np.nan\n",
    "            home_pitcher = np.nan\n",
    "        else:\n",
    "            away_pitcher = starting_pitchers[0]\n",
    "            home_pitcher = starting_pitchers[1]\n",
    "\n",
    "        return (away_pitcher, home_pitcher)\n",
    "\n",
    "    except:\n",
    "        return (None, None)"
   ]
  },
  {
   "cell_type": "code",
   "execution_count": 267,
   "metadata": {},
   "outputs": [],
   "source": [
    "matchup_df['AWAY_PITCHER'], matchup_df['HOME_PITCHER'] = zip(*matchup_df['GAME_URL'].map(get_pitchers))\n"
   ]
  },
  {
   "cell_type": "code",
   "execution_count": 268,
   "metadata": {},
   "outputs": [
    {
     "data": {
      "text/html": [
       "<div>\n",
       "<style scoped>\n",
       "    .dataframe tbody tr th:only-of-type {\n",
       "        vertical-align: middle;\n",
       "    }\n",
       "\n",
       "    .dataframe tbody tr th {\n",
       "        vertical-align: top;\n",
       "    }\n",
       "\n",
       "    .dataframe thead th {\n",
       "        text-align: right;\n",
       "    }\n",
       "</style>\n",
       "<table border=\"1\" class=\"dataframe\">\n",
       "  <thead>\n",
       "    <tr style=\"text-align: right;\">\n",
       "      <th></th>\n",
       "      <th>MATCH_DATE</th>\n",
       "      <th>GAME_URL</th>\n",
       "      <th>AWAY_PITCHER</th>\n",
       "      <th>HOME_PITCHER</th>\n",
       "    </tr>\n",
       "  </thead>\n",
       "  <tbody>\n",
       "    <tr>\n",
       "      <th>0</th>\n",
       "      <td>2022-05-18</td>\n",
       "      <td>https://www.espn.com/mlb/game?gameId=401354799</td>\n",
       "      <td>https://www.espn.com/mlb/player/_/id/32082</td>\n",
       "      <td>https://www.espn.com/mlb/player/_/id/39434</td>\n",
       "    </tr>\n",
       "    <tr>\n",
       "      <th>1</th>\n",
       "      <td>2022-05-18</td>\n",
       "      <td>https://www.espn.com/mlb/game?gameId=401354793</td>\n",
       "      <td>https://www.espn.com/mlb/player/_/id/33829</td>\n",
       "      <td>https://www.espn.com/mlb/player/_/id/39251</td>\n",
       "    </tr>\n",
       "    <tr>\n",
       "      <th>2</th>\n",
       "      <td>2022-05-18</td>\n",
       "      <td>https://www.espn.com/mlb/game?gameId=401354796</td>\n",
       "      <td>https://www.espn.com/mlb/player/_/id/34973</td>\n",
       "      <td>https://www.espn.com/mlb/player/_/id/39875</td>\n",
       "    </tr>\n",
       "    <tr>\n",
       "      <th>3</th>\n",
       "      <td>2022-05-18</td>\n",
       "      <td>https://www.espn.com/mlb/game?gameId=401354798</td>\n",
       "      <td>https://www.espn.com/mlb/player/_/id/4684365</td>\n",
       "      <td>https://www.espn.com/mlb/player/_/id/36071</td>\n",
       "    </tr>\n",
       "    <tr>\n",
       "      <th>4</th>\n",
       "      <td>2022-05-18</td>\n",
       "      <td>https://www.espn.com/mlb/game?gameId=401354806</td>\n",
       "      <td>https://www.espn.com/mlb/player/_/id/41165</td>\n",
       "      <td>https://www.espn.com/mlb/player/_/id/39671</td>\n",
       "    </tr>\n",
       "  </tbody>\n",
       "</table>\n",
       "</div>"
      ],
      "text/plain": [
       "   MATCH_DATE                                        GAME_URL  \\\n",
       "0  2022-05-18  https://www.espn.com/mlb/game?gameId=401354799   \n",
       "1  2022-05-18  https://www.espn.com/mlb/game?gameId=401354793   \n",
       "2  2022-05-18  https://www.espn.com/mlb/game?gameId=401354796   \n",
       "3  2022-05-18  https://www.espn.com/mlb/game?gameId=401354798   \n",
       "4  2022-05-18  https://www.espn.com/mlb/game?gameId=401354806   \n",
       "\n",
       "                                   AWAY_PITCHER  \\\n",
       "0    https://www.espn.com/mlb/player/_/id/32082   \n",
       "1    https://www.espn.com/mlb/player/_/id/33829   \n",
       "2    https://www.espn.com/mlb/player/_/id/34973   \n",
       "3  https://www.espn.com/mlb/player/_/id/4684365   \n",
       "4    https://www.espn.com/mlb/player/_/id/41165   \n",
       "\n",
       "                                 HOME_PITCHER  \n",
       "0  https://www.espn.com/mlb/player/_/id/39434  \n",
       "1  https://www.espn.com/mlb/player/_/id/39251  \n",
       "2  https://www.espn.com/mlb/player/_/id/39875  \n",
       "3  https://www.espn.com/mlb/player/_/id/36071  \n",
       "4  https://www.espn.com/mlb/player/_/id/39671  "
      ]
     },
     "execution_count": 268,
     "metadata": {},
     "output_type": "execute_result"
    }
   ],
   "source": [
    "matchup_df.head()\n"
   ]
  }
 ],
 "metadata": {
  "interpreter": {
   "hash": "f3cdbbf374133bcf17d677570233b4a1afa886b062ec5674a157ae5d28651db4"
  },
  "kernelspec": {
   "display_name": "Python 3.10.4 ('BU_work')",
   "language": "python",
   "name": "python3"
  },
  "language_info": {
   "codemirror_mode": {
    "name": "ipython",
    "version": 3
   },
   "file_extension": ".py",
   "mimetype": "text/x-python",
   "name": "python",
   "nbconvert_exporter": "python",
   "pygments_lexer": "ipython3",
   "version": "3.10.4"
  },
  "orig_nbformat": 4
 },
 "nbformat": 4,
 "nbformat_minor": 2
}
