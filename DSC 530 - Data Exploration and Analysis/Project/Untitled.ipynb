{
 "cells": [
  {
   "cell_type": "markdown",
   "metadata": {},
   "source": [
    "### Different Ways of Inserting Expressions in String Literals"
   ]
  },
  {
   "cell_type": "markdown",
   "metadata": {},
   "source": [
    "<br><br>\n",
    "\n",
    "Old school %-formatting (*not recommended by python*)"
   ]
  },
  {
   "cell_type": "code",
   "execution_count": 16,
   "metadata": {},
   "outputs": [
    {
     "name": "stdout",
     "output_type": "stream",
     "text": [
      "Hello, my name is Patrick. and I'm 32. years old.\n"
     ]
    }
   ],
   "source": [
    "name = 'Patrick'\n",
    "age = 30+2\n",
    "\n",
    "greeting = 'Hello, my name is %s. and I\\'m %s. years old.' % (name, age)\n",
    "\n",
    "print(greeting)"
   ]
  },
  {
   "cell_type": "markdown",
   "metadata": {},
   "source": [
    "<br><br>\n",
    "\n",
    "Newer but still old str.format()"
   ]
  },
  {
   "cell_type": "code",
   "execution_count": 18,
   "metadata": {},
   "outputs": [
    {
     "name": "stdout",
     "output_type": "stream",
     "text": [
      "Hello, my name is Patrick and I'm 32 years old.\n"
     ]
    }
   ],
   "source": [
    "name = 'Patrick'\n",
    "age = 30+2\n",
    "\n",
    "greeting = 'Hello, my name is {} and I\\'m {} years old.'.format(name, age)\n",
    "\n",
    "print(greeting)"
   ]
  },
  {
   "cell_type": "markdown",
   "metadata": {},
   "source": [
    "<br><br>\n",
    "\n",
    "The best way!!! f-strings"
   ]
  },
  {
   "cell_type": "code",
   "execution_count": 27,
   "metadata": {},
   "outputs": [
    {
     "name": "stdout",
     "output_type": "stream",
     "text": [
      "Hello, my name is Patrick and I'm 32 years old.\n"
     ]
    }
   ],
   "source": [
    "name = 'Patrick'\n",
    "\n",
    "print(f'Hello, my name is {name} and I\\'m {int((60/2)+2)} years old.')\n"
   ]
  }
 ],
 "metadata": {
  "kernelspec": {
   "display_name": "Python 3",
   "language": "python",
   "name": "python3"
  },
  "language_info": {
   "codemirror_mode": {
    "name": "ipython",
    "version": 3
   },
   "file_extension": ".py",
   "mimetype": "text/x-python",
   "name": "python",
   "nbconvert_exporter": "python",
   "pygments_lexer": "ipython3",
   "version": "3.8.5"
  }
 },
 "nbformat": 4,
 "nbformat_minor": 4
}
