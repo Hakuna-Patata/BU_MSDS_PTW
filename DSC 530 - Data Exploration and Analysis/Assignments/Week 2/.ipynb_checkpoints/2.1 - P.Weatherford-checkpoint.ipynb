{
 "cells": [
  {
   "cell_type": "markdown",
   "metadata": {},
   "source": [
    "<a id='_home'></a>\n",
    "\n",
    "# <span style=\"color:#bce35b\">Assignment 2.1</span>\n",
    "\n",
    "<span style=\"color:#9c9c9c; font-size:16px\">\n",
    "\n",
    "\n",
    "**Author**: Patrick Weatherford <br>\n",
    "**Affiliation**: Bellevue University <br>\n",
    "**Class**: DSC 530 - Data Exploration and Analysis\n",
    "    \n",
    "</span>\n",
    "\n",
    "***\n",
    "\n",
    "<br>"
   ]
  },
  {
   "cell_type": "code",
   "execution_count": 1,
   "metadata": {},
   "outputs": [
    {
     "name": "stdout",
     "output_type": "stream",
     "text": [
      "Hello World! I wonder why that is always the default coding text to start with\n"
     ]
    }
   ],
   "source": [
    "print(f'Hello World! I wonder why that is always the default coding text to start with')"
   ]
  },
  {
   "cell_type": "code",
   "execution_count": 2,
   "metadata": {},
   "outputs": [
    {
     "name": "stdout",
     "output_type": "stream",
     "text": [
      "3\n"
     ]
    }
   ],
   "source": [
    "print(2+1)"
   ]
  },
  {
   "cell_type": "code",
   "execution_count": 3,
   "metadata": {},
   "outputs": [
    {
     "name": "stdout",
     "output_type": "stream",
     "text": [
      "4\n"
     ]
    }
   ],
   "source": [
    "print(5-1)"
   ]
  },
  {
   "cell_type": "code",
   "execution_count": 4,
   "metadata": {},
   "outputs": [
    {
     "name": "stdout",
     "output_type": "stream",
     "text": [
      "10\n"
     ]
    }
   ],
   "source": [
    "print(5*2)"
   ]
  },
  {
   "cell_type": "code",
   "execution_count": 6,
   "metadata": {},
   "outputs": [
    {
     "name": "stdout",
     "output_type": "stream",
     "text": [
      "3.5\n"
     ]
    }
   ],
   "source": [
    "print(7/2)"
   ]
  },
  {
   "cell_type": "code",
   "execution_count": 7,
   "metadata": {},
   "outputs": [
    {
     "name": "stdout",
     "output_type": "stream",
     "text": [
      "This is a concatenated string\n"
     ]
    }
   ],
   "source": [
    "var1 = 'This is a '\n",
    "var2 = 'concatenated string'\n",
    "\n",
    "print(var1 + var2)"
   ]
  },
  {
   "cell_type": "code",
   "execution_count": 11,
   "metadata": {},
   "outputs": [
    {
     "name": "stdout",
     "output_type": "stream",
     "text": [
      "[1, 's', 2.5, 'b']\n",
      "[1, 's', 2.5, 'b', 'blahblah']\n"
     ]
    }
   ],
   "source": [
    "list1 = [1,'s', 2.5, 'b']\n",
    "\n",
    "print(list1)\n",
    "\n",
    "# append item to list\n",
    "list1.append('blahblah')\n",
    "\n",
    "print(list1)"
   ]
  },
  {
   "cell_type": "code",
   "execution_count": 12,
   "metadata": {},
   "outputs": [
    {
     "name": "stdout",
     "output_type": "stream",
     "text": [
      "('Id:', 1255, 'Name:', 'Hakuna-Patata')\n"
     ]
    }
   ],
   "source": [
    "tupl = ('Id:', 1255, 'Name:', 'Hakuna-Patata')\n",
    "\n",
    "print(tupl)"
   ]
  }
 ],
 "metadata": {
  "kernelspec": {
   "display_name": "Python 3",
   "language": "python",
   "name": "python3"
  },
  "language_info": {
   "codemirror_mode": {
    "name": "ipython",
    "version": 3
   },
   "file_extension": ".py",
   "mimetype": "text/x-python",
   "name": "python",
   "nbconvert_exporter": "python",
   "pygments_lexer": "ipython3",
   "version": "3.8.5"
  }
 },
 "nbformat": 4,
 "nbformat_minor": 4
}
