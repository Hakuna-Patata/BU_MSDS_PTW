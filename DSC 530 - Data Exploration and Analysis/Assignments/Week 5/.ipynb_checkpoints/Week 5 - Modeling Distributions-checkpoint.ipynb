{
 "cells": [
  {
   "cell_type": "markdown",
   "metadata": {},
   "source": [
    "# <span style=\"color:#bcff8f\"> Week 5 Assignment</span>\n",
    "\n",
    "<span style=\"font-size:12pt;color:gray;font-weight:bold\"> Patrick Weatherford</span><br>\n",
    "\n",
    "<span style=\"font-size:16pt\">Modeling Distributinos</span>\n",
    "\n",
    "***\n",
    "http://thinkstats2.com\n",
    "\n",
    "Copyright 2016 Allen B. Downey\n",
    "\n",
    "MIT License: https://opensource.org/licenses/MIT\n",
    "\n",
    "***\n",
    "\n",
    "<br>"
   ]
  },
  {
   "cell_type": "markdown",
   "metadata": {},
   "source": [
    "<br>\n",
    "Setting working directory to ThinkStats2 directory"
   ]
  },
  {
   "cell_type": "code",
   "execution_count": 1,
   "metadata": {},
   "outputs": [],
   "source": [
    "import os\n",
    "\n",
    "# changing working directory to ThinkStats2/code folder\n",
    "path = os.path.expanduser('~') + '\\\\OneDrive - Bellevue University\\\\Bellevue_University\\\\DSC 530 - Data Exploration and Analysis\\\\ThinkStats2\\\\code'\n",
    "os.chdir(path)"
   ]
  },
  {
   "cell_type": "markdown",
   "metadata": {},
   "source": [
    "<br>\n",
    "\n",
    "Importing libraries"
   ]
  },
  {
   "cell_type": "code",
   "execution_count": 69,
   "metadata": {},
   "outputs": [],
   "source": [
    "from __future__ import print_function, division\n",
    "\n",
    "%matplotlib inline\n",
    "\n",
    "import numpy as np\n",
    "\n",
    "import nsfg\n",
    "import first\n",
    "import analytic\n",
    "import thinkstats2\n",
    "import thinkplot\n",
    "import density\n",
    "import hinc\n"
   ]
  },
  {
   "cell_type": "markdown",
   "metadata": {},
   "source": [
    "<br>\n",
    "\n",
    "***\n",
    "\n",
    "## <span style=\"color:#c58fff\">Exercise 5-1</span>\n",
    "\n",
    "**Exercise:** In the BRFSS (see Section 5.4), the distribution of heights is roughly normal with parameters µ = 178 cm and σ = 7.7 cm for men, and µ = 163 cm and σ = 7.3 cm for women.\n",
    "\n",
    "In order to join Blue Man Group, you have to be male between 5’10” and 6’1” (see http://bluemancasting.com). What percentage of the U.S. male population is in this range? Hint: use `scipy.stats.norm.cdf`."
   ]
  },
  {
   "cell_type": "markdown",
   "metadata": {},
   "source": [
    "`scipy.stats` contains objects that represent analytic distributions"
   ]
  },
  {
   "cell_type": "code",
   "execution_count": 8,
   "metadata": {},
   "outputs": [],
   "source": [
    "import scipy.stats"
   ]
  },
  {
   "cell_type": "markdown",
   "metadata": {},
   "source": [
    "<br>\n",
    "\n",
    "For example <tt>scipy.stats.norm</tt> represents a normal distribution."
   ]
  },
  {
   "cell_type": "code",
   "execution_count": 9,
   "metadata": {},
   "outputs": [
    {
     "data": {
      "text/plain": [
       "scipy.stats._distn_infrastructure.rv_frozen"
      ]
     },
     "execution_count": 9,
     "metadata": {},
     "output_type": "execute_result"
    }
   ],
   "source": [
    "mu = 178\n",
    "sigma = 7.7\n",
    "dist = scipy.stats.norm(loc=mu, scale=sigma)\n",
    "type(dist)"
   ]
  },
  {
   "cell_type": "markdown",
   "metadata": {},
   "source": [
    "<br>\n",
    "\n",
    "A \"frozen random variable\" can compute its mean and standard deviation."
   ]
  },
  {
   "cell_type": "code",
   "execution_count": 10,
   "metadata": {},
   "outputs": [
    {
     "data": {
      "text/plain": [
       "(178.0, 7.7)"
      ]
     },
     "execution_count": 10,
     "metadata": {},
     "output_type": "execute_result"
    }
   ],
   "source": [
    "dist.mean(), dist.std()"
   ]
  },
  {
   "cell_type": "markdown",
   "metadata": {},
   "source": [
    "<br>\n",
    "\n",
    "It can also evaluate its CDF.  How many people are more than one standard deviation below the mean?  About 16%"
   ]
  },
  {
   "cell_type": "code",
   "execution_count": 30,
   "metadata": {},
   "outputs": [
    {
     "data": {
      "text/plain": [
       "0.1586552539314574"
      ]
     },
     "execution_count": 30,
     "metadata": {},
     "output_type": "execute_result"
    }
   ],
   "source": [
    "dist.cdf(mu-sigma)"
   ]
  },
  {
   "cell_type": "markdown",
   "metadata": {},
   "source": [
    "<br>\n",
    "\n",
    "How many people are between 5'10\" and 6'1\"? Also show mean and median of distribution."
   ]
  },
  {
   "cell_type": "code",
   "execution_count": 47,
   "metadata": {},
   "outputs": [
    {
     "data": {
      "image/png": "[encoded data removed]",
      "text/plain": [
       "<Figure size 432x288 with 1 Axes>"
      ]
     },
     "metadata": {
      "needs_background": "light"
     },
     "output_type": "display_data"
    },
    {
     "name": "stdout",
     "output_type": "stream",
     "text": [
      "People between 5'10\" and 6'1\": 34.27%\n"
     ]
    }
   ],
   "source": [
    "import matplotlib.pyplot as plt\n",
    "import numpy as np\n",
    "import scipy.stats as stats\n",
    "\n",
    "\n",
    "def ft_inch_2_cm(feet=0, inches=0):\n",
    "    feet_2_inch = feet*12\n",
    "    total_inches = feet_2_inch + inches\n",
    "    total_cm = total_inches*2.54\n",
    "    return total_cm\n",
    "\n",
    "mu = 178\n",
    "sigma = 7.7\n",
    "\n",
    "x = np.linspace(mu - 3*sigma, mu + 3*sigma, 100)\n",
    "plt.plot(x, stats.norm.cdf(x, mu, sigma))\n",
    "plt.xlabel(\"Male Height (cm))\")\n",
    "plt.ylabel(\"CDF\")\n",
    "plt.title(\"CDF of Normal Distribution for Male Height\")\n",
    "plt.grid(True)\n",
    "\n",
    "\n",
    "dist = scipy.stats.norm(loc=mu, scale=sigma)\n",
    "\n",
    "lower_bound = ft_inch_2_cm(feet=5, inches=10)\n",
    "upper_bound = ft_inch_2_cm(feet=6, inches=1)\n",
    "\n",
    "\n",
    "plt.plot(lower_bound, dist.cdf(lower_bound), marker='o', color='red')\n",
    "plt.plot(upper_bound, dist.cdf(upper_bound), marker='o', color='red')\n",
    "plt.text(lower_bound, dist.cdf(lower_bound), '5\\'10\"  ', horizontalalignment='right')\n",
    "plt.text(upper_bound, dist.cdf(upper_bound), '6\\'1\"  ', horizontalalignment='right')\n",
    "\n",
    "plt.show()\n",
    "\n",
    "\n",
    "print(f'People between 5\\'10\" and 6\\'1\": {round(100*(dist.cdf(upper_bound) - dist.cdf(lower_bound)), 2)}%')"
   ]
  },
  {
   "cell_type": "markdown",
   "metadata": {},
   "source": [
    "<br>\n",
    "\n",
    "***\n",
    "\n",
    "## <span style=\"color:#c58fff\">Exercise 5-2</span>\n",
    "\n",
    "**Exercise:** To get a feel for the Pareto distribution, let’s see how different the world would be if the distribution of human height were Pareto. With the parameters xm = 1 m and α = 1.7, we get a distribution with a reasonable minimum, 1 m, and median, 1.5 m.\n",
    "\n",
    "Plot this distribution. What is the mean human height in Pareto world? What fraction of the population is shorter than the mean? If there are 7 billion people in Pareto world, how many do we expect to be taller than 1 km? How tall do we expect the tallest person to be?\n",
    "\n",
    "`scipy.stats.pareto` represents a pareto distribution.  In Pareto world, the distribution of human heights has parameters alpha=1.7 and xmin=1 meter.  So the shortest person is 100 cm and the median is 150."
   ]
  },
  {
   "cell_type": "code",
   "execution_count": 94,
   "metadata": {},
   "outputs": [
    {
     "data": {
      "image/png": "[encoded data removed]",
      "text/plain": [
       "<Figure size 432x288 with 1 Axes>"
      ]
     },
     "metadata": {
      "needs_background": "light"
     },
     "output_type": "display_data"
    },
    {
     "name": "stdout",
     "output_type": "stream",
     "text": [
      "Median: 1.5m\n",
      "Mean: 2.43m\n"
     ]
    }
   ],
   "source": [
    "import scipy.stats as stats\n",
    "import matplotlib.pyplot as plt\n",
    "import numpy as np\n",
    "\n",
    "def cm_2_m(cm):\n",
    "    m = cm/100\n",
    "    return m\n",
    "    \n",
    "\n",
    "alpha = 1.7\n",
    "xmin = 1       # meter\n",
    "dist = scipy.stats.pareto(b=alpha, scale=xmin)\n",
    "\n",
    "\n",
    "x = np.linspace(start=xmin, stop=10, num=1000)\n",
    "y = stats.pareto.cdf(x, scale=xmin, b=alpha)\n",
    "\n",
    "plt.plot(x, y)\n",
    "plt.grid(True)\n",
    "plt.title(\"CDF of Pareto Distribution for Height\")\n",
    "plt.xlabel(\"Height (m)\")\n",
    "plt.ylabel(\"CDF\")\n",
    "plt.plot(dist.median(), stats.pareto.cdf(dist.median(), b=alpha, scale=xmin), marker='o', color='red')\n",
    "plt.text(dist.median(), stats.pareto.cdf(dist.median(), b=alpha, scale=xmin), f'  median\\n  {round(dist.median(), 2)}m', multialignment='left', horizontalalignment='left', fontweight='bold')\n",
    "plt.plot(dist.mean(), stats.pareto.cdf(dist.mean(), b=alpha, scale=xmin), marker='o', color='red')\n",
    "plt.text(dist.mean(), stats.pareto.cdf(dist.mean(), b=alpha, scale=xmin), f'mean  \\n{round(dist.mean(), 2)}m  ', multialignment='left', horizontalalignment='right', fontweight='bold')\n",
    "plt.show()\n",
    "\n",
    "print(f\"Median: {round(dist.median(),2)}m\\nMean: {round(dist.mean(),2)}m\")\n",
    "\n"
   ]
  },
  {
   "cell_type": "markdown",
   "metadata": {},
   "source": [
    "<br>\n",
    "\n",
    "What fraction of people are shorter than the mean?"
   ]
  },
  {
   "cell_type": "code",
   "execution_count": 92,
   "metadata": {},
   "outputs": [
    {
     "data": {
      "text/plain": [
       "0.778739697565288"
      ]
     },
     "execution_count": 92,
     "metadata": {},
     "output_type": "execute_result"
    }
   ],
   "source": [
    "stats.pareto.cdf(dist.mean(), b=alpha)"
   ]
  },
  {
   "cell_type": "markdown",
   "metadata": {},
   "source": [
    "<br>\n",
    "\n",
    "Out of 7 billion people, how many do we expect to be taller than 1 km?  You could use <tt>dist.cdf</tt> or <tt>dist.sf</tt>."
   ]
  },
  {
   "cell_type": "code",
   "execution_count": 112,
   "metadata": {},
   "outputs": [
    {
     "name": "stdout",
     "output_type": "stream",
     "text": [
      "Probability taller than 1km: 0.00000794328234724282\n",
      "Expected total taller than 1km: 55603\n"
     ]
    }
   ],
   "source": [
    "height_meter = 1\n",
    "height_km = height_meter*1000\n",
    "\n",
    "probability = stats.pareto.sf(height_km, b=alpha)\n",
    "pop_size = 7000000000\n",
    "\n",
    "print(f'''Probability taller than 1km: {probability:.20f}\n",
    "Expected total taller than 1km: {round(pop_size * probability)}''')\n"
   ]
  },
  {
   "cell_type": "markdown",
   "metadata": {},
   "source": [
    "<br>\n",
    "\n",
    "How tall do we expect the tallest person to be?"
   ]
  },
  {
   "cell_type": "code",
   "execution_count": 120,
   "metadata": {},
   "outputs": [],
   "source": [
    "path = os.path.expanduser('~') + '\\\\OneDrive - Bellevue University\\\\Bellevue_University\\\\DSC 530 - Data Exploration and Analysis\\\\Assignments\\\\Week 5'\n",
    "os.chdir(path)"
   ]
  },
  {
   "cell_type": "markdown",
   "metadata": {},
   "source": [
    "Infinity meters tall!!!!\n",
    "\n",
    "<img src=\"Chuck Norris Height - Pareto.jpg\">"
   ]
  },
  {
   "cell_type": "markdown",
   "metadata": {},
   "source": [
    "<br>\n",
    "\n",
    "***\n",
    "\n",
    "## <span style=\"color:#c58fff\">Exercise 6-1</span>\n",
    "\n",
    "The distribution of income is famously skewed to the right. In this exercise, we’ll measure how strong that skew is.\n",
    "The Current Population Survey (CPS) is a joint effort of the Bureau of Labor Statistics and the Census Bureau to study income and related variables. Data collected in 2013 is available from http://www.census.gov/hhes/www/cpstables/032013/hhinc/toc.htm. I downloaded `hinc06.xls`, which is an Excel spreadsheet with information about household income, and converted it to `hinc06.csv`, a CSV file you will find in the repository for this book. You will also find `hinc2.py`, which reads this file and transforms the data.\n",
    "\n",
    "The dataset is in the form of a series of income ranges and the number of respondents who fell in each range. The lowest range includes respondents who reported annual household income “Under \\$5000.” The highest range includes respondents who made “\\$250,000 or more.”\n",
    "\n",
    "To estimate mean and other statistics from these data, we have to make some assumptions about the lower and upper bounds, and how the values are distributed in each range. `hinc2.py` provides `InterpolateSample`, which shows one way to model this data. It takes a `DataFrame` with a column, `income`, that contains the upper bound of each range, and `freq`, which contains the number of respondents in each frame.\n",
    "\n",
    "It also takes `log_upper`, which is an assumed upper bound on the highest range, expressed in `log10` dollars. The default value, `log_upper=6.0` represents the assumption that the largest income among the respondents is $10^6$, or one million dollars.\n",
    "\n",
    "`InterpolateSample` generates a pseudo-sample; that is, a sample of household incomes that yields the same number of respondents in each range as the actual data. It assumes that incomes in each range are equally spaced on a `log10` scale.\n",
    "\n",
    "Compute the median, mean, skewness and Pearson’s skewness of the resulting sample. What fraction of households reports a taxable income below the mean? How do the results depend on the assumed upper bound?"
   ]
  },
  {
   "cell_type": "code",
   "execution_count": 75,
   "metadata": {},
   "outputs": [
    {
     "data": {
      "image/png": "[encoded data removed]",
      "text/plain": [
       "<Figure size 432x288 with 1 Axes>"
      ]
     },
     "metadata": {
      "needs_background": "light"
     },
     "output_type": "display_data"
    },
    {
     "name": "stdout",
     "output_type": "stream",
     "text": [
      "\n",
      "    Raw Moment 1 (mean): 74278.70753118733\n",
      "    Median: 51226.45447894046\n",
      "    Central Moment 2 (variance): 8826025649.562702\n",
      "    Standardized Central Moment 3 (skew): 4.949920244429583\n",
      "    Pearson's Skewness: 0.7361258019141782\n",
      "    66.0005879566872\n",
      "    \n"
     ]
    },
    {
     "data": {
      "image/png": "[encoded data removed]",
      "text/plain": [
       "<Figure size 576x432 with 1 Axes>"
      ]
     },
     "metadata": {
      "needs_background": "light"
     },
     "output_type": "display_data"
    }
   ],
   "source": [
    "import warnings\n",
    "import math\n",
    "\n",
    "warnings.filterwarnings(\"ignore\")\n",
    "\n",
    "def RawMoment(xs, k):\n",
    "    \"\"\"Computes the kth raw moment of xs.\n",
    "    \"\"\"\n",
    "    return sum(x**k for x in xs) / len(xs)\n",
    "\n",
    "\n",
    "def CentralMoment(xs, k):\n",
    "    \"\"\"Computes the kth central moment of xs.\n",
    "    \"\"\"\n",
    "    mean = RawMoment(xs, 1)\n",
    "    return sum((x - mean)**k for x in xs) / len(xs)\n",
    "\n",
    "\n",
    "def StandardizedMoment(xs, k):\n",
    "    \"\"\"Computes the kth standardized moment of xs.\n",
    "    \"\"\"\n",
    "    var = CentralMoment(xs, 2)\n",
    "    std = math.sqrt(var)\n",
    "    return CentralMoment(xs, k) / std**k\n",
    "\n",
    "\n",
    "def Skewness(xs):\n",
    "    \"\"\"Computes skewness.\n",
    "    \"\"\"\n",
    "    return StandardizedMoment(xs, 3)\n",
    "\n",
    "\n",
    "def Median(xs):\n",
    "    \"\"\"Computes the median (50th percentile) of a sequence.\n",
    "\n",
    "    xs: sequence or anything else that can initialize a Cdf\n",
    "\n",
    "    returns: float\n",
    "    \"\"\"\n",
    "    cdf = Cdf(xs)\n",
    "    return cdf.Value(0.5)\n",
    "\n",
    "\n",
    "def IQR(xs):\n",
    "    \"\"\"Computes the interquartile of a sequence.\n",
    "\n",
    "    xs: sequence or anything else that can initialize a Cdf\n",
    "\n",
    "    returns: pair of floats\n",
    "    \"\"\"\n",
    "    cdf = Cdf(xs)\n",
    "    return cdf.Value(0.25), cdf.Value(0.75)\n",
    "\n",
    "\n",
    "def PearsonMedianSkewness(xs, median):\n",
    "    \"\"\"Computes the Pearson median skewness.\n",
    "    \"\"\"\n",
    "    mean = RawMoment(xs, 1)\n",
    "    var = CentralMoment(xs, 2)\n",
    "    std = math.sqrt(var)\n",
    "    gp = 3 * (mean - median) / std\n",
    "    return gp\n",
    "\n",
    "\n",
    "def InterpolateSample(df, log_upper=6.0):\n",
    "    \"\"\"Makes a sample of log10 household income.\n",
    "\n",
    "    Assumes that log10 income is uniform in each range.\n",
    "\n",
    "    df: DataFrame with columns income and freq\n",
    "    log_upper: log10 of the assumed upper bound for the highest range\n",
    "\n",
    "    returns: NumPy array of log10 household income\n",
    "    \"\"\"\n",
    "    # compute the log10 of the upper bound for each range\n",
    "    df['log_upper'] = np.log10(df.income)\n",
    "\n",
    "    # get the lower bounds by shifting the upper bound and filling in\n",
    "    # the first element\n",
    "    df['log_lower'] = df.log_upper.shift(1)\n",
    "    df.log_lower[0] = 3.0\n",
    "\n",
    "    # plug in a value for the unknown upper bound of the highest range\n",
    "    df.log_upper[41] = log_upper\n",
    "\n",
    "    # use the freq column to generate the right number of values in\n",
    "    # each range\n",
    "    arrays = []\n",
    "    for _, row in df.iterrows():\n",
    "        vals = np.linspace(row.log_lower, row.log_upper, int(row.freq))\n",
    "        arrays.append(vals)\n",
    "\n",
    "    # collect the arrays into a single sample\n",
    "    log_sample = np.concatenate(arrays)\n",
    "    return log_sample\n",
    "\n",
    "\n",
    "def main():\n",
    "    df = hinc.ReadData()\n",
    "    log_sample = InterpolateSample(df, log_upper=6.0)\n",
    "\n",
    "    log_cdf = thinkstats2.Cdf(log_sample)\n",
    "    thinkplot.Cdf(log_cdf)\n",
    "    thinkplot.Show(xlabel='Household income ($)',\n",
    "                   ylabel='CDF')\n",
    "    \n",
    "    sample = np.power(10, log_sample)\n",
    "    \n",
    "    cdf = thinkstats2.Cdf(sample)\n",
    "    median = cdf.Value(0.5)\n",
    "    thinkplot.Cdf(cdf)\n",
    "    thinkplot.Config(xlabel='Household income ($)',\n",
    "                   ylabel='CDF')\n",
    "    \n",
    "    print(f\"\"\"\n",
    "    Raw Moment 1 (mean): {RawMoment(sample, 1)}\n",
    "    Median: {cdf.Value(0.5)}\n",
    "    Central Moment 2 (variance): {CentralMoment(sample, 2)}\n",
    "    Standardized Central Moment 3 (skew): {StandardizedMoment(sample, 3)}\n",
    "    Pearson's Skewness: {PearsonMedianSkewness(sample, median)}\n",
    "    Fraction of people less than mean: {cdf.PercentileRank(RawMoment(sample, 1))}\n",
    "    \"\"\")\n",
    "\n",
    "\n",
    "if __name__ == \"__main__\":\n",
    "    main()"
   ]
  }
 ],
 "metadata": {
  "kernelspec": {
   "display_name": "Python 3",
   "language": "python",
   "name": "python3"
  },
  "language_info": {
   "codemirror_mode": {
    "name": "ipython",
    "version": 3
   },
   "file_extension": ".py",
   "mimetype": "text/x-python",
   "name": "python",
   "nbconvert_exporter": "python",
   "pygments_lexer": "ipython3",
   "version": "3.8.5"
  }
 },
 "nbformat": 4,
 "nbformat_minor": 4
}
