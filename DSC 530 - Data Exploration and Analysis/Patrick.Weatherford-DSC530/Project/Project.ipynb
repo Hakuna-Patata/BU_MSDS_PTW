{
 "cells": [
  {
   "cell_type": "markdown",
   "metadata": {},
   "source": [
    "<a id='_home'></a>\n",
    "\n",
    "# <span style=\"color:#bce35b\">Autism Spectrum Disorder (ASD)</span>\n",
    "\n",
    "## <span style=\"color:#ae8bd5\">Exploratory Data Analysis</span>\n",
    "\n",
    "<span style=\"color:#9c9c9c; font-size:16px\">\n",
    "\n",
    "\n",
    "**Author**: Patrick Weatherford <br>\n",
    "**Affiliation**: Bellevue University <br>\n",
    "**Class**: DSC 530 - Data Exploration and Analysis\n",
    "    \n",
    "</span>\n",
    "\n",
    "***"
   ]
  },
  {
   "cell_type": "markdown",
   "metadata": {},
   "source": [
    "<br>\n",
    "\n",
    "<span style=\"color:#bce35b\">\n",
    "\n",
    "# Table of Contents\n",
    "    \n",
    "</span>\n",
    "\n",
    "- #### [<span style=\"color:#ae8bd5\">Load Packages</span>](#_load_packages)\n",
    "- #### [<span style=\"color:#ae8bd5\">Import Data</span>](#_import_data)\n",
    "    - ##### [<span style=\"color:white\">Change Working Directory</span>](#_change_working_directory)\n",
    "    - ##### [<span style=\"color:white\">Create Initial DataFrames</span>](#_create_initial_dataframes)\n",
    "- #### [<span style=\"color:#ae8bd5\">Visualize the Data</span>](#_visualize_the_data)\n",
    "    - ##### [<span style=\"color:white\">ASD Prevalence by State</span>](#_asd_prevalence_by_state)\n",
    "    - ##### [<span style=\"color:white\">Vaccination Rate by State</span>](#_vaccination_rate_by_state)\n",
    "    - ##### [<span style=\"color:white\">Father Age >= 40 Rate</span>](#_father_age_>=40_rate)\n",
    "    - ##### [<span style=\"color:white\">Mother Age >= 40 Rate</span>](#_mother_age_>=40_rate)\n",
    "- #### [<span style=\"color:#ae8bd5\">References</span>](#_references)\n",
    "\n",
    "<br>\n",
    "\n",
    "***\n",
    "***\n",
    "<a id='_load_packages'></a>"
   ]
  },
  {
   "cell_type": "markdown",
   "metadata": {},
   "source": [
    "## <span style=\"color:#ae8bd6\">Load Packages</span>    [<span style=\"font-size:12px\">(*Home*)</span>](#_home)"
   ]
  },
  {
   "cell_type": "code",
   "execution_count": 3,
   "metadata": {},
   "outputs": [],
   "source": [
    "import pandas as pd\n",
    "import os"
   ]
  },
  {
   "cell_type": "markdown",
   "metadata": {},
   "source": [
    "<a id='_import_data'></a><br>\n",
    "\n",
    "## <span style=\"color:#ae8bd6\">Import Data</span>    [<span style=\"font-size:12px\">(*Home*)</span>](#_home)"
   ]
  },
  {
   "cell_type": "markdown",
   "metadata": {},
   "source": [
    "<a id='_change_working_directory'></a>\n",
    "\n",
    "### Change Working Directory"
   ]
  },
  {
   "cell_type": "code",
   "execution_count": 22,
   "metadata": {},
   "outputs": [],
   "source": [
    "# Change working directory\n",
    "wd_path = ( os.environ[\"HOMEPATH\"] + '\\OneDrive - Bellevue University\\BU\\DSC 530 - Data Exploration and Analysis\\Patrick.Weatherford-DSC530\\Project' )\n",
    "os.chdir(wd_path)"
   ]
  },
  {
   "cell_type": "markdown",
   "metadata": {},
   "source": [
    "<br>\n",
    "<a id='_create_initial_dataframes'></a>\n",
    "\n",
    "### Create Initial DataFrames"
   ]
  },
  {
   "cell_type": "code",
   "execution_count": 4,
   "metadata": {},
   "outputs": [],
   "source": [
    "# Census population data by State\n",
    "state_pop_df = pd.read_excel('Data/2020_Census_Data_by_State.xlsx', sheet_name='CensusData')\n",
    "\n",
    "\n",
    "# Autism Spectrum Disorder (ASD) Prevalence by State\n",
    "state_asd_df = pd.read_excel('Data/ASD_Prevalence_Age_3-17yrs_by_State_Survey_2019-2020.xlsx', sheet_name='PrevalenceData')\n",
    "\n",
    "\n",
    "# Vaccination Rates by State\n",
    "vacc_rate_df = pd.read_excel('Data/Vaccination_Rates_by_State_Born_2014-2017.xlsx', sheet_name='VaccData')\n",
    "\n",
    "\n",
    "# Natality Data by State\n",
    "natality_df = pd.read_excel('Data/Birth_Natality_Data_2016.xlsx', sheet_name='NatalityData')"
   ]
  },
  {
   "cell_type": "markdown",
   "metadata": {},
   "source": [
    "<br>\n",
    "<a id='_visualize_the_data'></a>\n",
    "\n",
    "## <span style=\"color:#ae8bd6\">Visualize the Data</span>    [<span style=\"font-size:12px\">(*Home*)</span>](#_home)\n"
   ]
  },
  {
   "cell_type": "markdown",
   "metadata": {},
   "source": [
    "<a id='_asd_prevalence_by_state'></a>\n",
    "\n",
    "### ASD Prevalence by State\n",
    "\n",
    "For children 3-17 years of age for years 2018-2019. Data obtained from the National Survey of Children's Health (NSCH).\n"
   ]
  },
  {
   "cell_type": "markdown",
   "metadata": {},
   "source": [
    "<img src=\"Images/ASD Prevalence by State.jpg\">\n",
    "\n",
    "*Image created manually in Tableau. Data from external source.*\n",
    "\n",
    "<span style=\"font-size:10px\">\n",
    "\n",
    "Data Reference: Child and Adolescent Health Measurement Initiative. 2018-2019 National Survey of Children’s Health (NSCH) data query. Data Resource Center for Child and Adolescent Health supported by the U.S. Department of Health and Human Services, Health Resources and Services Administration (HRSA), Maternal and Child Health Bureau (MCHB). Retrieved 12/2/2021 from [www.childhealthdata.org]\n",
    "    \n",
    "</span>"
   ]
  },
  {
   "cell_type": "markdown",
   "metadata": {},
   "source": [
    "<br>\n",
    "\n",
    "***\n",
    "\n",
    "<a id='_vaccination_rate_by_state'></a>\n",
    "\n",
    "### Vaccination Rate by State\n",
    "\n",
    "For children 0-35 months of age. Survey taken for year 2021. Data obtained from the Center for Disease Control and Prevention (CDC).\n"
   ]
  },
  {
   "cell_type": "markdown",
   "metadata": {},
   "source": [
    "<img src=\"Images/Vaccination Rate by State.jpg\">\n",
    "\n",
    "*Image created manually in Tableau. Data from external source.*\n",
    "\n",
    "<span style=\"font-size:10px\">\n",
    "\n",
    "Data Reference: Vaccination Coverage among Young Children (0-35 Months) | Data | Centers for Disease Control and Prevention. (2021). Retrieved 2 December 2021, from https://data.cdc.gov/Child-Vaccinations/Vaccination-Coverage-among-Young-Children-0-35-Mon/fhky-rtsk\n",
    "    \n",
    "</span>"
   ]
  },
  {
   "cell_type": "markdown",
   "metadata": {},
   "source": [
    "<br>\n",
    "\n",
    "***\n",
    "\n",
    "<a id='_father_age_>=40_rate'></a>\n",
    "\n",
    "### Father Age >= 40 Rate\n",
    "\n",
    "Birth natality data for year 2016. Data obtained from CDC Wonder data bank.\n"
   ]
  },
  {
   "cell_type": "markdown",
   "metadata": {},
   "source": [
    "<img src=\"Images/Father Age Rate 40.jpg\">\n",
    "\n",
    "*Image created manually in Tableau. Data from external source.*\n",
    "\n",
    "<span style=\"font-size:10px\">\n",
    "\n",
    "Data Reference: Centers for Disease Control and Prevention. CDC Wonder. http://wonder.cdc.gov/. December 2021.\n",
    "    \n",
    "</span>"
   ]
  },
  {
   "cell_type": "markdown",
   "metadata": {},
   "source": [
    "<br>\n",
    "\n",
    "***\n",
    "\n",
    "<a id='_mother_age_>=40_rate'></a>\n",
    "\n",
    "### Mother Age >= 40 Rate\n",
    "\n",
    "Birth natality data for year 2016. Data obtained from CDC wonder data bank.\n"
   ]
  },
  {
   "cell_type": "markdown",
   "metadata": {},
   "source": [
    "<img src=\"Images/Mother Age Rate 40.jpg\">\n",
    "\n",
    "*Image created manually in Tableau. Data from external source.*\n",
    "\n",
    "<span style=\"font-size:10px\">\n",
    "\n",
    "Data Reference: Centers for Disease Control and Prevention. CDC Wonder. http://wonder.cdc.gov/. December 2021.\n",
    "    \n",
    "</span>"
   ]
  },
  {
   "cell_type": "markdown",
   "metadata": {},
   "source": [
    "<a id=\"_references\"></a><br><br>\n",
    "\n",
    "## <span style=\"color:#ae8bd6\">References</span>    [<span style=\"font-size:12px\">(*Home*)</span>](#_home)"
   ]
  },
  {
   "cell_type": "markdown",
   "metadata": {},
   "source": [
    "<u>ASD Prevalence</u><br>\n",
    "Child and Adolescent Health Measurement Initiative. 2018-2019 National Survey of Children’s Health (NSCH) data query. Data Resource Center for Child and Adolescent Health supported by the U.S. Department of Health and Human Services, Health Resources and Services Administration (HRSA), Maternal and Child Health Bureau (MCHB). Retrieved 12/2/2021 from [www.childhealthdata.org]\n",
    "\n",
    "<br>\n",
    "\n",
    "<u>Census Population</u><br>\n",
    "Explore Census Data. (2021). Retrieved 2 December 2021, from https://data.census.gov/cedsci/\n",
    "\n",
    "<br>\n",
    "\n",
    "<u>Vaccination Rates</u><br>\n",
    "Vaccination Coverage among Young Children (0-35 Months) | Data | Centers for Disease Control and Prevention. (2021). Retrieved 2 December 2021, from https://data.cdc.gov/Child-Vaccinations/Vaccination-Coverage-among-Young-Children-0-35-Mon/fhky-rtsk\n",
    "\n",
    "<br>\n",
    "\n",
    "<u>Birth Natality</u><br>\n",
    "Centers for Disease Control and Prevention. CDC Wonder. http://wonder.cdc.gov/. December 2021."
   ]
  }
 ],
 "metadata": {
  "kernelspec": {
   "display_name": "Python 3",
   "language": "python",
   "name": "python3"
  },
  "language_info": {
   "codemirror_mode": {
    "name": "ipython",
    "version": 3
   },
   "file_extension": ".py",
   "mimetype": "text/x-python",
   "name": "python",
   "nbconvert_exporter": "python",
   "pygments_lexer": "ipython3",
   "version": "3.8.5"
  }
 },
 "nbformat": 4,
 "nbformat_minor": 4
}
