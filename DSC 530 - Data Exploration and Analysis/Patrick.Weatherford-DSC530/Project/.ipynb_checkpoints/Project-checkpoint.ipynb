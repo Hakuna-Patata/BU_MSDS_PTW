{
 "cells": [
  {
   "cell_type": "markdown",
   "metadata": {},
   "source": [
    "<a id='_home'></a>\n",
    "\n",
    "<span style=\"color:#bce35b\">\n",
    "\n",
    "# Autism Spectrum Disorder Exploratory Data Analysis\n",
    "\n",
    "</span>\n",
    "    \n",
    "<span style=\"color:#9c9c9c; font-size:16px\">\n",
    "    \n",
    "**Author**: Patrick Weatherford\n",
    "</br>\n",
    "**Affiliation**: Bellevue University\n",
    "</br>\n",
    "**Class**: DSC 530 - Data Exploration and Analysis\n",
    "    \n",
    "</span>\n",
    "\n",
    "***"
   ]
  },
  {
   "cell_type": "markdown",
   "metadata": {},
   "source": [
    "<br>\n",
    "\n",
    "<span style=\"color:#bce35b\">\n",
    "\n",
    "# Table of Contents\n",
    "    \n",
    "</span>\n",
    "\n",
    "- #### [Load Packages](#_load_packages)\n",
    "- #### [Import Data](#_import_data)\n",
    "    - ##### [Change Working Directory](#_change_working_directory)\n",
    "    - ##### [Create Initial DataFrames](#_create_initial_dataframes)\n",
    "\n",
    "<br>\n",
    "\n",
    "***\n",
    "***\n",
    "<a id='_load_packages'></a>"
   ]
  },
  {
   "cell_type": "markdown",
   "metadata": {},
   "source": [
    "<br>\n",
    "<br>\n",
    "\n",
    "<span style=\"color:#ae8bd6\">\n",
    "\n",
    "## Load Packages <span style=\"color:blue;font-size:12px\">\n",
    "\n",
    "</span>\n",
    "    \n",
    "[*Home*](#_home)"
   ]
  },
  {
   "cell_type": "code",
   "execution_count": 1,
   "metadata": {},
   "outputs": [],
   "source": [
    "import pandas as pd\n",
    "import os"
   ]
  },
  {
   "cell_type": "markdown",
   "metadata": {},
   "source": [
    "<a id='_import_data'></a>\n",
    "\n",
    "<br>\n",
    "<br>\n",
    "\n",
    "<span style=\"color:#ae8bd6\">\n",
    "    \n",
    "## Import Data \n",
    "\n",
    "</span>\n",
    "\n",
    "[*Home*](#_home)"
   ]
  },
  {
   "cell_type": "markdown",
   "metadata": {},
   "source": [
    "<a id='_change_working_directory'></a>\n",
    "\n",
    "### Change Working Directory"
   ]
  },
  {
   "cell_type": "code",
   "execution_count": 22,
   "metadata": {},
   "outputs": [],
   "source": [
    "# Change working directory\n",
    "wd_path = ( os.environ[\"HOMEPATH\"] + '\\OneDrive - Bellevue University\\BU\\DSC 530 - Data Exploration and Analysis\\Patrick.Weatherford-DSC530\\Project' )\n",
    "os.chdir(wd_path)"
   ]
  },
  {
   "cell_type": "markdown",
   "metadata": {},
   "source": [
    "<a id='_create_initial_dataframes'></a>\n",
    "\n",
    "### Create Initial DataFrames"
   ]
  },
  {
   "cell_type": "code",
   "execution_count": 22,
   "metadata": {},
   "outputs": [],
   "source": [
    "# Census population data by State\n",
    "state_pop_df = pd.read_excel('Data/2020_Census_Data_by_State.xlsx', sheet_name='CensusData')\n",
    "\n",
    "\n",
    "# Autism Spectrum Disorder (ASD) Prevalence by State\n",
    "state_asd_df = pd.read_excel('Data/ASD_Prevalence_Age_3-17yrs_by_State_Survey_2019-2020.xlsx', sheet_name='PrevalenceData')\n",
    "\n",
    "\n",
    "# Vaccination Rates by State\n",
    "vacc_rate_df = pd.read_excel('Data/Vaccination_Rates_by_State_Born_2014-2017.xlsx', sheet_name='VaccData')"
   ]
  }
 ],
 "metadata": {
  "kernelspec": {
   "display_name": "Python 3",
   "language": "python",
   "name": "python3"
  },
  "language_info": {
   "codemirror_mode": {
    "name": "ipython",
    "version": 3
   },
   "file_extension": ".py",
   "mimetype": "text/x-python",
   "name": "python",
   "nbconvert_exporter": "python",
   "pygments_lexer": "ipython3",
   "version": "3.8.5"
  }
 },
 "nbformat": 4,
 "nbformat_minor": 4
}
