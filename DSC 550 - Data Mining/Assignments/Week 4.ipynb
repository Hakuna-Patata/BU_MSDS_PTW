{
 "cells": [
  {
   "cell_type": "markdown",
   "metadata": {},
   "source": [
    "<br>\n",
    "\n",
    "***\n",
    "\n",
    "# <span style=\"color:#0070C0;font-size:45px\"><b>Week 4</b></span>\n",
    "<!-- # <span style=\"color:#0070C0;font-size:35px\"><b>Title</b></span> -->\n",
    "<!-- # <span style=\"color:#0070C0\">H1</span> -->\n",
    "<!-- ## <span style=\"color:#2A9FC4\">H2</span> -->\n",
    "<!-- ### <span style=\"color:#44AA57\">H3</span> -->\n",
    "\n",
    "<span style=\"color:#8c8c8c\">Patrick Weatherford</span>\n",
    "\n",
    "[Dark Blue]: <> (#0070C0)\n",
    "[Light Blue]: <> (#2A9FC4)\n",
    "[Earth Green]: <> (#44AA57)\n",
    "[Grey]: <> (#8c8c8c)"
   ]
  },
  {
   "cell_type": "markdown",
   "metadata": {},
   "source": [
    "<br>\n",
    "\n",
    "***\n",
    "\n",
    "# <span style=\"color:#0070C0\">Import Libraries</span>\n",
    "<!-- # <span style=\"color:#0070C0;font-size:40px\"><b>Title</b></span> -->\n",
    "<!-- # <span style=\"color:#0070C0\">H1</span> -->\n",
    "<!-- ## <span style=\"color:#2A9FC4\">H2</span> -->\n",
    "<!-- ### <span style=\"color:#44AA57\">H3</span> -->\n",
    "\n",
    "<!-- <span style=\"color:#8c8c8c\">Patrick Weatherford</span> -->\n",
    "\n",
    "[Dark Blue]: <> (#0070C0)\n",
    "[Light Blue]: <> (#2A9FC4)\n",
    "[Earth Green]: <> (#44AA57)\n",
    "[Grey]: <> (#8c8c8c)"
   ]
  },
  {
   "cell_type": "markdown",
   "metadata": {},
   "source": [
    "Custom module on github: https://github.com/Hakuna-Patata/BU_MSDS_PTW/blob/main/Python/HakunaPatata.py"
   ]
  },
  {
   "cell_type": "code",
   "execution_count": 1,
   "metadata": {},
   "outputs": [],
   "source": [
    "import os\n",
    "import sys\n",
    "\n",
    "home_path = f\"C:{os.environ['HOMEPATH']}\"\n",
    "bu_path = f\"{home_path}\\\\OneDrive - Bellevue University\\\\Bellevue_University\"\n",
    "\n",
    "custom_mod_path = f\"{bu_path}\\\\Python\\\\Custom_Modules\".replace('\\\\', '/')\n",
    "\n",
    "sys.path.append(custom_mod_path)\n",
    "\n",
    "import api_keys\n",
    "import hakuna_patata"
   ]
  },
  {
   "cell_type": "code",
   "execution_count": 30,
   "metadata": {},
   "outputs": [],
   "source": [
    "import matplotlib as mpl\n",
    "import matplotlib.pyplot as plt\n",
    "import numpy as np\n",
    "import pandas as pd\n",
    "from pprint import pprint\n",
    "from zipfile import ZipFile\n",
    "from textblob import TextBlob\n",
    "from nltk.corpus import stopwords\n",
    "from nltk.stem.porter import PorterStemmer\n",
    "from nltk.sentiment.vader import SentimentIntensityAnalyzer\n",
    "from sklearn.feature_extraction.text import CountVectorizer, TfidfVectorizer\n",
    "from sklearn.preprocessing import MinMaxScaler\n",
    "\n",
    "%matplotlib inline\n",
    "\n",
    "# matplotlib default settings\n",
    "plt.style.use('dark_background')\n",
    "mpl.rcParams.update({'lines.linewidth': 3})\n",
    "mpl.rcParams.update({'axes.labelsize': 14})\n",
    "mpl.rcParams.update({'axes.titlesize': 16})\n",
    "mpl.rcParams.update({'axes.titleweight': 'bold'})\n",
    "mpl.rcParams.update({'figure.autolayout': True})\n",
    "mpl.rcParams.update(\n",
    "    {'axes.grid': True, 'grid.color': '#424242', 'grid.linestyle': '--'})\n",
    "\n",
    "# creation random number generator object\n",
    "rng_seed = 777\n",
    "rng = np.random.default_rng(rng_seed)\n",
    "\n",
    "# pandas dataframe options\n",
    "pd.set_option('display.max_columns', None)\n"
   ]
  }
 ],
 "metadata": {
  "kernelspec": {
   "display_name": "Python 3.10.4 ('BU_work')",
   "language": "python",
   "name": "python3"
  },
  "language_info": {
   "codemirror_mode": {
    "name": "ipython",
    "version": 3
   },
   "file_extension": ".py",
   "mimetype": "text/x-python",
   "name": "python",
   "nbconvert_exporter": "python",
   "pygments_lexer": "ipython3",
   "version": "3.10.4"
  },
  "orig_nbformat": 4,
  "vscode": {
   "interpreter": {
    "hash": "f3cdbbf374133bcf17d677570233b4a1afa886b062ec5674a157ae5d28651db4"
   }
  }
 },
 "nbformat": 4,
 "nbformat_minor": 2
}
