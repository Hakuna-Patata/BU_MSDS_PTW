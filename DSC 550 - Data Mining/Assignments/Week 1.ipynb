{
 "cells": [
  {
   "cell_type": "code",
   "execution_count": 8,
   "metadata": {},
   "outputs": [],
   "source": [
    "import os\n",
    "import keyring\n",
    "import matplotlib as mpl\n",
    "import matplotlib.pyplot as plt \n",
    "import numpy as np\n",
    "import pandas as pd \n",
    "import requests\n",
    "import dask\n",
    "from http import HTTPStatus\n",
    "from bs4 import BeautifulSoup\n",
    "\n",
    "\n",
    "%matplotlib inline\n",
    "\n",
    "# matplotlib default settings\n",
    "plt.style.use('dark_background')\n",
    "mpl.rcParams.update({'lines.linewidth': 3})\n",
    "mpl.rcParams.update({'axes.labelsize': 14})\n",
    "mpl.rcParams.update({'axes.titlesize': 16})\n",
    "mpl.rcParams.update({'axes.titleweight': 'bold'})\n",
    "mpl.rcParams.update({'figure.autolayout': True})\n",
    "mpl.rcParams.update(\n",
    "    {'axes.grid': True, 'grid.color': '#424242', 'grid.linestyle': '--'})\n",
    "\n",
    "# creation random number generator object\n",
    "rng_seed = 777\n",
    "rng = np.random.default_rng(rng_seed)\n",
    "\n",
    "# pandas dataframe options\n",
    "pd.set_option('display.max_columns', None)"
   ]
  },
  {
   "cell_type": "markdown",
   "metadata": {},
   "source": [
    "<br>\n",
    "\n",
    "Import Custom Module"
   ]
  },
  {
   "cell_type": "code",
   "execution_count": 6,
   "metadata": {},
   "outputs": [],
   "source": [
    "\n",
    "rel_path_parts = os.getcwd().split(os.sep)\n",
    "rel_path = ''\n",
    "\n",
    "for count, dir in enumerate(rel_path_parts):\n",
    "    if count == 0:\n",
    "        rel_path = rel_path + f\"{dir}\"\n",
    "    else:\n",
    "        rel_path = rel_path + f\"\\\\{dir}\"\n",
    "\n",
    "    if dir == \"Bellevue_University\":\n",
    "        break\n",
    "    else:\n",
    "        continue\n",
    "\n",
    "custom_mod_path = rel_path + f\"\\\\Python\"\n",
    "class_path = rel_path + f\"\\\\DSC 540 - Data Preparation\"\n",
    "\n",
    "os.chdir(custom_mod_path)  # change cwd to directory with custom Python module (~/Bellevue_University/Python/HakunaPatata.py)\n",
    "\n",
    "import HakunaPatata as HP\n",
    "\n",
    "os.chdir(class_path)  # once imported, change back to class working directory."
   ]
  },
  {
   "cell_type": "code",
   "execution_count": 7,
   "metadata": {},
   "outputs": [
    {
     "name": "stdout",
     "output_type": "stream",
     "text": [
      "Connection status: OK\n"
     ]
    }
   ],
   "source": [
    "url = r'https://www.kaggle.com/datasets/rush4ratio/video-game-sales-with-ratings'\n",
    "\n",
    "s = requests.Session()\n",
    "r = s.get(url, timeout=10)\n",
    "\n",
    "print(f\"Connection status: {HTTPStatus(r.status_code).phrase}\")\n"
   ]
  },
  {
   "cell_type": "code",
   "execution_count": 19,
   "metadata": {},
   "outputs": [],
   "source": [
    "soup = BeautifulSoup(r.text, 'lxml')\n"
   ]
  }
 ],
 "metadata": {
  "interpreter": {
   "hash": "f3cdbbf374133bcf17d677570233b4a1afa886b062ec5674a157ae5d28651db4"
  },
  "kernelspec": {
   "display_name": "Python 3.10.4 ('BU_work')",
   "language": "python",
   "name": "python3"
  },
  "language_info": {
   "codemirror_mode": {
    "name": "ipython",
    "version": 3
   },
   "file_extension": ".py",
   "mimetype": "text/x-python",
   "name": "python",
   "nbconvert_exporter": "python",
   "pygments_lexer": "ipython3",
   "version": "3.10.4"
  },
  "orig_nbformat": 4
 },
 "nbformat": 4,
 "nbformat_minor": 2
}
