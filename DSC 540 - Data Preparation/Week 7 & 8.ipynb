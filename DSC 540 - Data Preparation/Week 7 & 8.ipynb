{
 "cells": [
  {
   "cell_type": "markdown",
   "metadata": {},
   "source": [
    "# <span style=\"color:#bce35b;font-size:35px\"><b>Week 7 & 8</b></span>\n",
    "<!-- # <span style=\"color:#bce35b;font-size:35px\">Title<b>Title</b></span> -->\n",
    "<!-- # <span style=\"color:#bce35b\">H1</span> -->\n",
    "<!-- ## <span style=\"color:#ae8bd5\">H2</span> -->\n",
    "<!-- ### <span style=\"color:#9c4957\">H3</span> -->\n",
    "<!-- #### <span style=\"color:white\">H4</span> -->\n",
    "\n",
    "<span style=\"color:#8c8c8c\">Patrick Weatherford</span>\n",
    "\n",
    "[Green]: <> (#bce35b)\n",
    "[Purple]: <> (#ae8bd5)\n",
    "[Coral]: <> (#9c4957)\n",
    "[Grey]: <> (#8c8c8c)"
   ]
  },
  {
   "cell_type": "markdown",
   "metadata": {},
   "source": [
    "***\n",
    "***"
   ]
  },
  {
   "cell_type": "markdown",
   "metadata": {},
   "source": [
    "Importing libraries"
   ]
  },
  {
   "cell_type": "code",
   "execution_count": 2,
   "metadata": {},
   "outputs": [],
   "source": [
    "import os\n",
    "import keyring\n",
    "\n",
    "os.environ['KAGGLE_USERNAME'] = 'hakunapatata'\n",
    "os.environ['KAGGLE_KEY'] = keyring.get_password(service_name='kaggle_api', username=os.environ['KAGGLE_USERNAME'])\n",
    "\n",
    "import numpy as np\n",
    "import pandas as pd\n",
    "import matplotlib as mpl\n",
    "import matplotlib.pyplot as plt\n",
    "import requests\n",
    "from collections import deque as deq\n",
    "from itertools import permutations, dropwhile, zip_longest\n",
    "import re\n",
    "import math\n",
    "import io\n",
    "import scipy\n",
    "import sys\n",
    "from bs4 import BeautifulSoup\n",
    "import lxml\n",
    "from fuzzywuzzy import fuzz, process\n",
    "import sqlite3\n",
    "import datetime as dt\n",
    "from dask import dataframe as dd\n",
    "\n",
    "%matplotlib inline\n",
    "\n",
    "## matplotlib default settings\n",
    "plt.style.use('dark_background')\n",
    "mpl.rcParams.update({'lines.linewidth':3})\n",
    "mpl.rcParams.update({'axes.labelsize':14})\n",
    "mpl.rcParams.update({'axes.titlesize':16})\n",
    "mpl.rcParams.update({'axes.titleweight':'bold'})\n",
    "mpl.rcParams.update({'figure.autolayout':True})\n",
    "mpl.rcParams.update({'axes.grid':True, 'grid.color':'#424242', 'grid.linestyle':'--'})\n",
    "\n",
    "## creation random number generator object\n",
    "rng_seed = 777\n",
    "rng = np.random.default_rng(rng_seed)\n"
   ]
  },
  {
   "cell_type": "code",
   "execution_count": 3,
   "metadata": {},
   "outputs": [],
   "source": [
    "## see list of current settings\n",
    "# plt.rcParams.keys()"
   ]
  },
  {
   "cell_type": "markdown",
   "metadata": {},
   "source": [
    "<br>\n",
    "\n",
    "***\n",
    "\n",
    "# <span style=\"color:#bce35b\">Week Activities</span>\n",
    "<!-- # <span style=\"color:#bce35b;font-size:35px\">Title<b>Title</b></span> -->\n",
    "<!-- # <span style=\"color:#bce35b\">H1</span> -->\n",
    "<!-- ## <span style=\"color:#ae8bd5\">H2</span> -->\n",
    "<!-- ### <span style=\"color:#9c4957\">H3</span> -->\n",
    "<!-- #### <span style=\"color:white\">H4</span> -->\n",
    "\n",
    "<!-- <span style=\"color:#8c8c8c\">Patrick Weatherford</span> -->\n",
    "\n",
    "[Green]: <> (#bce35b)\n",
    "[Purple]: <> (#ae8bd5)\n",
    "[Coral]: <> (#9c4957)\n",
    "[Grey]: <> (#8c8c8c)"
   ]
  },
  {
   "cell_type": "markdown",
   "metadata": {},
   "source": [
    "From the datasets provided, manipulate/clean the dataset using 2 concepts from each of the chapters below.\n",
    "\n",
    "<span style=\"font-size:12px\">\n",
    "\n",
    "Chapter 7\n",
    "- Filter out missing data\n",
    "- Fill in missing data\n",
    "- Remove duplicates\n",
    "- Transform data using either mapping or a function\n",
    "- Replace values\n",
    "- Discretization and Binning\n",
    "- Manipulate Strings\n",
    "\n",
    "Chapter 8\n",
    "- Create hierarchical index\n",
    "- Combine and Merge Datasets (you will have to either create a new dataset from your existing data or create a relationship between the data I have provided)\n",
    "- Reshape\n",
    "- Pivot the data\n",
    "\n",
    "Chapter 10\n",
    "- Grouping with Dicts/Series\n",
    "- Grouping with Functions\n",
    "- Grouping with Index Levels\n",
    "- Split/Apply/Combine\n",
    "- Cross Tabs\n",
    "\n",
    "Chapter 11\n",
    "- Convert between string and date time\n",
    "- Generate date range\n",
    "- Frequencies and date offsets\n",
    "- Convert timestamps to periods and back\n",
    "- Period Frequency conversions\n",
    "\n",
    "</span>"
   ]
  },
  {
   "cell_type": "markdown",
   "metadata": {},
   "source": [
    "Import Metropolitan Museum of Art .csv file"
   ]
  },
  {
   "cell_type": "code",
   "execution_count": 44,
   "metadata": {},
   "outputs": [],
   "source": [
    "csv_url = \"https://media.githubusercontent.com/media/metmuseum/openaccess/master/MetObjects.csv\"\n",
    "\n",
    "bad_line_list = []\n",
    "\n",
    "def bad_line_func(line):\n",
    "    bad_line_list.append(line)\n",
    "\n",
    "df = dd.read_csv(csv_url, dtype=\"string\", on_bad_lines=bad_line_func, engine=\"python\")\n"
   ]
  },
  {
   "cell_type": "code",
   "execution_count": 57,
   "metadata": {},
   "outputs": [
    {
     "data": {
      "text/html": [
       "<div>\n",
       "<style scoped>\n",
       "    .dataframe tbody tr th:only-of-type {\n",
       "        vertical-align: middle;\n",
       "    }\n",
       "\n",
       "    .dataframe tbody tr th {\n",
       "        vertical-align: top;\n",
       "    }\n",
       "\n",
       "    .dataframe thead th {\n",
       "        text-align: right;\n",
       "    }\n",
       "</style>\n",
       "<table border=\"1\" class=\"dataframe\">\n",
       "  <thead>\n",
       "    <tr style=\"text-align: right;\">\n",
       "      <th></th>\n",
       "      <th>AccessionYear</th>\n",
       "    </tr>\n",
       "  </thead>\n",
       "  <tbody>\n",
       "    <tr>\n",
       "      <th>31371</th>\n",
       "      <td>2005-02-15</td>\n",
       "    </tr>\n",
       "    <tr>\n",
       "      <th>21594</th>\n",
       "      <td>2020-03-23</td>\n",
       "    </tr>\n",
       "    <tr>\n",
       "      <th>104185</th>\n",
       "      <td>19171917</td>\n",
       "    </tr>\n",
       "    <tr>\n",
       "      <th>107252</th>\n",
       "      <td>1953-05-28</td>\n",
       "    </tr>\n",
       "    <tr>\n",
       "      <th>107255</th>\n",
       "      <td>1956-08-24</td>\n",
       "    </tr>\n",
       "    <tr>\n",
       "      <th>107937</th>\n",
       "      <td>1926-06-07</td>\n",
       "    </tr>\n",
       "  </tbody>\n",
       "</table>\n",
       "</div>"
      ],
      "text/plain": [
       "       AccessionYear\n",
       "31371     2005-02-15\n",
       "21594     2020-03-23\n",
       "104185      19171917\n",
       "107252    1953-05-28\n",
       "107255    1956-08-24\n",
       "107937    1926-06-07"
      ]
     },
     "execution_count": 57,
     "metadata": {},
     "output_type": "execute_result"
    }
   ],
   "source": [
    "df.loc[df[\"AccessionYear\"].str.len() > 4, [\"AccessionYear\"]].compute()"
   ]
  },
  {
   "cell_type": "code",
   "execution_count": 30,
   "metadata": {},
   "outputs": [
    {
     "data": {
      "text/plain": [
       "[['2', 'blah', 'blah'], ['4', 'sup', 'yo', 'blah']]"
      ]
     },
     "execution_count": 30,
     "metadata": {},
     "output_type": "execute_result"
    }
   ],
   "source": [
    "bad_line_list = []\n",
    "\n",
    "def bad_line_func(line):\n",
    "    bad_line_list.append(line)\n",
    "\n",
    "ddf = dd.read_csv('csv_test.csv', on_bad_lines=bad_line_func, engine=\"python\")\n",
    "\n",
    "bad_line_list"
   ]
  },
  {
   "cell_type": "code",
   "execution_count": 32,
   "metadata": {},
   "outputs": [
    {
     "data": {
      "text/plain": [
       "0    1\n",
       "1    3\n",
       "2    5\n",
       "Name: ID, dtype: int64"
      ]
     },
     "execution_count": 32,
     "metadata": {},
     "output_type": "execute_result"
    }
   ],
   "source": [
    "ddf[\"ID\"].unique().compute()"
   ]
  }
 ],
 "metadata": {
  "interpreter": {
   "hash": "8c406e8c5c58a1b63a70f2ea5c681ec25636d68d83736f611afedbadd62c331a"
  },
  "kernelspec": {
   "display_name": "Python 3.10.4 ('BU_work': venv)",
   "language": "python",
   "name": "python3"
  },
  "language_info": {
   "codemirror_mode": {
    "name": "ipython",
    "version": 3
   },
   "file_extension": ".py",
   "mimetype": "text/x-python",
   "name": "python",
   "nbconvert_exporter": "python",
   "pygments_lexer": "ipython3",
   "version": "3.10.4"
  },
  "orig_nbformat": 4
 },
 "nbformat": 4,
 "nbformat_minor": 2
}
