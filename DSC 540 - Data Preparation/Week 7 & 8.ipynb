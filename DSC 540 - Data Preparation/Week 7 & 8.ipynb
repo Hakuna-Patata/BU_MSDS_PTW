{
 "cells": [
  {
   "cell_type": "markdown",
   "metadata": {},
   "source": [
    "# <span style=\"color:#bce35b;font-size:35px\"><b>Week 7 & 8</b></span>\n",
    "<!-- # <span style=\"color:#bce35b;font-size:35px\">Title<b>Title</b></span> -->\n",
    "<!-- # <span style=\"color:#bce35b\">H1</span> -->\n",
    "<!-- ## <span style=\"color:#ae8bd5\">H2</span> -->\n",
    "<!-- ### <span style=\"color:#9c4957\">H3</span> -->\n",
    "<!-- #### <span style=\"color:white\">H4</span> -->\n",
    "\n",
    "<span style=\"color:#8c8c8c\">Patrick Weatherford</span>\n",
    "\n",
    "[Green]: <> (#bce35b)\n",
    "[Purple]: <> (#ae8bd5)\n",
    "[Coral]: <> (#9c4957)\n",
    "[Grey]: <> (#8c8c8c)"
   ]
  },
  {
   "cell_type": "markdown",
   "metadata": {},
   "source": [
    "***\n",
    "***"
   ]
  },
  {
   "cell_type": "markdown",
   "metadata": {},
   "source": [
    "Importing libraries"
   ]
  },
  {
   "cell_type": "code",
   "execution_count": 105,
   "metadata": {},
   "outputs": [],
   "source": [
    "import os\n",
    "import keyring\n",
    "\n",
    "os.environ['KAGGLE_USERNAME'] = 'hakunapatata'\n",
    "os.environ['KAGGLE_KEY'] = keyring.get_password(service_name='kaggle_api', username=os.environ['KAGGLE_USERNAME'])\n",
    "\n",
    "import numpy as np\n",
    "import pandas as pd\n",
    "import matplotlib as mpl\n",
    "import matplotlib.pyplot as plt\n",
    "import requests\n",
    "from collections import deque as deq\n",
    "from itertools import permutations, dropwhile, zip_longest\n",
    "import re\n",
    "import math\n",
    "import io\n",
    "import scipy\n",
    "import sys\n",
    "from bs4 import BeautifulSoup\n",
    "import lxml\n",
    "from fuzzywuzzy import fuzz, process\n",
    "import sqlite3\n",
    "import datetime as dt\n",
    "\n",
    "%matplotlib inline\n",
    "\n",
    "## matplotlib default settings\n",
    "plt.style.use('dark_background')\n",
    "mpl.rcParams.update({'lines.linewidth':3})\n",
    "mpl.rcParams.update({'axes.labelsize':14})\n",
    "mpl.rcParams.update({'axes.titlesize':16})\n",
    "mpl.rcParams.update({'axes.titleweight':'bold'})\n",
    "mpl.rcParams.update({'figure.autolayout':True})\n",
    "mpl.rcParams.update({'axes.grid':True, 'grid.color':'#424242', 'grid.linestyle':'--'})\n"
   ]
  },
  {
   "cell_type": "code",
   "execution_count": 8,
   "metadata": {},
   "outputs": [],
   "source": [
    "## see list of current settings\n",
    "# plt.rcParams.keys()"
   ]
  },
  {
   "cell_type": "markdown",
   "metadata": {},
   "source": [
    "<br>\n",
    "Instantiating random number generator"
   ]
  },
  {
   "cell_type": "code",
   "execution_count": 9,
   "metadata": {},
   "outputs": [],
   "source": [
    "rng_seed = 777\n",
    "rng = np.random.default_rng(rng_seed)"
   ]
  },
  {
   "cell_type": "markdown",
   "metadata": {},
   "source": [
    "<br>\n",
    "\n",
    "***\n",
    "\n",
    "# <span style=\"color:#bce35b\">Week Activities</span>\n",
    "<!-- # <span style=\"color:#bce35b;font-size:35px\">Title<b>Title</b></span> -->\n",
    "<!-- # <span style=\"color:#bce35b\">H1</span> -->\n",
    "<!-- ## <span style=\"color:#ae8bd5\">H2</span> -->\n",
    "<!-- ### <span style=\"color:#9c4957\">H3</span> -->\n",
    "<!-- #### <span style=\"color:white\">H4</span> -->\n",
    "\n",
    "<!-- <span style=\"color:#8c8c8c\">Patrick Weatherford</span> -->\n",
    "\n",
    "[Green]: <> (#bce35b)\n",
    "[Purple]: <> (#ae8bd5)\n",
    "[Coral]: <> (#9c4957)\n",
    "[Grey]: <> (#8c8c8c)"
   ]
  },
  {
   "cell_type": "markdown",
   "metadata": {},
   "source": [
    "<br>\n",
    "\n",
    "\n",
    "## <span style=\"color:#ae8bd5\">Activity 7</span>\n",
    "<!-- # <span style=\"color:#bce35b;font-size:35px\">Title<b>Title</b></span> -->\n",
    "<!-- # <span style=\"color:#bce35b\">H1</span> -->\n",
    "<!-- ## <span style=\"color:#ae8bd5\">H2</span> -->\n",
    "<!-- ### <span style=\"color:#9c4957\">H3</span> -->\n",
    "<!-- #### <span style=\"color:white\">H4</span> -->\n",
    "\n",
    "<!-- <span style=\"color:#8c8c8c\">Patrick Weatherford</span> -->\n",
    "\n",
    "[Green]: <> (#bce35b)\n",
    "[Purple]: <> (#ae8bd5)\n",
    "[Coral]: <> (#9c4957)\n",
    "[Grey]: <> (#8c8c8c)\n",
    "\n"
   ]
  },
  {
   "cell_type": "markdown",
   "metadata": {},
   "source": [
    "<br>\n",
    "\n",
    "***\n",
    "\n",
    "# <span style=\"color:#bce35b\">Code Practice Below</span>\n",
    "<!-- # <span style=\"color:#bce35b;font-size:35px\">Title<b>Title</b></span> -->\n",
    "<!-- # <span style=\"color:#bce35b\">H1</span> -->\n",
    "<!-- ## <span style=\"color:#ae8bd5\">H2</span> -->\n",
    "<!-- ### <span style=\"color:#9c4957\">H3</span> -->\n",
    "<!-- #### <span style=\"color:white\">H4</span> -->\n",
    "\n",
    "<!-- <span style=\"color:#8c8c8c\">Patrick Weatherford</span> -->\n",
    "\n",
    "[Green]: <> (#bce35b)\n",
    "[Purple]: <> (#ae8bd5)\n",
    "[Coral]: <> (#9c4957)\n",
    "[Grey]: <> (#8c8c8c)"
   ]
  },
  {
   "cell_type": "code",
   "execution_count": 35,
   "metadata": {},
   "outputs": [
    {
     "data": {
      "text/plain": [
       "0     yo\n",
       "1    NaN\n",
       "dtype: object"
      ]
     },
     "execution_count": 35,
     "metadata": {},
     "output_type": "execute_result"
    }
   ],
   "source": [
    "pd.Series(['yo', np.nan])\n"
   ]
  },
  {
   "cell_type": "code",
   "execution_count": 49,
   "metadata": {},
   "outputs": [
    {
     "data": {
      "text/plain": [
       "0   2022-04-26 13:32:24.430400\n",
       "1                          NaT\n",
       "dtype: datetime64[ns]"
      ]
     },
     "execution_count": 49,
     "metadata": {},
     "output_type": "execute_result"
    }
   ],
   "source": [
    "today = dt.datetime.now()\n",
    "\n",
    "pd.Series([today, np.nan])"
   ]
  },
  {
   "cell_type": "code",
   "execution_count": 52,
   "metadata": {},
   "outputs": [
    {
     "data": {
      "text/plain": [
       "array([datetime.datetime(2022, 4, 26, 13, 33, 45, 117991), None],\n",
       "      dtype=object)"
      ]
     },
     "execution_count": 52,
     "metadata": {},
     "output_type": "execute_result"
    }
   ],
   "source": [
    "today = dt.datetime.now()\n",
    "\n",
    "np.asarray([today, None])"
   ]
  },
  {
   "cell_type": "code",
   "execution_count": 104,
   "metadata": {},
   "outputs": [
    {
     "data": {
      "text/html": [
       "<div>\n",
       "<style scoped>\n",
       "    .dataframe tbody tr th:only-of-type {\n",
       "        vertical-align: middle;\n",
       "    }\n",
       "\n",
       "    .dataframe tbody tr th {\n",
       "        vertical-align: top;\n",
       "    }\n",
       "\n",
       "    .dataframe thead th {\n",
       "        text-align: right;\n",
       "    }\n",
       "</style>\n",
       "<table border=\"1\" class=\"dataframe\">\n",
       "  <thead>\n",
       "    <tr style=\"text-align: right;\">\n",
       "      <th></th>\n",
       "      <th></th>\n",
       "      <th>VAL</th>\n",
       "      <th>VAL2</th>\n",
       "    </tr>\n",
       "    <tr>\n",
       "      <th>ID</th>\n",
       "      <th>VALUE</th>\n",
       "      <th></th>\n",
       "      <th></th>\n",
       "    </tr>\n",
       "  </thead>\n",
       "  <tbody>\n",
       "    <tr>\n",
       "      <th>1</th>\n",
       "      <th>a</th>\n",
       "      <td>3.3</td>\n",
       "      <td>blah</td>\n",
       "    </tr>\n",
       "    <tr>\n",
       "      <th>2</th>\n",
       "      <th>b</th>\n",
       "      <td>5.5</td>\n",
       "      <td>NaN</td>\n",
       "    </tr>\n",
       "    <tr>\n",
       "      <th rowspan=\"2\" valign=\"top\">3</th>\n",
       "      <th>c</th>\n",
       "      <td>6.6</td>\n",
       "      <td>more_blah</td>\n",
       "    </tr>\n",
       "    <tr>\n",
       "      <th>d</th>\n",
       "      <td>7.7</td>\n",
       "      <td>NaN</td>\n",
       "    </tr>\n",
       "  </tbody>\n",
       "</table>\n",
       "</div>"
      ],
      "text/plain": [
       "          VAL       VAL2\n",
       "ID VALUE                \n",
       "1  a      3.3       blah\n",
       "2  b      5.5        NaN\n",
       "3  c      6.6  more_blah\n",
       "   d      7.7        NaN"
      ]
     },
     "execution_count": 104,
     "metadata": {},
     "output_type": "execute_result"
    }
   ],
   "source": [
    "df1 = pd.DataFrame([(1,'a', 3.3),(2,'b', 5.5),(3,'c',6.6),(3,'d',7.7)], columns=['ID','VALUE','VAL']).set_index(['ID','VALUE'])\n",
    "df2 = pd.DataFrame([(1,'a','blah'),(3,'c','more_blah')], columns=['ID2','VALUE2','VAL2']).set_index(['ID2','VALUE2'])\n",
    "\n",
    "df1.join(df2, on=['ID','VALUE'], how='left')"
   ]
  },
  {
   "cell_type": "code",
   "execution_count": 106,
   "metadata": {},
   "outputs": [],
   "source": [
    "def fuzzy_match_df(col1, col2, threshold=90, fuzz_type='token_sort_ratio'):\n",
    "\n",
    "    # get unique values from columns passed to function\n",
    "    col1 = pd.Series(col1).unique()\n",
    "    col2 = pd.Series(col2).unique()\n",
    "\n",
    "    matches = []\n",
    "\n",
    "    for c1 in col1:\n",
    "        match = process.extractOne(c1, col2, scorer=getattr(\n",
    "            fuzz, fuzz_type), score_cutoff=threshold)  # gets the best match above threshold\n",
    "        if match is None:\n",
    "            match_tuple = (c1, None, None)\n",
    "        else:\n",
    "            match_tuple = (c1, match[0], match[1])\n",
    "\n",
    "        matches.append(match_tuple)\n",
    "    return pd.DataFrame(matches, columns=['COL1', 'COL2_MATCH', 'MATCH_RATIO'])"
   ]
  },
  {
   "cell_type": "code",
   "execution_count": 112,
   "metadata": {},
   "outputs": [
    {
     "data": {
      "text/html": [
       "<div>\n",
       "<style scoped>\n",
       "    .dataframe tbody tr th:only-of-type {\n",
       "        vertical-align: middle;\n",
       "    }\n",
       "\n",
       "    .dataframe tbody tr th {\n",
       "        vertical-align: top;\n",
       "    }\n",
       "\n",
       "    .dataframe thead th {\n",
       "        text-align: right;\n",
       "    }\n",
       "</style>\n",
       "<table border=\"1\" class=\"dataframe\">\n",
       "  <thead>\n",
       "    <tr style=\"text-align: right;\">\n",
       "      <th></th>\n",
       "      <th>COL1</th>\n",
       "      <th>COL2_MATCH</th>\n",
       "      <th>MATCH_RATIO</th>\n",
       "    </tr>\n",
       "  </thead>\n",
       "  <tbody>\n",
       "    <tr>\n",
       "      <th>0</th>\n",
       "      <td>blah</td>\n",
       "      <td>BLAH</td>\n",
       "      <td>100</td>\n",
       "    </tr>\n",
       "    <tr>\n",
       "      <th>1</th>\n",
       "      <td>yo123</td>\n",
       "      <td>Yo1</td>\n",
       "      <td>75</td>\n",
       "    </tr>\n",
       "    <tr>\n",
       "      <th>2</th>\n",
       "      <td>blahblah123</td>\n",
       "      <td>BLAHbluh333</td>\n",
       "      <td>73</td>\n",
       "    </tr>\n",
       "  </tbody>\n",
       "</table>\n",
       "</div>"
      ],
      "text/plain": [
       "          COL1   COL2_MATCH  MATCH_RATIO\n",
       "0         blah         BLAH          100\n",
       "1        yo123          Yo1           75\n",
       "2  blahblah123  BLAHbluh333           73"
      ]
     },
     "execution_count": 112,
     "metadata": {},
     "output_type": "execute_result"
    }
   ],
   "source": [
    "col1 = ['blah', 'yo123', 'blahblah123']\n",
    "col2 = ['BLAH', 'Yo1', 'BLAHbluh333']\n",
    "\n",
    "fuzzy_match_df(col1, col2, threshold=70, fuzz_type='token_sort_ratio')"
   ]
  }
 ],
 "metadata": {
  "interpreter": {
   "hash": "8c406e8c5c58a1b63a70f2ea5c681ec25636d68d83736f611afedbadd62c331a"
  },
  "kernelspec": {
   "display_name": "Python 3.10.4 ('BU_work': venv)",
   "language": "python",
   "name": "python3"
  },
  "language_info": {
   "codemirror_mode": {
    "name": "ipython",
    "version": 3
   },
   "file_extension": ".py",
   "mimetype": "text/x-python",
   "name": "python",
   "nbconvert_exporter": "python",
   "pygments_lexer": "ipython3",
   "version": "3.10.4"
  },
  "orig_nbformat": 4
 },
 "nbformat": 4,
 "nbformat_minor": 2
}
