{
 "cells": [
  {
   "cell_type": "markdown",
   "metadata": {},
   "source": [
    "# <span style=\"color:#bce35b;font-size:35px\"><b>Week 9 & 10</b></span>\n",
    "<!-- # <span style=\"color:#bce35b;font-size:35px\">Title<b>Title</b></span> -->\n",
    "<!-- # <span style=\"color:#bce35b\">H1</span> -->\n",
    "<!-- ## <span style=\"color:#ae8bd5\">H2</span> -->\n",
    "<!-- ### <span style=\"color:#9c4957\">H3</span> -->\n",
    "<!-- #### <span style=\"color:white\">H4</span> -->\n",
    "\n",
    "<span style=\"color:#8c8c8c\">Patrick Weatherford</span>\n",
    "\n",
    "[Green]: <> (#bce35b)\n",
    "[Purple]: <> (#ae8bd5)\n",
    "[Coral]: <> (#9c4957)\n",
    "[Grey]: <> (#8c8c8c)"
   ]
  },
  {
   "cell_type": "markdown",
   "metadata": {},
   "source": [
    "***\n",
    "***"
   ]
  },
  {
   "cell_type": "markdown",
   "metadata": {},
   "source": [
    "Importing libraries"
   ]
  },
  {
   "cell_type": "code",
   "execution_count": 1,
   "metadata": {},
   "outputs": [],
   "source": [
    "from datetime import date, datetime as dttm, timedelta\n",
    "from pprint import pprint\n",
    "from contextlib import closing\n",
    "from dask import dataframe as dd\n",
    "import datetime as dt\n",
    "import sqlite3\n",
    "from fuzzywuzzy import fuzz, process\n",
    "import lxml\n",
    "from bs4 import BeautifulSoup\n",
    "import sys\n",
    "import scipy\n",
    "import io\n",
    "import math\n",
    "import re\n",
    "from itertools import permutations, dropwhile, zip_longest\n",
    "from collections import deque as deq\n",
    "import requests\n",
    "import matplotlib.pyplot as plt\n",
    "import matplotlib as mpl\n",
    "import pandas as pd\n",
    "import numpy as np\n",
    "import os\n",
    "import keyring\n",
    "\n",
    "os.environ['KAGGLE_USERNAME'] = 'hakunapatata'\n",
    "os.environ['KAGGLE_KEY'] = keyring.get_password(\n",
    "    service_name='kaggle_api', username=os.environ['KAGGLE_USERNAME'])\n",
    "\n",
    "\n",
    "%matplotlib inline\n",
    "\n",
    "# matplotlib default settings\n",
    "plt.style.use('dark_background')\n",
    "mpl.rcParams.update({'lines.linewidth': 3})\n",
    "mpl.rcParams.update({'axes.labelsize': 14})\n",
    "mpl.rcParams.update({'axes.titlesize': 16})\n",
    "mpl.rcParams.update({'axes.titleweight': 'bold'})\n",
    "mpl.rcParams.update({'figure.autolayout': True})\n",
    "mpl.rcParams.update(\n",
    "    {'axes.grid': True, 'grid.color': '#424242', 'grid.linestyle': '--'})\n",
    "\n",
    "# creation random number generator object\n",
    "rng_seed = 777\n",
    "rng = np.random.default_rng(rng_seed)\n",
    "\n",
    "# pandas dataframe options\n",
    "pd.set_option('display.max_columns', None)\n"
   ]
  },
  {
   "cell_type": "code",
   "execution_count": 2,
   "metadata": {},
   "outputs": [],
   "source": [
    "# see list of current settings\n",
    "# plt.rcParams.keys()\n"
   ]
  },
  {
   "cell_type": "markdown",
   "metadata": {},
   "source": [
    "<br>\n",
    "\n",
    "Import custom module <br><br>\n",
    "<span style=\"font-size:13px\">~/Bellevue_University/Python/HakunaPatata.py</span>"
   ]
  },
  {
   "cell_type": "code",
   "execution_count": 3,
   "metadata": {},
   "outputs": [],
   "source": [
    "\n",
    "rel_path_parts = os.getcwd().split(os.sep)\n",
    "rel_path = ''\n",
    "\n",
    "for count, dir in enumerate(rel_path_parts):\n",
    "    if count == 0:\n",
    "        rel_path = rel_path + f\"{dir}\"\n",
    "    else:\n",
    "        rel_path = rel_path + f\"\\\\{dir}\"\n",
    "\n",
    "    if dir == \"Bellevue_University\":\n",
    "        break\n",
    "    else:\n",
    "        continue\n",
    "\n",
    "custom_mod_path = rel_path + f\"\\\\Python\"\n",
    "class_path = rel_path + f\"\\\\DSC 540 - Data Preparation\"\n",
    "\n",
    "os.chdir(custom_mod_path)  # change cwd to directory with custom Python module (~/Bellevue_University/Python/HakunaPatata.py)\n",
    "\n",
    "import HakunaPatata as HP\n",
    "\n",
    "os.chdir(class_path)  # once imported, change back to class working directory."
   ]
  },
  {
   "cell_type": "markdown",
   "metadata": {},
   "source": [
    "<br>\n",
    "\n",
    "***\n",
    "\n",
    "# <span style=\"color:#bce35b\">Week Activities</span>\n",
    "<!-- # <span style=\"color:#bce35b;font-size:35px\">Title<b>Title</b></span> -->\n",
    "<!-- # <span style=\"color:#bce35b\">H1</span> -->\n",
    "<!-- ## <span style=\"color:#ae8bd5\">H2</span> -->\n",
    "<!-- ### <span style=\"color:#9c4957\">H3</span> -->\n",
    "<!-- #### <span style=\"color:white\">H4</span> -->\n",
    "\n",
    "<!-- <span style=\"color:#8c8c8c\">Patrick Weatherford</span> -->\n",
    "\n",
    "[Green]: <> (#bce35b)\n",
    "[Purple]: <> (#ae8bd5)\n",
    "[Coral]: <> (#9c4957)\n",
    "[Grey]: <> (#8c8c8c)"
   ]
  },
  {
   "cell_type": "code",
   "execution_count": 7,
   "metadata": {},
   "outputs": [
    {
     "name": "stdout",
     "output_type": "stream",
     "text": [
      "\u001b[1;31mSignature:\u001b[0m\n",
      "\u001b[0mHP\u001b[0m\u001b[1;33m.\u001b[0m\u001b[0mdf_to_sqlite\u001b[0m\u001b[1;33m(\u001b[0m\u001b[1;33m\n",
      "\u001b[0m    \u001b[0mdf\u001b[0m\u001b[1;33m,\u001b[0m\u001b[1;33m\n",
      "\u001b[0m    \u001b[0mdb_path\u001b[0m\u001b[1;33m,\u001b[0m\u001b[1;33m\n",
      "\u001b[0m    \u001b[0mtable_name\u001b[0m\u001b[1;33m,\u001b[0m\u001b[1;33m\n",
      "\u001b[0m    \u001b[0mindex\u001b[0m\u001b[1;33m=\u001b[0m\u001b[1;32mFalse\u001b[0m\u001b[1;33m,\u001b[0m\u001b[1;33m\n",
      "\u001b[0m    \u001b[0mif_exists\u001b[0m\u001b[1;33m=\u001b[0m\u001b[1;34m'replace'\u001b[0m\u001b[1;33m,\u001b[0m\u001b[1;33m\n",
      "\u001b[0m    \u001b[0mchunksize\u001b[0m\u001b[1;33m=\u001b[0m\u001b[1;36m5000\u001b[0m\u001b[1;33m,\u001b[0m\u001b[1;33m\n",
      "\u001b[0m\u001b[1;33m)\u001b[0m\u001b[1;33m\u001b[0m\u001b[1;33m\u001b[0m\u001b[0m\n",
      "\u001b[1;31mDocstring:\u001b[0m\n",
      "Create SQLite table from pandas DataFrame\n",
      "\n",
      "Args:\n",
      "    df (pd.DataFrame): DataFrame to convert to SQLite table.\n",
      "    db_path (string): SQLite database path to store table.\n",
      "    table_name (string): Name for SQLite table.\n",
      "    index (bool, optional): Index created as column?. Defaults to False.\n",
      "    if_exists (str, optional): Handle method if exists. Defaults to 'replace'.\n",
      "    chunksize (int, optional): Chunksize for reading into table. Defaults to 5000.\n",
      "\u001b[1;31mFile:\u001b[0m      c:\\users\\patwea\\onedrive - bellevue university\\bellevue_university\\python\\hakunapatata.py\n",
      "\u001b[1;31mType:\u001b[0m      function\n"
     ]
    }
   ],
   "source": []
  }
 ],
 "metadata": {
  "interpreter": {
   "hash": "f3cdbbf374133bcf17d677570233b4a1afa886b062ec5674a157ae5d28651db4"
  },
  "kernelspec": {
   "display_name": "Python 3.10.4 ('BU_work')",
   "language": "python",
   "name": "python3"
  },
  "language_info": {
   "codemirror_mode": {
    "name": "ipython",
    "version": 3
   },
   "file_extension": ".py",
   "mimetype": "text/x-python",
   "name": "python",
   "nbconvert_exporter": "python",
   "pygments_lexer": "ipython3",
   "version": "3.10.4"
  },
  "orig_nbformat": 4
 },
 "nbformat": 4,
 "nbformat_minor": 2
}
