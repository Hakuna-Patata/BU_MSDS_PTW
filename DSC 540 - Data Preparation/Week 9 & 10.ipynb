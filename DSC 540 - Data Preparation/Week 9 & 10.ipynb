{
 "cells": [
  {
   "cell_type": "markdown",
   "metadata": {},
   "source": [
    "# <span style=\"color:#bce35b;font-size:35px\"><b>Week 9 & 10</b></span>\n",
    "<!-- # <span style=\"color:#bce35b;font-size:35px\">Title<b>Title</b></span> -->\n",
    "<!-- # <span style=\"color:#bce35b\">H1</span> -->\n",
    "<!-- ## <span style=\"color:#ae8bd5\">H2</span> -->\n",
    "<!-- ### <span style=\"color:#9c4957\">H3</span> -->\n",
    "<!-- #### <span style=\"color:white\">H4</span> -->\n",
    "\n",
    "<span style=\"color:#8c8c8c\">Patrick Weatherford</span>\n",
    "\n",
    "[Green]: <> (#bce35b)\n",
    "[Purple]: <> (#ae8bd5)\n",
    "[Coral]: <> (#9c4957)\n",
    "[Grey]: <> (#8c8c8c)"
   ]
  },
  {
   "cell_type": "markdown",
   "metadata": {},
   "source": [
    "***\n",
    "***"
   ]
  },
  {
   "cell_type": "markdown",
   "metadata": {},
   "source": [
    "Importing libraries"
   ]
  },
  {
   "cell_type": "code",
   "execution_count": 1,
   "metadata": {},
   "outputs": [],
   "source": [
    "from datetime import date, datetime as dttm, timedelta\n",
    "from pprint import pprint\n",
    "# from contextlib import closing\n",
    "from dask import dataframe as dd, bag as db, array as da\n",
    "# import sqlite3\n",
    "# from fuzzywuzzy import fuzz, process\n",
    "# import lxml\n",
    "from bs4 import BeautifulSoup\n",
    "# import sys\n",
    "# import scipy\n",
    "# import io\n",
    "# import math\n",
    "import re\n",
    "# from itertools import permutations, dropwhile, zip_longest\n",
    "# from collections import deque as deq\n",
    "import requests\n",
    "import matplotlib.pyplot as plt\n",
    "import matplotlib as mpl\n",
    "import pandas as pd\n",
    "import numpy as np\n",
    "import os\n",
    "import keyring\n",
    "from http import HTTPStatus\n",
    "import API_Keys\n",
    "from IPython.display import Image\n",
    "import tweepy\n",
    "# import seaborn as sns\n",
    "\n",
    "os.environ['KAGGLE_USERNAME'] = 'hakunapatata'\n",
    "os.environ['KAGGLE_KEY'] = keyring.get_password(\n",
    "    service_name='kaggle_api', username=os.environ['KAGGLE_USERNAME'])\n",
    "\n",
    "\n",
    "%matplotlib inline\n",
    "\n",
    "# matplotlib default settings\n",
    "plt.style.use('dark_background')\n",
    "mpl.rcParams.update({'lines.linewidth': 3})\n",
    "mpl.rcParams.update({'axes.labelsize': 14})\n",
    "mpl.rcParams.update({'axes.titlesize': 16})\n",
    "mpl.rcParams.update({'axes.titleweight': 'bold'})\n",
    "mpl.rcParams.update({'figure.autolayout': True})\n",
    "mpl.rcParams.update(\n",
    "    {'axes.grid': True, 'grid.color': '#424242', 'grid.linestyle': '--'})\n",
    "\n",
    "# creation random number generator object\n",
    "rng_seed = 777\n",
    "rng = np.random.default_rng(rng_seed)\n",
    "\n",
    "# pandas dataframe options\n",
    "pd.set_option('display.max_columns', None)\n"
   ]
  },
  {
   "cell_type": "code",
   "execution_count": 2,
   "metadata": {},
   "outputs": [],
   "source": [
    "# see list of current settings\n",
    "# plt.rcParams.keys()\n"
   ]
  },
  {
   "cell_type": "markdown",
   "metadata": {},
   "source": [
    "<br>\n",
    "\n",
    "Import custom module <br><br>\n",
    "<span style=\"font-size:13px\">~/Bellevue_University/Python/HakunaPatata.py</span>"
   ]
  },
  {
   "cell_type": "code",
   "execution_count": 3,
   "metadata": {},
   "outputs": [],
   "source": [
    "\n",
    "rel_path_parts = os.getcwd().split(os.sep)\n",
    "rel_path = ''\n",
    "\n",
    "for count, dir in enumerate(rel_path_parts):\n",
    "    if count == 0:\n",
    "        rel_path = rel_path + f\"{dir}\"\n",
    "    else:\n",
    "        rel_path = rel_path + f\"\\\\{dir}\"\n",
    "\n",
    "    if dir == \"Bellevue_University\":\n",
    "        break\n",
    "    else:\n",
    "        continue\n",
    "\n",
    "custom_mod_path = rel_path + f\"\\\\Python\"\n",
    "class_path = rel_path + f\"\\\\DSC 540 - Data Preparation\"\n",
    "\n",
    "os.chdir(custom_mod_path)  # change cwd to directory with custom Python module (~/Bellevue_University/Python/HakunaPatata.py)\n",
    "\n",
    "import HakunaPatata as HP\n",
    "\n",
    "os.chdir(class_path)  # once imported, change back to class working directory."
   ]
  },
  {
   "cell_type": "markdown",
   "metadata": {},
   "source": [
    "<br>\n",
    "\n",
    "***\n",
    "\n",
    "# <span style=\"color:#bce35b\">Week Activities</span>\n",
    "<!-- # <span style=\"color:#bce35b;font-size:35px\">Title<b>Title</b></span> -->\n",
    "<!-- # <span style=\"color:#bce35b\">H1</span> -->\n",
    "<!-- ## <span style=\"color:#ae8bd5\">H2</span> -->\n",
    "<!-- ### <span style=\"color:#9c4957\">H3</span> -->\n",
    "<!-- #### <span style=\"color:white\">H4</span> -->\n",
    "\n",
    "<!-- <span style=\"color:#8c8c8c\">Patrick Weatherford</span> -->\n",
    "\n",
    "[Green]: <> (#bce35b)\n",
    "[Purple]: <> (#ae8bd5)\n",
    "[Coral]: <> (#9c4957)\n",
    "[Grey]: <> (#8c8c8c)"
   ]
  },
  {
   "cell_type": "markdown",
   "metadata": {},
   "source": [
    "<br>\n",
    "\n",
    "***\n",
    "\n",
    "## <span style=\"color:#ae8bd5\">Activity 9</span>\n",
    "<!-- # <span style=\"color:#bce35b;font-size:35px\">Title<b>Title</b></span> -->\n",
    "<!-- # <span style=\"color:#bce35b\">H1</span> -->\n",
    "<!-- ## <span style=\"color:#ae8bd5\">H2</span> -->\n",
    "<!-- ### <span style=\"color:#9c4957\">H3</span> -->\n",
    "<!-- #### <span style=\"color:white\">H4</span> -->\n",
    "\n",
    "<!-- <span style=\"color:#8c8c8c\">Patrick Weatherford</span> -->\n",
    "\n",
    "[Green]: <> (#bce35b)\n",
    "[Purple]: <> (#ae8bd5)\n",
    "[Coral]: <> (#9c4957)\n",
    "[Grey]: <> (#8c8c8c)\n",
    "\n",
    "Top 100 eBooks from Gutenberg (previous day)"
   ]
  },
  {
   "cell_type": "code",
   "execution_count": 4,
   "metadata": {},
   "outputs": [
    {
     "name": "stdout",
     "output_type": "stream",
     "text": [
      "Connection status: OK\n"
     ]
    }
   ],
   "source": [
    "url = r'https://www.gutenberg.org/browse/scores/top'\n",
    "\n",
    "s = requests.Session()\n",
    "r = s.get(url, timeout=10)\n",
    "\n",
    "print(f\"Connection status: {HTTPStatus(r.status_code).phrase}\")"
   ]
  },
  {
   "cell_type": "markdown",
   "metadata": {},
   "source": [
    "<br>\n",
    "\n",
    "Looks like I need to pull all of the list elements under the h2 (header#2) tag where the id for the h2 tag is 'books-last1'. Then get the child \\<li> tags for the parent \\<ol> tag which is a sibling to the \\<h2> tag."
   ]
  },
  {
   "cell_type": "code",
   "execution_count": 5,
   "metadata": {},
   "outputs": [
    {
     "data": {
      "text/html": [
       "<div>\n",
       "<style scoped>\n",
       "    .dataframe tbody tr th:only-of-type {\n",
       "        vertical-align: middle;\n",
       "    }\n",
       "\n",
       "    .dataframe tbody tr th {\n",
       "        vertical-align: top;\n",
       "    }\n",
       "\n",
       "    .dataframe thead th {\n",
       "        text-align: right;\n",
       "    }\n",
       "</style>\n",
       "<table border=\"1\" class=\"dataframe\">\n",
       "  <thead>\n",
       "    <tr style=\"text-align: right;\">\n",
       "      <th></th>\n",
       "      <th>BOOK_NUM</th>\n",
       "      <th>BOOK_NAME</th>\n",
       "      <th>BOOK_LINK</th>\n",
       "    </tr>\n",
       "    <tr>\n",
       "      <th>RANK</th>\n",
       "      <th></th>\n",
       "      <th></th>\n",
       "      <th></th>\n",
       "    </tr>\n",
       "  </thead>\n",
       "  <tbody>\n",
       "    <tr>\n",
       "      <th>1</th>\n",
       "      <td>1342</td>\n",
       "      <td>Pride and Prejudice by Jane Austen</td>\n",
       "      <td>https://www.gutenberg.org/ebooks/1342</td>\n",
       "    </tr>\n",
       "    <tr>\n",
       "      <th>2</th>\n",
       "      <td>84</td>\n",
       "      <td>Frankenstein; Or, The Modern Prometheus by Mar...</td>\n",
       "      <td>https://www.gutenberg.org/ebooks/84</td>\n",
       "    </tr>\n",
       "    <tr>\n",
       "      <th>3</th>\n",
       "      <td>11</td>\n",
       "      <td>Alice's Adventures in Wonderland by Lewis Carr...</td>\n",
       "      <td>https://www.gutenberg.org/ebooks/11</td>\n",
       "    </tr>\n",
       "    <tr>\n",
       "      <th>4</th>\n",
       "      <td>64317</td>\n",
       "      <td>The Great Gatsby by F. Scott  Fitzgerald</td>\n",
       "      <td>https://www.gutenberg.org/ebooks/64317</td>\n",
       "    </tr>\n",
       "    <tr>\n",
       "      <th>5</th>\n",
       "      <td>68096</td>\n",
       "      <td>Fifty years hence: or, What May Be in 1943: A ...</td>\n",
       "      <td>https://www.gutenberg.org/ebooks/68096</td>\n",
       "    </tr>\n",
       "    <tr>\n",
       "      <th>...</th>\n",
       "      <td>...</td>\n",
       "      <td>...</td>\n",
       "      <td>...</td>\n",
       "    </tr>\n",
       "    <tr>\n",
       "      <th>96</th>\n",
       "      <td>2680</td>\n",
       "      <td>Meditations by Emperor of Rome Marcus Aurelius</td>\n",
       "      <td>https://www.gutenberg.org/ebooks/2680</td>\n",
       "    </tr>\n",
       "    <tr>\n",
       "      <th>97</th>\n",
       "      <td>16328</td>\n",
       "      <td>Beowulf: An Anglo-Saxon Epic Poem</td>\n",
       "      <td>https://www.gutenberg.org/ebooks/16328</td>\n",
       "    </tr>\n",
       "    <tr>\n",
       "      <th>98</th>\n",
       "      <td>829</td>\n",
       "      <td>Gulliver's Travels into Several Remote Nations...</td>\n",
       "      <td>https://www.gutenberg.org/ebooks/829</td>\n",
       "    </tr>\n",
       "    <tr>\n",
       "      <th>99</th>\n",
       "      <td>15845</td>\n",
       "      <td>Florante at Laura by Francisco Balagtas</td>\n",
       "      <td>https://www.gutenberg.org/ebooks/15845</td>\n",
       "    </tr>\n",
       "    <tr>\n",
       "      <th>100</th>\n",
       "      <td>23</td>\n",
       "      <td>Narrative of the Life of Frederick Douglass, a...</td>\n",
       "      <td>https://www.gutenberg.org/ebooks/23</td>\n",
       "    </tr>\n",
       "  </tbody>\n",
       "</table>\n",
       "<p>100 rows × 3 columns</p>\n",
       "</div>"
      ],
      "text/plain": [
       "     BOOK_NUM                                          BOOK_NAME  \\\n",
       "RANK                                                               \n",
       "1        1342                Pride and Prejudice by Jane Austen    \n",
       "2          84  Frankenstein; Or, The Modern Prometheus by Mar...   \n",
       "3          11  Alice's Adventures in Wonderland by Lewis Carr...   \n",
       "4       64317          The Great Gatsby by F. Scott  Fitzgerald    \n",
       "5       68096  Fifty years hence: or, What May Be in 1943: A ...   \n",
       "...       ...                                                ...   \n",
       "96       2680    Meditations by Emperor of Rome Marcus Aurelius    \n",
       "97      16328                 Beowulf: An Anglo-Saxon Epic Poem    \n",
       "98        829  Gulliver's Travels into Several Remote Nations...   \n",
       "99      15845           Florante at Laura by Francisco Balagtas    \n",
       "100        23  Narrative of the Life of Frederick Douglass, a...   \n",
       "\n",
       "                                   BOOK_LINK  \n",
       "RANK                                          \n",
       "1      https://www.gutenberg.org/ebooks/1342  \n",
       "2        https://www.gutenberg.org/ebooks/84  \n",
       "3        https://www.gutenberg.org/ebooks/11  \n",
       "4     https://www.gutenberg.org/ebooks/64317  \n",
       "5     https://www.gutenberg.org/ebooks/68096  \n",
       "...                                      ...  \n",
       "96     https://www.gutenberg.org/ebooks/2680  \n",
       "97    https://www.gutenberg.org/ebooks/16328  \n",
       "98      https://www.gutenberg.org/ebooks/829  \n",
       "99    https://www.gutenberg.org/ebooks/15845  \n",
       "100      https://www.gutenberg.org/ebooks/23  \n",
       "\n",
       "[100 rows x 3 columns]"
      ]
     },
     "execution_count": 5,
     "metadata": {},
     "output_type": "execute_result"
    }
   ],
   "source": [
    "soup = BeautifulSoup(r.text, 'lxml')\n",
    "\n",
    "top100_yesterday_li = soup.find('h2', id=\"books-last1\").find_next_sibling('ol').find_all('li')\n",
    "\n",
    "top100_yesterday = []\n",
    "\n",
    "for rank, li in enumerate(top100_yesterday_li, start=1):\n",
    "    book_num = re.search(r'\\d+', li.a.get('href')).group()\n",
    "    book_name = re.sub(r'\\(\\d+\\)', '', li.a.text)\n",
    "    book_link = f\"https://www.gutenberg.org/ebooks/{book_num}\"\n",
    "    top100_yesterday.append( (rank, book_num, book_name, book_link) )\n",
    "\n",
    "top_100_yesterday_df = pd.DataFrame(top100_yesterday, columns=['RANK','BOOK_NUM','BOOK_NAME','BOOK_LINK'], ).set_index('RANK')\n",
    "\n",
    "top_100_yesterday_df\n"
   ]
  },
  {
   "cell_type": "markdown",
   "metadata": {},
   "source": [
    "<br>\n",
    "\n",
    "***\n",
    "\n",
    "## <span style=\"color:#ae8bd5\">Activity 10</span>\n",
    "<!-- # <span style=\"color:#bce35b;font-size:35px\">Title<b>Title</b></span> -->\n",
    "<!-- # <span style=\"color:#bce35b\">H1</span> -->\n",
    "<!-- ## <span style=\"color:#ae8bd5\">H2</span> -->\n",
    "<!-- ### <span style=\"color:#9c4957\">H3</span> -->\n",
    "<!-- #### <span style=\"color:white\">H4</span> -->\n",
    "\n",
    "<!-- <span style=\"color:#8c8c8c\">Patrick Weatherford</span> -->\n",
    "\n",
    "[Green]: <> (#bce35b)\n",
    "[Purple]: <> (#ae8bd5)\n",
    "[Coral]: <> (#9c4957)\n",
    "[Grey]: <> (#8c8c8c)\n",
    "\n",
    "Building Movie Database API"
   ]
  },
  {
   "cell_type": "code",
   "execution_count": 6,
   "metadata": {},
   "outputs": [],
   "source": [
    "def search_movie(api_key, movie_title, media_type='movie', plot_output='short', year=None):\n",
    "    \n",
    "    url = f\"http://www.omdbapi.com/\"\n",
    "\n",
    "    payload = {\n",
    "        'apikey':api_key\n",
    "        ,'t':f\"{movie_title}\"\n",
    "        ,'type':media_type\n",
    "        ,'plot':plot_output\n",
    "        ,'y':year\n",
    "    }\n",
    "\n",
    "    s = requests.Session()\n",
    "    r = s.get(url, timeout=10, params=payload)\n",
    "\n",
    "    print(f\"Connection status: {HTTPStatus(r.status_code).phrase}\")\n",
    "\n",
    "    json_dict = r.json()\n",
    "\n",
    "    for k in json_dict.keys():\n",
    "        if k.upper() == 'RATINGS':\n",
    "            print(f\"{k.upper()}\")\n",
    "            for rating in json_dict[k]:\n",
    "                print(f\"\\t- {rating['Source']}: {rating['Value']}\")\n",
    "            print(f\"\")\n",
    "        else:\n",
    "            print(f\"{k.upper()}: {json_dict[k]}\")\n",
    "\n",
    "\n",
    "    return Image(r.json()['Poster'])\n",
    "\n",
    "    "
   ]
  },
  {
   "cell_type": "code",
   "execution_count": 7,
   "metadata": {},
   "outputs": [
    {
     "name": "stdout",
     "output_type": "stream",
     "text": [
      "Connection status: OK\n",
      "TITLE: Napoleon Dynamite\n",
      "YEAR: 2004\n",
      "RATED: PG\n",
      "RELEASED: 27 Aug 2004\n",
      "RUNTIME: 96 min\n",
      "GENRE: Comedy\n",
      "DIRECTOR: Jared Hess\n",
      "WRITER: Jared Hess, Jerusha Hess\n",
      "ACTORS: Jon Heder, Efren Ramirez, Jon Gries\n",
      "PLOT: A listless and alienated teenager decides to help his new friend win the class presidency in their small western high school, while he must deal with his bizarre family life back home.\n",
      "LANGUAGE: English\n",
      "COUNTRY: United States\n",
      "AWARDS: 10 wins & 23 nominations\n",
      "POSTER: https://m.media-amazon.com/images/M/MV5BNjYwNTA3MDIyMl5BMl5BanBnXkFtZTYwMjIxNjA3._V1_SX300.jpg\n",
      "RATINGS\n",
      "\t- Internet Movie Database: 6.9/10\n",
      "\t- Rotten Tomatoes: 72%\n",
      "\t- Metacritic: 64/100\n",
      "\n",
      "METASCORE: 64\n",
      "IMDBRATING: 6.9\n",
      "IMDBVOTES: 213,840\n",
      "IMDBID: tt0374900\n",
      "TYPE: movie\n",
      "DVD: 21 Dec 2004\n",
      "BOXOFFICE: $44,540,956\n",
      "PRODUCTION: N/A\n",
      "WEBSITE: N/A\n",
      "RESPONSE: True\n"
     ]
    },
    {
     "data": {
      "image/jpeg": "[encoded data removed]",
      "text/plain": [
       "<IPython.core.display.Image object>"
      ]
     },
     "execution_count": 7,
     "metadata": {},
     "output_type": "execute_result"
    }
   ],
   "source": [
    "search_movie(api_key=API_Keys.OMDb_api_key, movie_title='Napoleon Dynamite')"
   ]
  },
  {
   "cell_type": "markdown",
   "metadata": {},
   "source": [
    "<br>\n",
    "\n",
    "***\n",
    "\n",
    "## <span style=\"color:#ae8bd5\">Connect to the Twitter API</span>\n",
    "<!-- # <span style=\"color:#bce35b;font-size:35px\">Title<b>Title</b></span> -->\n",
    "<!-- # <span style=\"color:#bce35b\">H1</span> -->\n",
    "<!-- ## <span style=\"color:#ae8bd5\">H2</span> -->\n",
    "<!-- ### <span style=\"color:#9c4957\">H3</span> -->\n",
    "<!-- #### <span style=\"color:white\">H4</span> -->\n",
    "\n",
    "<!-- <span style=\"color:#8c8c8c\">Patrick Weatherford</span> -->\n",
    "\n",
    "[Green]: <> (#bce35b)\n",
    "[Purple]: <> (#ae8bd5)\n",
    "[Coral]: <> (#9c4957)\n",
    "[Grey]: <> (#8c8c8c)"
   ]
  },
  {
   "cell_type": "code",
   "execution_count": 8,
   "metadata": {},
   "outputs": [],
   "source": [
    "def get_username_tweets(bearer_token, username, num_tweets=10, exclude=None, tweet_fields=None):\n",
    "    client = tweepy.Client(bearer_token=bearer_token)\n",
    "\n",
    "    user_search = client.get_user(username=username).data\n",
    "\n",
    "    user_id = user_search.id\n",
    "    user_name = user_search.name\n",
    "    user_username = user_search.username\n",
    "\n",
    "    if tweet_fields is None:\n",
    "        tweet_fields = ['created_at']\n",
    "    elif 'created_at' in tweet_fields:\n",
    "        pass\n",
    "    else:\n",
    "        tweet_fields = tweet_fields.append('created_at')\n",
    "\n",
    "    tweets = client.get_users_tweets(\n",
    "        id=user_id, max_results=num_tweets, exclude=exclude, tweet_fields=tweet_fields)\n",
    "\n",
    "    print(f\"\"\"\n",
    "{'='*80}\n",
    "USER: {user_name}\n",
    "USER_NAME: {user_username}\n",
    "USER_ID: {user_id}\n",
    "{'='*80}\"\"\")\n",
    "\n",
    "    for tweet in tweets.data:\n",
    "        print(f\"\"\"\n",
    "Tweet ID: {tweet.id}\n",
    "Created: {tweet.created_at}\n",
    "        \n",
    "{tweet.text}\n",
    "{'_'*80}\"\"\")\n"
   ]
  },
  {
   "cell_type": "code",
   "execution_count": 9,
   "metadata": {},
   "outputs": [
    {
     "name": "stdout",
     "output_type": "stream",
     "text": [
      "\n",
      "================================================================================\n",
      "USER: Philadelphia Eagles\n",
      "USER_NAME: Eagles\n",
      "USER_ID: 180503626\n",
      "================================================================================\n",
      "\n",
      "Tweet ID: 1526678946120622083\n",
      "Created: 2022-05-17 21:39:59+00:00\n",
      "        \n",
      "Roster Move: Eagles have claimed WR Josh Hammond off of waivers.\n",
      "\n",
      "#FlyEaglesFly https://t.co/8hB1X45k51\n",
      "________________________________________________________________________________\n",
      "\n",
      "Tweet ID: 1526658757320646656\n",
      "Created: 2022-05-17 20:19:46+00:00\n",
      "        \n",
      "Always competing \n",
      "\n",
      "#FlyEaglesFly https://t.co/6gN1Ps7osC\n",
      "________________________________________________________________________________\n",
      "\n",
      "Tweet ID: 1526634858327461888\n",
      "Created: 2022-05-17 18:44:48+00:00\n",
      "        \n",
      "The Rookie and the Vet \n",
      "\n",
      "#FlyEaglesFly https://t.co/tfrkvuJo4W\n",
      "________________________________________________________________________________\n",
      "\n",
      "Tweet ID: 1526627349260914689\n",
      "Created: 2022-05-17 18:14:58+00:00\n",
      "        \n",
      "STRAIGHT BUSINESS🤫\n",
      "\n",
      "#FlyEaglesFly https://t.co/4eKqd5XwRR\n",
      "________________________________________________________________________________\n",
      "\n",
      "Tweet ID: 1526618149294153730\n",
      "Created: 2022-05-17 17:38:24+00:00\n",
      "        \n",
      "Have you voted yet today? Be sure to make your voice heard!\n",
      "\n",
      "#FlyEaglesFly https://t.co/DGGHI85DuB\n",
      "________________________________________________________________________________\n",
      "\n",
      "Tweet ID: 1526597326764232705\n",
      "Created: 2022-05-17 16:15:40+00:00\n",
      "        \n",
      "Eagles will hold joint practices with the Miami Dolphins ahead of the Week 3 preseason game.\n",
      "\n",
      "#FlyEaglesFly https://t.co/fORYkddTut\n",
      "________________________________________________________________________________\n",
      "\n",
      "Tweet ID: 1526357281411039232\n",
      "Created: 2022-05-17 00:21:48+00:00\n",
      "        \n",
      "Primetime action 😤\n",
      "\n",
      "#FlyEaglesFly https://t.co/OAX2t2p3ex\n",
      "________________________________________________________________________________\n",
      "\n",
      "Tweet ID: 1526319283432726528\n",
      "Created: 2022-05-16 21:50:49+00:00\n",
      "        \n",
      "History was made. \n",
      "\n",
      "#FlyEaglesFly https://t.co/qSTygr70i4\n",
      "________________________________________________________________________________\n",
      "\n",
      "Tweet ID: 1526284756215898113\n",
      "Created: 2022-05-16 19:33:37+00:00\n",
      "        \n",
      "\"The standard has always been high.\"\n",
      "\n",
      "#FlyEaglesFly https://t.co/pJATU5hlqq\n",
      "________________________________________________________________________________\n",
      "\n",
      "Tweet ID: 1526261403425951744\n",
      "Created: 2022-05-16 18:00:49+00:00\n",
      "        \n",
      "Eagles have signed WR Keric Wheatfall.\n",
      "\n",
      "#FlyEaglesFly https://t.co/J9HwFww8NI\n",
      "________________________________________________________________________________\n",
      "\n",
      "Tweet ID: 1526229262495322113\n",
      "Created: 2022-05-16 15:53:06+00:00\n",
      "        \n",
      "Eagles have signed LB Nakobe Dean.\n",
      "\n",
      "#FlyEaglesFly https://t.co/uARHPKOiJ8\n",
      "________________________________________________________________________________\n",
      "\n",
      "Tweet ID: 1525569546010169345\n",
      "Created: 2022-05-14 20:11:38+00:00\n",
      "        \n",
      "\"I’m really excited to be here, and I couldn’t think of a better situation for me.\"\n",
      "\n",
      "@EaglesInsider went one-on-one with tight end @grcalcaterra, presented by @novacare.\n",
      "\n",
      "#FlyEaglesFly https://t.co/jBHvEPWDzU\n",
      "________________________________________________________________________________\n",
      "\n",
      "Tweet ID: 1525523612530315264\n",
      "Created: 2022-05-14 17:09:06+00:00\n",
      "        \n",
      "Will we see you on the road this season, #EaglesEverywhere?\n",
      "\n",
      "@Hyundai | #FlyEaglesFly https://t.co/OZLVRVK2kz\n",
      "________________________________________________________________________________\n",
      "\n",
      "Tweet ID: 1525475986086707200\n",
      "Created: 2022-05-14 13:59:51+00:00\n",
      "        \n",
      "Keep building\n",
      "\n",
      "#FlyEaglesFly https://t.co/BLnrEXjsGd\n",
      "________________________________________________________________________________\n",
      "\n",
      "Tweet ID: 1525211252317986816\n",
      "Created: 2022-05-13 20:27:54+00:00\n",
      "        \n",
      ".@krjohn15 is ready for this new chapter as a Philadelphia Eagle.\n",
      "\n",
      "@NovaCare | #FlyEaglesFly https://t.co/ndhoElrjzY\n",
      "________________________________________________________________________________\n"
     ]
    }
   ],
   "source": [
    "bearer_token = API_Keys.Twitter_bearer_token\n",
    "search = 'Eagles'\n",
    "\n",
    "get_username_tweets(bearer_token=bearer_token, username=search, num_tweets=15, exclude=['retweets','replies'])"
   ]
  },
  {
   "cell_type": "markdown",
   "metadata": {},
   "source": [
    "<br>\n",
    "\n",
    "***\n",
    "\n",
    "## <span style=\"color:#ae8bd5\">Metropolitan Museum Visualizations</span>\n",
    "<!-- # <span style=\"color:#bce35b;font-size:35px\">Title<b>Title</b></span> -->\n",
    "<!-- # <span style=\"color:#bce35b\">H1</span> -->\n",
    "<!-- ## <span style=\"color:#ae8bd5\">H2</span> -->\n",
    "<!-- ### <span style=\"color:#9c4957\">H3</span> -->\n",
    "<!-- #### <span style=\"color:white\">H4</span> -->\n",
    "\n",
    "<!-- <span style=\"color:#8c8c8c\">Patrick Weatherford</span> -->\n",
    "\n",
    "[Green]: <> (#bce35b)\n",
    "[Purple]: <> (#ae8bd5)\n",
    "[Coral]: <> (#9c4957)\n",
    "[Grey]: <> (#8c8c8c)"
   ]
  },
  {
   "cell_type": "code",
   "execution_count": 10,
   "metadata": {},
   "outputs": [
    {
     "data": {
      "text/html": [
       "<div>\n",
       "<style scoped>\n",
       "    .dataframe tbody tr th:only-of-type {\n",
       "        vertical-align: middle;\n",
       "    }\n",
       "\n",
       "    .dataframe tbody tr th {\n",
       "        vertical-align: top;\n",
       "    }\n",
       "\n",
       "    .dataframe thead th {\n",
       "        text-align: right;\n",
       "    }\n",
       "</style>\n",
       "<table border=\"1\" class=\"dataframe\">\n",
       "  <thead>\n",
       "    <tr style=\"text-align: right;\">\n",
       "      <th></th>\n",
       "      <th>TABLE_NAME</th>\n",
       "    </tr>\n",
       "  </thead>\n",
       "  <tbody>\n",
       "    <tr>\n",
       "      <th>0</th>\n",
       "      <td>PATIENT</td>\n",
       "    </tr>\n",
       "    <tr>\n",
       "      <th>1</th>\n",
       "      <td>MET_MUSEUM</td>\n",
       "    </tr>\n",
       "    <tr>\n",
       "      <th>2</th>\n",
       "      <td>COUNTRY_YEAR_CANCER_DEATHS</td>\n",
       "    </tr>\n",
       "    <tr>\n",
       "      <th>3</th>\n",
       "      <td>COUNTRY_SUN_HRS</td>\n",
       "    </tr>\n",
       "    <tr>\n",
       "      <th>4</th>\n",
       "      <td>SUNSPOTS</td>\n",
       "    </tr>\n",
       "  </tbody>\n",
       "</table>\n",
       "</div>"
      ],
      "text/plain": [
       "                   TABLE_NAME\n",
       "0                     PATIENT\n",
       "1                  MET_MUSEUM\n",
       "2  COUNTRY_YEAR_CANCER_DEATHS\n",
       "3             COUNTRY_SUN_HRS\n",
       "4                    SUNSPOTS"
      ]
     },
     "execution_count": 10,
     "metadata": {},
     "output_type": "execute_result"
    }
   ],
   "source": [
    "db_path = 'HakunaPatata.db'\n",
    "\n",
    "HP.sqlite_tables(db_path=db_path)"
   ]
  },
  {
   "cell_type": "code",
   "execution_count": 11,
   "metadata": {},
   "outputs": [],
   "source": [
    "sql_txt = r\"\"\"\n",
    "SELECT * FROM (\n",
    "SELECT \n",
    "    MM.\"Object Number\" AS OBJECT_NUMBER\n",
    "    , MM.\"AccessionYear\" AS ACCESSION_YEAR\n",
    "    , MM.\"Object Name\" AS OBJECT_NAME\n",
    "    , MM.\"Title\" AS TITLE\n",
    "    , MM.\"Object Date\" AS OBJECT_DATE\n",
    "    , MM.\"Object Begin Date\" AS OBJECT_BEGIN_DATE\n",
    "    , CASE \n",
    "        WHEN SUBSTR('0000' || RTRIM(\"MM\".\"Object Begin Date\"), LENGTH('0000' || RTRIM(\"MM\".\"Object Begin Date\"))-3, 4) = '0000' THEN 0\n",
    "        ELSE CASE\n",
    "            WHEN CAST(RTRIM(\"MM\".\"Object Begin Date\") AS INT) = 0 THEN NULL\n",
    "            ELSE CAST(RTRIM(\"MM\".\"Object Begin Date\") AS INT)\n",
    "        END\n",
    "    END AS \"OBJECT_BEGIN_DATE_NUM\"\n",
    "    , MM.\"Object End Date\" AS OBJECT_END_DATE\n",
    "    , CASE\n",
    "        WHEN SUBSTR('0000' || RTRIM(\"MM\".\"Object End Date\"), LENGTH('0000' || RTRIM(\"MM\".\"Object End Date\"))-3, 4) = '0000' THEN 0\n",
    "        ELSE CASE\n",
    "            WHEN CAST(RTRIM(\"MM\".\"Object End Date\") AS INT) = 0 THEN NULL\n",
    "            ELSE CAST(RTRIM(\"MM\".\"Object End Date\") AS INT)\n",
    "        END\n",
    "    END AS \"OBJECT_END_DATE_NUM\"\n",
    "    , MM.\"Artist Alpha Sort\" AS ARTIST_NAME\n",
    "    , MM.\"Artist Gender\" AS ARTIST_GENDER\n",
    "    , MM.\"Artist Nationality\" AS ARTIST_NATIONALITY\n",
    "    , MM.\"Credit Line\" AS CREDIT_LINE\n",
    "    , MM.\"Dimensions\" AS DIMENSIONS\n",
    "    , MM.\"Medium\" AS MEDIUM\n",
    "    , MM.\"Classification\" AS CLASSIFICATION\n",
    "    , MM.\"Department\" AS DEPARTMENT\n",
    "    , MM.\"Culture\" AS CULTURE\n",
    "\n",
    "FROM MET_MUSEUM AS MM\n",
    "WHERE \n",
    "    MM.\"AccessionYear\" <> 'None' AND REPLACE(MM.\"AccessionYear\", ' ', '')<>'' -- should exclude Null values too\n",
    ") \"MAIN\" \n",
    "WHERE \n",
    "    \"MAIN\".OBJECT_BEGIN_DATE >= 0 AND \"MAIN\".OBJECT_BEGIN_DATE < CAST(STRFTIME('%Y', (DATE('now'))) AS INT)\n",
    "\"\"\"\n",
    "\n",
    "mm_df = HP.sql_to_df(db_path, sql_txt=sql_txt)"
   ]
  },
  {
   "cell_type": "markdown",
   "metadata": {},
   "source": [
    "<br>\n",
    "\n",
    "Line plot of art pieces:"
   ]
  },
  {
   "cell_type": "code",
   "execution_count": 12,
   "metadata": {},
   "outputs": [
    {
     "data": {
      "image/png": "[encoded data removed]",
      "text/plain": [
       "<Figure size 432x288 with 1 Axes>"
      ]
     },
     "metadata": {},
     "output_type": "display_data"
    }
   ],
   "source": [
    "mm_df.groupby('OBJECT_BEGIN_DATE_NUM')['OBJECT_BEGIN_DATE_NUM'].count().plot(xlabel='Object Begin Year', ylabel='Total', title='Total Objects by Begin Year')\n",
    "plt.show()"
   ]
  },
  {
   "cell_type": "markdown",
   "metadata": {},
   "source": [
    "<br>\n",
    "\n",
    "Bar chart of totals by classification"
   ]
  },
  {
   "cell_type": "code",
   "execution_count": 13,
   "metadata": {},
   "outputs": [
    {
     "data": {
      "image/png": "[encoded data removed]",
      "text/plain": [
       "<Figure size 432x288 with 1 Axes>"
      ]
     },
     "metadata": {},
     "output_type": "display_data"
    }
   ],
   "source": [
    "mm_df.groupby('CLASSIFICATION')['CLASSIFICATION'].count().sort_values(ascending=False).head(15).sort_values(\n",
    ").plot.barh(title='Totals by Classification (top 15)', xlabel='Classification', ylabel='Total')\n",
    "plt.show()\n"
   ]
  },
  {
   "cell_type": "markdown",
   "metadata": {},
   "source": [
    "<br>\n",
    "\n",
    "Histogram of frequency of totals by object begin year."
   ]
  },
  {
   "cell_type": "code",
   "execution_count": 14,
   "metadata": {},
   "outputs": [
    {
     "data": {
      "image/png": "[encoded data removed]",
      "text/plain": [
       "<Figure size 432x288 with 1 Axes>"
      ]
     },
     "metadata": {},
     "output_type": "display_data"
    }
   ],
   "source": [
    "mm_df.groupby('OBJECT_BEGIN_DATE_NUM')['OBJECT_BEGIN_DATE_NUM'].count().hist()\n",
    "plt.show()"
   ]
  },
  {
   "cell_type": "markdown",
   "metadata": {},
   "source": [
    "<br>\n",
    "\n",
    "Density Plot of frequency of totals by object begin year."
   ]
  },
  {
   "cell_type": "code",
   "execution_count": 15,
   "metadata": {},
   "outputs": [
    {
     "data": {
      "image/png": "[encoded data removed]",
      "text/plain": [
       "<Figure size 432x288 with 1 Axes>"
      ]
     },
     "metadata": {},
     "output_type": "display_data"
    }
   ],
   "source": [
    "mm_df.groupby('OBJECT_BEGIN_DATE_NUM')['OBJECT_BEGIN_DATE_NUM'].count().plot(kind='kde')\n",
    "plt.show()"
   ]
  }
 ],
 "metadata": {
  "interpreter": {
   "hash": "f3cdbbf374133bcf17d677570233b4a1afa886b062ec5674a157ae5d28651db4"
  },
  "kernelspec": {
   "display_name": "Python 3.10.4 ('BU_work')",
   "language": "python",
   "name": "python3"
  },
  "language_info": {
   "codemirror_mode": {
    "name": "ipython",
    "version": 3
   },
   "file_extension": ".py",
   "mimetype": "text/x-python",
   "name": "python",
   "nbconvert_exporter": "python",
   "pygments_lexer": "ipython3",
   "version": "3.10.4"
  },
  "orig_nbformat": 4
 },
 "nbformat": 4,
 "nbformat_minor": 2
}
