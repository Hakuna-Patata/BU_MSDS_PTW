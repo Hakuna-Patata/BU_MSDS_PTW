{
 "cells": [
  {
   "cell_type": "markdown",
   "metadata": {},
   "source": [
    "# <span style=\"color:#bce35b;font-size:35px\"><b>Week 9 & 10</b></span>\n",
    "<!-- # <span style=\"color:#bce35b;font-size:35px\">Title<b>Title</b></span> -->\n",
    "<!-- # <span style=\"color:#bce35b\">H1</span> -->\n",
    "<!-- ## <span style=\"color:#ae8bd5\">H2</span> -->\n",
    "<!-- ### <span style=\"color:#9c4957\">H3</span> -->\n",
    "<!-- #### <span style=\"color:white\">H4</span> -->\n",
    "\n",
    "<span style=\"color:#8c8c8c\">Patrick Weatherford</span>\n",
    "\n",
    "[Green]: <> (#bce35b)\n",
    "[Purple]: <> (#ae8bd5)\n",
    "[Coral]: <> (#9c4957)\n",
    "[Grey]: <> (#8c8c8c)"
   ]
  },
  {
   "cell_type": "markdown",
   "metadata": {},
   "source": [
    "***\n",
    "***"
   ]
  },
  {
   "cell_type": "markdown",
   "metadata": {},
   "source": [
    "Importing libraries"
   ]
  },
  {
   "cell_type": "code",
   "execution_count": 122,
   "metadata": {},
   "outputs": [],
   "source": [
    "from datetime import date, datetime as dttm, timedelta\n",
    "from pprint import pprint\n",
    "from contextlib import closing\n",
    "from dask import dataframe as dd, bag as db, array as da\n",
    "import datetime as dt\n",
    "import sqlite3\n",
    "from fuzzywuzzy import fuzz, process\n",
    "import lxml\n",
    "from bs4 import BeautifulSoup\n",
    "import sys\n",
    "import scipy\n",
    "import io\n",
    "import math\n",
    "import re\n",
    "from itertools import permutations, dropwhile, zip_longest\n",
    "from collections import deque as deq\n",
    "import requests\n",
    "import matplotlib.pyplot as plt\n",
    "import matplotlib as mpl\n",
    "import pandas as pd\n",
    "import numpy as np\n",
    "import os\n",
    "import keyring\n",
    "from http import HTTPStatus\n",
    "import lxml\n",
    "import API_Keys\n",
    "from IPython.display import Image\n",
    "\n",
    "\n",
    "os.environ['KAGGLE_USERNAME'] = 'hakunapatata'\n",
    "os.environ['KAGGLE_KEY'] = keyring.get_password(\n",
    "    service_name='kaggle_api', username=os.environ['KAGGLE_USERNAME'])\n",
    "\n",
    "\n",
    "%matplotlib inline\n",
    "\n",
    "# matplotlib default settings\n",
    "plt.style.use('dark_background')\n",
    "mpl.rcParams.update({'lines.linewidth': 3})\n",
    "mpl.rcParams.update({'axes.labelsize': 14})\n",
    "mpl.rcParams.update({'axes.titlesize': 16})\n",
    "mpl.rcParams.update({'axes.titleweight': 'bold'})\n",
    "mpl.rcParams.update({'figure.autolayout': True})\n",
    "mpl.rcParams.update(\n",
    "    {'axes.grid': True, 'grid.color': '#424242', 'grid.linestyle': '--'})\n",
    "\n",
    "# creation random number generator object\n",
    "rng_seed = 777\n",
    "rng = np.random.default_rng(rng_seed)\n",
    "\n",
    "# pandas dataframe options\n",
    "pd.set_option('display.max_columns', None)\n"
   ]
  },
  {
   "cell_type": "code",
   "execution_count": 2,
   "metadata": {},
   "outputs": [],
   "source": [
    "# see list of current settings\n",
    "# plt.rcParams.keys()\n"
   ]
  },
  {
   "cell_type": "markdown",
   "metadata": {},
   "source": [
    "<br>\n",
    "\n",
    "Import custom module <br><br>\n",
    "<span style=\"font-size:13px\">~/Bellevue_University/Python/HakunaPatata.py</span>"
   ]
  },
  {
   "cell_type": "code",
   "execution_count": 2,
   "metadata": {},
   "outputs": [],
   "source": [
    "\n",
    "rel_path_parts = os.getcwd().split(os.sep)\n",
    "rel_path = ''\n",
    "\n",
    "for count, dir in enumerate(rel_path_parts):\n",
    "    if count == 0:\n",
    "        rel_path = rel_path + f\"{dir}\"\n",
    "    else:\n",
    "        rel_path = rel_path + f\"\\\\{dir}\"\n",
    "\n",
    "    if dir == \"Bellevue_University\":\n",
    "        break\n",
    "    else:\n",
    "        continue\n",
    "\n",
    "custom_mod_path = rel_path + f\"\\\\Python\"\n",
    "class_path = rel_path + f\"\\\\DSC 540 - Data Preparation\"\n",
    "\n",
    "os.chdir(custom_mod_path)  # change cwd to directory with custom Python module (~/Bellevue_University/Python/HakunaPatata.py)\n",
    "\n",
    "import HakunaPatata as HP\n",
    "\n",
    "os.chdir(class_path)  # once imported, change back to class working directory."
   ]
  },
  {
   "cell_type": "markdown",
   "metadata": {},
   "source": [
    "<br>\n",
    "\n",
    "***\n",
    "\n",
    "# <span style=\"color:#bce35b\">Week Activities</span>\n",
    "<!-- # <span style=\"color:#bce35b;font-size:35px\">Title<b>Title</b></span> -->\n",
    "<!-- # <span style=\"color:#bce35b\">H1</span> -->\n",
    "<!-- ## <span style=\"color:#ae8bd5\">H2</span> -->\n",
    "<!-- ### <span style=\"color:#9c4957\">H3</span> -->\n",
    "<!-- #### <span style=\"color:white\">H4</span> -->\n",
    "\n",
    "<!-- <span style=\"color:#8c8c8c\">Patrick Weatherford</span> -->\n",
    "\n",
    "[Green]: <> (#bce35b)\n",
    "[Purple]: <> (#ae8bd5)\n",
    "[Coral]: <> (#9c4957)\n",
    "[Grey]: <> (#8c8c8c)"
   ]
  },
  {
   "cell_type": "markdown",
   "metadata": {},
   "source": [
    "<br>\n",
    "\n",
    "***\n",
    "\n",
    "## <span style=\"color:#ae8bd5\">Activity 9</span>\n",
    "<!-- # <span style=\"color:#bce35b;font-size:35px\">Title<b>Title</b></span> -->\n",
    "<!-- # <span style=\"color:#bce35b\">H1</span> -->\n",
    "<!-- ## <span style=\"color:#ae8bd5\">H2</span> -->\n",
    "<!-- ### <span style=\"color:#9c4957\">H3</span> -->\n",
    "<!-- #### <span style=\"color:white\">H4</span> -->\n",
    "\n",
    "<!-- <span style=\"color:#8c8c8c\">Patrick Weatherford</span> -->\n",
    "\n",
    "[Green]: <> (#bce35b)\n",
    "[Purple]: <> (#ae8bd5)\n",
    "[Coral]: <> (#9c4957)\n",
    "[Grey]: <> (#8c8c8c)\n",
    "\n",
    "Top 100 eBooks from Gutenberg (last 30 days)"
   ]
  },
  {
   "cell_type": "code",
   "execution_count": 9,
   "metadata": {},
   "outputs": [
    {
     "name": "stdout",
     "output_type": "stream",
     "text": [
      "Connection status: OK\n"
     ]
    }
   ],
   "source": [
    "url = r'https://www.gutenberg.org/browse/scores/top'\n",
    "\n",
    "s = requests.Session()\n",
    "r = s.get(url, timeout=10)\n",
    "\n",
    "print(f\"Connection status: {HTTPStatus(r.status_code).phrase}\")"
   ]
  },
  {
   "cell_type": "markdown",
   "metadata": {},
   "source": [
    "<br>\n",
    "\n",
    "Looks like I need to pull all of the list elements under the h2 (header#2) tag where the id for the h2 tag is 'books-last1'. Then get the child \\<li> tags for the parent \\<ol> tag which is a sibling to the \\<h2> tag."
   ]
  },
  {
   "cell_type": "code",
   "execution_count": 121,
   "metadata": {},
   "outputs": [
    {
     "data": {
      "text/html": [
       "<div>\n",
       "<style scoped>\n",
       "    .dataframe tbody tr th:only-of-type {\n",
       "        vertical-align: middle;\n",
       "    }\n",
       "\n",
       "    .dataframe tbody tr th {\n",
       "        vertical-align: top;\n",
       "    }\n",
       "\n",
       "    .dataframe thead th {\n",
       "        text-align: right;\n",
       "    }\n",
       "</style>\n",
       "<table border=\"1\" class=\"dataframe\">\n",
       "  <thead>\n",
       "    <tr style=\"text-align: right;\">\n",
       "      <th></th>\n",
       "      <th>BOOK_NUM</th>\n",
       "      <th>BOOK_NAME</th>\n",
       "      <th>BOOK_LINK</th>\n",
       "    </tr>\n",
       "    <tr>\n",
       "      <th>RANK</th>\n",
       "      <th></th>\n",
       "      <th></th>\n",
       "      <th></th>\n",
       "    </tr>\n",
       "  </thead>\n",
       "  <tbody>\n",
       "    <tr>\n",
       "      <th>1</th>\n",
       "      <td>11</td>\n",
       "      <td>Alice's Adventures in Wonderland by Lewis Carr...</td>\n",
       "      <td>https://www.gutenberg.org/ebooks/11</td>\n",
       "    </tr>\n",
       "    <tr>\n",
       "      <th>2</th>\n",
       "      <td>33044</td>\n",
       "      <td>Birds from North Borneo by Max C. Thompson</td>\n",
       "      <td>https://www.gutenberg.org/ebooks/33044</td>\n",
       "    </tr>\n",
       "    <tr>\n",
       "      <th>3</th>\n",
       "      <td>84</td>\n",
       "      <td>Frankenstein; Or, The Modern Prometheus by Mar...</td>\n",
       "      <td>https://www.gutenberg.org/ebooks/84</td>\n",
       "    </tr>\n",
       "    <tr>\n",
       "      <th>4</th>\n",
       "      <td>1342</td>\n",
       "      <td>Pride and Prejudice by Jane Austen</td>\n",
       "      <td>https://www.gutenberg.org/ebooks/1342</td>\n",
       "    </tr>\n",
       "    <tr>\n",
       "      <th>5</th>\n",
       "      <td>64317</td>\n",
       "      <td>The Great Gatsby by F. Scott  Fitzgerald</td>\n",
       "      <td>https://www.gutenberg.org/ebooks/64317</td>\n",
       "    </tr>\n",
       "    <tr>\n",
       "      <th>...</th>\n",
       "      <td>...</td>\n",
       "      <td>...</td>\n",
       "      <td>...</td>\n",
       "    </tr>\n",
       "    <tr>\n",
       "      <th>96</th>\n",
       "      <td>766</td>\n",
       "      <td>David Copperfield by Charles Dickens</td>\n",
       "      <td>https://www.gutenberg.org/ebooks/766</td>\n",
       "    </tr>\n",
       "    <tr>\n",
       "      <th>97</th>\n",
       "      <td>61</td>\n",
       "      <td>The Communist Manifesto by Friedrich Engels an...</td>\n",
       "      <td>https://www.gutenberg.org/ebooks/61</td>\n",
       "    </tr>\n",
       "    <tr>\n",
       "      <th>98</th>\n",
       "      <td>7142</td>\n",
       "      <td>The History of the Peloponnesian War by Thucyd...</td>\n",
       "      <td>https://www.gutenberg.org/ebooks/7142</td>\n",
       "    </tr>\n",
       "    <tr>\n",
       "      <th>99</th>\n",
       "      <td>1934</td>\n",
       "      <td>Songs of Innocence and of Experience by Willia...</td>\n",
       "      <td>https://www.gutenberg.org/ebooks/1934</td>\n",
       "    </tr>\n",
       "    <tr>\n",
       "      <th>100</th>\n",
       "      <td>902</td>\n",
       "      <td>The Happy Prince, and Other Tales by Oscar Wilde</td>\n",
       "      <td>https://www.gutenberg.org/ebooks/902</td>\n",
       "    </tr>\n",
       "  </tbody>\n",
       "</table>\n",
       "<p>100 rows × 3 columns</p>\n",
       "</div>"
      ],
      "text/plain": [
       "     BOOK_NUM                                          BOOK_NAME  \\\n",
       "RANK                                                               \n",
       "1          11  Alice's Adventures in Wonderland by Lewis Carr...   \n",
       "2       33044        Birds from North Borneo by Max C. Thompson    \n",
       "3          84  Frankenstein; Or, The Modern Prometheus by Mar...   \n",
       "4        1342                Pride and Prejudice by Jane Austen    \n",
       "5       64317          The Great Gatsby by F. Scott  Fitzgerald    \n",
       "...       ...                                                ...   \n",
       "96        766              David Copperfield by Charles Dickens    \n",
       "97         61  The Communist Manifesto by Friedrich Engels an...   \n",
       "98       7142  The History of the Peloponnesian War by Thucyd...   \n",
       "99       1934  Songs of Innocence and of Experience by Willia...   \n",
       "100       902  The Happy Prince, and Other Tales by Oscar Wilde    \n",
       "\n",
       "                                   BOOK_LINK  \n",
       "RANK                                          \n",
       "1        https://www.gutenberg.org/ebooks/11  \n",
       "2     https://www.gutenberg.org/ebooks/33044  \n",
       "3        https://www.gutenberg.org/ebooks/84  \n",
       "4      https://www.gutenberg.org/ebooks/1342  \n",
       "5     https://www.gutenberg.org/ebooks/64317  \n",
       "...                                      ...  \n",
       "96      https://www.gutenberg.org/ebooks/766  \n",
       "97       https://www.gutenberg.org/ebooks/61  \n",
       "98     https://www.gutenberg.org/ebooks/7142  \n",
       "99     https://www.gutenberg.org/ebooks/1934  \n",
       "100     https://www.gutenberg.org/ebooks/902  \n",
       "\n",
       "[100 rows x 3 columns]"
      ]
     },
     "execution_count": 121,
     "metadata": {},
     "output_type": "execute_result"
    }
   ],
   "source": [
    "soup = BeautifulSoup(r.text, 'lxml')\n",
    "\n",
    "top100_yesterday_li = soup.find('h2', id=\"books-last1\").find_next_sibling('ol').find_all('li')\n",
    "\n",
    "top100_yesterday = []\n",
    "\n",
    "for rank, li in enumerate(top100_yesterday_li, start=1):\n",
    "    book_num = re.search(r'\\d+', li.a.get('href')).group()\n",
    "    book_name = re.sub(r'\\(\\d+\\)', '', li.a.text)\n",
    "    book_link = f\"https://www.gutenberg.org/ebooks/{book_num}\"\n",
    "    top100_yesterday.append( (rank, book_num, book_name, book_link) )\n",
    "\n",
    "top_100_yesterday_df = pd.DataFrame(top100_yesterday, columns=['RANK','BOOK_NUM','BOOK_NAME','BOOK_LINK'], ).set_index('RANK')\n",
    "\n",
    "top_100_yesterday_df\n"
   ]
  },
  {
   "cell_type": "markdown",
   "metadata": {},
   "source": [
    "<br>\n",
    "\n",
    "***\n",
    "\n",
    "## <span style=\"color:#ae8bd5\">Activity 10</span>\n",
    "<!-- # <span style=\"color:#bce35b;font-size:35px\">Title<b>Title</b></span> -->\n",
    "<!-- # <span style=\"color:#bce35b\">H1</span> -->\n",
    "<!-- ## <span style=\"color:#ae8bd5\">H2</span> -->\n",
    "<!-- ### <span style=\"color:#9c4957\">H3</span> -->\n",
    "<!-- #### <span style=\"color:white\">H4</span> -->\n",
    "\n",
    "<!-- <span style=\"color:#8c8c8c\">Patrick Weatherford</span> -->\n",
    "\n",
    "[Green]: <> (#bce35b)\n",
    "[Purple]: <> (#ae8bd5)\n",
    "[Coral]: <> (#9c4957)\n",
    "[Grey]: <> (#8c8c8c)\n",
    "\n",
    "Building Movie Database API"
   ]
  },
  {
   "cell_type": "code",
   "execution_count": 232,
   "metadata": {},
   "outputs": [],
   "source": [
    "def search_movie(api_key, movie_title, media_type='movie', plot_output='short', year=None):\n",
    "    \n",
    "    url = f\"http://www.omdbapi.com/\"\n",
    "\n",
    "    payload = {\n",
    "        'apikey':api_key\n",
    "        ,'t':f\"{movie_title}\"\n",
    "        ,'type':media_type\n",
    "        ,'plot':plot_output\n",
    "        ,'y':year\n",
    "    }\n",
    "\n",
    "    s = requests.Session()\n",
    "    r = s.get(url, timeout=10, params=payload)\n",
    "\n",
    "    print(f\"Connection status: {HTTPStatus(r.status_code).phrase}\")\n",
    "\n",
    "    json_dict = r.json()\n",
    "\n",
    "    for k in json_dict.keys():\n",
    "        if k.upper() == 'RATINGS':\n",
    "            print(f\"{k.upper()}\")\n",
    "            for rating in json_dict[k]:\n",
    "                print(f\"\\t- {rating['Source']}: {rating['Value']}\")\n",
    "            print(f\"\")\n",
    "        else:\n",
    "            print(f\"{k.upper()}: {json_dict[k]}\")\n",
    "\n",
    "    "
   ]
  },
  {
   "cell_type": "code",
   "execution_count": 233,
   "metadata": {},
   "outputs": [
    {
     "name": "stdout",
     "output_type": "stream",
     "text": [
      "Connection status: OK\n",
      "TITLE: Napoleon Dynamite\n",
      "YEAR: 2004\n",
      "RATED: PG\n",
      "RELEASED: 27 Aug 2004\n",
      "RUNTIME: 96 min\n",
      "GENRE: Comedy\n",
      "DIRECTOR: Jared Hess\n",
      "WRITER: Jared Hess, Jerusha Hess\n",
      "ACTORS: Jon Heder, Efren Ramirez, Jon Gries\n",
      "PLOT: A listless and alienated teenager decides to help his new friend win the class presidency in their small western high school, while he must deal with his bizarre family life back home.\n",
      "LANGUAGE: English\n",
      "COUNTRY: United States\n",
      "AWARDS: 10 wins & 23 nominations\n",
      "POSTER: https://m.media-amazon.com/images/M/MV5BNjYwNTA3MDIyMl5BMl5BanBnXkFtZTYwMjIxNjA3._V1_SX300.jpg\n",
      "RATINGS\n",
      "\t- Internet Movie Database: 6.9/10\n",
      "\t- Rotten Tomatoes: 72%\n",
      "\t- Metacritic: 64/100\n",
      "\n",
      "METASCORE: 64\n",
      "IMDBRATING: 6.9\n",
      "IMDBVOTES: 213,840\n",
      "IMDBID: tt0374900\n",
      "TYPE: movie\n",
      "DVD: 21 Dec 2004\n",
      "BOXOFFICE: $44,540,956\n",
      "PRODUCTION: N/A\n",
      "WEBSITE: N/A\n",
      "RESPONSE: True\n"
     ]
    }
   ],
   "source": [
    "search_movie(api_key=API_Keys.OMDb_api_key, movie_title='Napoleon Dynamite')"
   ]
  },
  {
   "cell_type": "code",
   "execution_count": 234,
   "metadata": {},
   "outputs": [
    {
     "data": {
      "image/jpeg": "[encoded data removed]",
      "text/plain": [
       "<IPython.core.display.Image object>"
      ]
     },
     "execution_count": 234,
     "metadata": {},
     "output_type": "execute_result"
    }
   ],
   "source": [
    "## poster from get response\n",
    "poster_url = r.json()['Poster']\n",
    "\n",
    "Image(poster_url)"
   ]
  },
  {
   "cell_type": "markdown",
   "metadata": {},
   "source": [
    "<br>\n",
    "\n",
    "***\n",
    "\n",
    "## <span style=\"color:#ae8bd5\">Connect to the Twitter API</span>\n",
    "<!-- # <span style=\"color:#bce35b;font-size:35px\">Title<b>Title</b></span> -->\n",
    "<!-- # <span style=\"color:#bce35b\">H1</span> -->\n",
    "<!-- ## <span style=\"color:#ae8bd5\">H2</span> -->\n",
    "<!-- ### <span style=\"color:#9c4957\">H3</span> -->\n",
    "<!-- #### <span style=\"color:white\">H4</span> -->\n",
    "\n",
    "<!-- <span style=\"color:#8c8c8c\">Patrick Weatherford</span> -->\n",
    "\n",
    "[Green]: <> (#bce35b)\n",
    "[Purple]: <> (#ae8bd5)\n",
    "[Coral]: <> (#9c4957)\n",
    "[Grey]: <> (#8c8c8c)"
   ]
  },
  {
   "cell_type": "code",
   "execution_count": null,
   "metadata": {},
   "outputs": [],
   "source": []
  },
  {
   "cell_type": "markdown",
   "metadata": {},
   "source": [
    "<br>\n",
    "\n",
    "***\n",
    "\n",
    "## <span style=\"color:#ae8bd5\">Metropolitan Museum Visualizations</span>\n",
    "<!-- # <span style=\"color:#bce35b;font-size:35px\">Title<b>Title</b></span> -->\n",
    "<!-- # <span style=\"color:#bce35b\">H1</span> -->\n",
    "<!-- ## <span style=\"color:#ae8bd5\">H2</span> -->\n",
    "<!-- ### <span style=\"color:#9c4957\">H3</span> -->\n",
    "<!-- #### <span style=\"color:white\">H4</span> -->\n",
    "\n",
    "<!-- <span style=\"color:#8c8c8c\">Patrick Weatherford</span> -->\n",
    "\n",
    "[Green]: <> (#bce35b)\n",
    "[Purple]: <> (#ae8bd5)\n",
    "[Coral]: <> (#9c4957)\n",
    "[Grey]: <> (#8c8c8c)"
   ]
  },
  {
   "cell_type": "code",
   "execution_count": null,
   "metadata": {},
   "outputs": [],
   "source": []
  }
 ],
 "metadata": {
  "interpreter": {
   "hash": "f3cdbbf374133bcf17d677570233b4a1afa886b062ec5674a157ae5d28651db4"
  },
  "kernelspec": {
   "display_name": "Python 3.10.4 ('BU_work')",
   "language": "python",
   "name": "python3"
  },
  "language_info": {
   "codemirror_mode": {
    "name": "ipython",
    "version": 3
   },
   "file_extension": ".py",
   "mimetype": "text/x-python",
   "name": "python",
   "nbconvert_exporter": "python",
   "pygments_lexer": "ipython3",
   "version": "3.10.4"
  },
  "orig_nbformat": 4
 },
 "nbformat": 4,
 "nbformat_minor": 2
}
