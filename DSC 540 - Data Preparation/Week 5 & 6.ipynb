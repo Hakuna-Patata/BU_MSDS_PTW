{
 "cells": [
  {
   "cell_type": "markdown",
   "metadata": {},
   "source": [
    "# <span style=\"color:#bce35b;font-size:35px\"><b>Week 5 & 6</b></span>\n",
    "<!-- # <span style=\"color:#bce35b;font-size:35px\">Title<b>Title</b></span> -->\n",
    "<!-- # <span style=\"color:#bce35b\">H1</span> -->\n",
    "<!-- ## <span style=\"color:#ae8bd5\">H2</span> -->\n",
    "<!-- ### <span style=\"color:#9c4957\">H3</span> -->\n",
    "<!-- #### <span style=\"color:white\">H4</span> -->\n",
    "\n",
    "<span style=\"color:#8c8c8c\">Patrick Weatherford</span>\n",
    "\n",
    "[Green]: <> (#bce35b)\n",
    "[Purple]: <> (#ae8bd5)\n",
    "[Coral]: <> (#9c4957)\n",
    "[Grey]: <> (#8c8c8c)"
   ]
  },
  {
   "cell_type": "markdown",
   "metadata": {},
   "source": [
    "***\n",
    "***"
   ]
  },
  {
   "cell_type": "markdown",
   "metadata": {},
   "source": [
    "Importing libraries"
   ]
  },
  {
   "cell_type": "code",
   "execution_count": 15,
   "metadata": {},
   "outputs": [],
   "source": [
    "import os \n",
    "import keyring\n",
    "\n",
    "os.environ['KAGGLE_USERNAME'] = 'hakunapatata123'\n",
    "os.environ['KAGGLE_KEY'] = keyring.get_password(service_name='kaggle_api', username=os.environ['KAGGLE_USERNAME'])\n",
    "\n",
    "import numpy as np\n",
    "import pandas as pd\n",
    "import matplotlib as mpl\n",
    "import matplotlib.pyplot as plt\n",
    "import requests\n",
    "from collections import deque as deq\n",
    "from itertools import permutations, dropwhile, zip_longest\n",
    "import re\n",
    "import math\n",
    "import io\n",
    "import scipy\n",
    "import sys\n",
    "from bs4 import BeautifulSoup\n",
    "import lxml\n",
    "\n",
    "\n",
    "## import custom config file with keys and change working directory\n",
    "class_path = os.path.expanduser('~') + '\\\\OneDrive - Bellevue University\\\\Bellevue_University\\\\DSC 540 - Data Preparation'\n",
    "bu_path = os.path.expanduser('~') + '\\\\OneDrive - Bellevue University\\\\Bellevue_University'\n",
    "os.chdir(bu_path); import config; os.chdir(class_path)\n",
    "\n",
    "\n",
    "## matplotlib default settings\n",
    "plt.style.use('dark_background')\n",
    "mpl.rcParams.update({'lines.linewidth':3})\n",
    "mpl.rcParams.update({'axes.labelsize':14})\n",
    "mpl.rcParams.update({'axes.titlesize':16})\n",
    "mpl.rcParams.update({'axes.titleweight':'bold'})\n",
    "mpl.rcParams.update({'figure.autolayout':True})\n",
    "mpl.rcParams.update({'axes.grid':True, 'grid.color':'#424242', 'grid.linestyle':'--'})\n"
   ]
  },
  {
   "cell_type": "code",
   "execution_count": 16,
   "metadata": {},
   "outputs": [],
   "source": [
    "## see list of current settings\n",
    "# plt.rcParams.keys()"
   ]
  },
  {
   "cell_type": "markdown",
   "metadata": {},
   "source": [
    "<br>\n",
    "Instantiating random number generator"
   ]
  },
  {
   "cell_type": "code",
   "execution_count": 17,
   "metadata": {},
   "outputs": [],
   "source": [
    "rng_seed = 777\n",
    "rng = np.random.default_rng(rng_seed)"
   ]
  },
  {
   "cell_type": "markdown",
   "metadata": {},
   "source": [
    "<br>\n",
    "\n",
    "***\n",
    "\n",
    "# <span style=\"color:#bce35b\">Book Activities</span>\n",
    "<!-- # <span style=\"color:#bce35b;font-size:35px\">Title<b>Title</b></span> -->\n",
    "<!-- # <span style=\"color:#bce35b\">H1</span> -->\n",
    "<!-- ## <span style=\"color:#ae8bd5\">H2</span> -->\n",
    "<!-- ### <span style=\"color:#9c4957\">H3</span> -->\n",
    "<!-- #### <span style=\"color:white\">H4</span> -->\n",
    "\n",
    "<!-- <span style=\"color:#8c8c8c\">Patrick Weatherford</span> -->\n",
    "\n",
    "[Green]: <> (#bce35b)\n",
    "[Purple]: <> (#ae8bd5)\n",
    "[Coral]: <> (#9c4957)\n",
    "[Grey]: <> (#8c8c8c)"
   ]
  },
  {
   "cell_type": "markdown",
   "metadata": {},
   "source": [
    "<br>\n",
    "\n",
    "\n",
    "## <span style=\"color:#ae8bd5\">Activity 7</span>\n",
    "<!-- # <span style=\"color:#bce35b;font-size:35px\">Title<b>Title</b></span> -->\n",
    "<!-- # <span style=\"color:#bce35b\">H1</span> -->\n",
    "<!-- ## <span style=\"color:#ae8bd5\">H2</span> -->\n",
    "<!-- ### <span style=\"color:#9c4957\">H3</span> -->\n",
    "<!-- #### <span style=\"color:white\">H4</span> -->\n",
    "\n",
    "<!-- <span style=\"color:#8c8c8c\">Patrick Weatherford</span> -->\n",
    "\n",
    "[Green]: <> (#bce35b)\n",
    "[Purple]: <> (#ae8bd5)\n",
    "[Coral]: <> (#9c4957)\n",
    "[Grey]: <> (#8c8c8c)\n",
    "\n"
   ]
  },
  {
   "cell_type": "code",
   "execution_count": 18,
   "metadata": {},
   "outputs": [],
   "source": [
    "## GET response from url as html text and parse with BeautifulSoup\n",
    "url = 'https://en.wikipedia.org/wiki/List_of_countries_by_GDP_(nominal)'\n",
    "s = requests.Session()\n",
    "r = s.get(url, timeout=10).text\n",
    "soup = BeautifulSoup(r, 'lxml')\n"
   ]
  },
  {
   "cell_type": "code",
   "execution_count": 19,
   "metadata": {},
   "outputs": [
    {
     "name": "stdout",
     "output_type": "stream",
     "text": [
      "[<td style=\"text-align:left\"><span class=\"flagicon\" style=\"display:inline-block;width:25px;text-align:left;\"><img alt=\"\" class=\"thumbborder\" data-file-height=\"600\" data-file-width=\"1200\" decoding=\"async\" height=\"12\" src=\"//upload.wikimedia.org/wikipedia/commons/thumb/3/38/Flag_of_Tuvalu.svg/23px-Flag_of_Tuvalu.svg.png\" srcset=\"//upload.wikimedia.org/wikipedia/commons/thumb/3/38/Flag_of_Tuvalu.svg/35px-Flag_of_Tuvalu.svg.png 1.5x, //upload.wikimedia.org/wikipedia/commons/thumb/3/38/Flag_of_Tuvalu.svg/46px-Flag_of_Tuvalu.svg.png 2x\" width=\"23\"/></span> <a href=\"/wiki/Economy_of_Tuvalu\" title=\"Economy of Tuvalu\">Tuvalu</a></td>, <td style=\"text-align:center\"><a href=\"/wiki/Oceania\" title=\"Oceania\">Oceania</a></td>, <td>65</td>, <td>2021</td>, <td>55</td>, <td>2020</td>, <td>49</td>, <td>2020\n",
      "</td>]\n"
     ]
    }
   ],
   "source": [
    "table_soup = soup.find_all('table', class_='wikitable')\n",
    "\n",
    "for table in table_soup:\n",
    "    tbodys = table.findAll('tbody', recursive=False)\n",
    "    for tbody in tbodys:\n",
    "        trs = tbody.findAll('tr', recursive=False)\n",
    "        for tr in trs:\n",
    "            td = tr.findAll('td', recursive=False)\n",
    "        print(td)\n",
    "    # tr = tbody.findAll('tr')\n",
    "    # print(tbody)\n",
    "    \n",
    "\n"
   ]
  },
  {
   "cell_type": "code",
   "execution_count": 20,
   "metadata": {},
   "outputs": [
    {
     "data": {
      "text/plain": [
       "(435, 1)"
      ]
     },
     "execution_count": 20,
     "metadata": {},
     "output_type": "execute_result"
    }
   ],
   "source": [
    "ts = table_soup[0]\n",
    "\n",
    "len(ts.tbody), len(ts.findAll('tbody'))"
   ]
  },
  {
   "cell_type": "code",
   "execution_count": 21,
   "metadata": {},
   "outputs": [
    {
     "data": {
      "text/plain": [
       "435"
      ]
     },
     "execution_count": 21,
     "metadata": {},
     "output_type": "execute_result"
    }
   ],
   "source": [
    "len(ts.findAll('tbody', recursive=False)[0])"
   ]
  },
  {
   "cell_type": "markdown",
   "metadata": {},
   "source": [
    "<br>\n",
    "\n",
    "\n",
    "## <span style=\"color:#ae8bd5\">Activity 8</span>\n",
    "<!-- # <span style=\"color:#bce35b;font-size:35px\">Title<b>Title</b></span> -->\n",
    "<!-- # <span style=\"color:#bce35b\">H1</span> -->\n",
    "<!-- ## <span style=\"color:#ae8bd5\">H2</span> -->\n",
    "<!-- ### <span style=\"color:#9c4957\">H3</span> -->\n",
    "<!-- #### <span style=\"color:white\">H4</span> -->\n",
    "\n",
    "<!-- <span style=\"color:#8c8c8c\">Patrick Weatherford</span> -->\n",
    "\n",
    "[Green]: <> (#bce35b)\n",
    "[Purple]: <> (#ae8bd5)\n",
    "[Coral]: <> (#9c4957)\n",
    "[Grey]: <> (#8c8c8c)\n",
    "\n"
   ]
  },
  {
   "cell_type": "code",
   "execution_count": null,
   "metadata": {},
   "outputs": [],
   "source": []
  },
  {
   "cell_type": "markdown",
   "metadata": {},
   "source": [
    "<br><br>\n",
    "\n",
    "***\n",
    "\n",
    "### Book Practice Below"
   ]
  },
  {
   "cell_type": "code",
   "execution_count": 22,
   "metadata": {},
   "outputs": [
    {
     "data": {
      "text/plain": [
       "444376"
      ]
     },
     "execution_count": 22,
     "metadata": {},
     "output_type": "execute_result"
    }
   ],
   "source": [
    "odd_nums = [x for x in range(100000) if x % 2 != 0]\n",
    "\n",
    "sys.getsizeof(odd_nums)"
   ]
  },
  {
   "cell_type": "code",
   "execution_count": 23,
   "metadata": {},
   "outputs": [
    {
     "data": {
      "text/plain": [
       "(104, 444376)"
      ]
     },
     "execution_count": 23,
     "metadata": {},
     "output_type": "execute_result"
    }
   ],
   "source": [
    "odd_nums2 = (x for x in range(100000) if x % 2 != 0)\n",
    "odd_nums_list = [x for x in odd_nums2]\n",
    "\n",
    "sys.getsizeof(odd_nums2), sys.getsizeof(odd_nums_list)"
   ]
  },
  {
   "cell_type": "code",
   "execution_count": 24,
   "metadata": {},
   "outputs": [
    {
     "data": {
      "text/plain": [
       "444376"
      ]
     },
     "execution_count": 24,
     "metadata": {},
     "output_type": "execute_result"
    }
   ],
   "source": [
    "list2 = []\n",
    "\n",
    "def odd_num_gen():\n",
    "    i = 1\n",
    "\n",
    "    while True:\n",
    "        if i % 2 != 0:\n",
    "            yield i\n",
    "            i += 1\n",
    "        else:\n",
    "            i += 1\n",
    "\n",
    "for num in odd_num_gen():\n",
    "    if num > 100000:\n",
    "        break\n",
    "    list2.append(num)\n",
    "\n",
    "sys.getsizeof(list2)"
   ]
  },
  {
   "cell_type": "code",
   "execution_count": 25,
   "metadata": {},
   "outputs": [
    {
     "data": {
      "text/plain": [
       "[1, 2, 3, 4, 5]"
      ]
     },
     "execution_count": 25,
     "metadata": {},
     "output_type": "execute_result"
    }
   ],
   "source": [
    "l1 = [1,2,3,4,5]\n",
    "\n",
    "l1_gen = (num for num in l1)\n",
    "l1_lst = [num for num in l1_gen]\n",
    "l1_lst"
   ]
  },
  {
   "cell_type": "code",
   "execution_count": 26,
   "metadata": {},
   "outputs": [
    {
     "name": "stdout",
     "output_type": "stream",
     "text": [
      "hello\n"
     ]
    }
   ],
   "source": [
    "print('hello')"
   ]
  }
 ],
 "metadata": {
  "interpreter": {
   "hash": "8c406e8c5c58a1b63a70f2ea5c681ec25636d68d83736f611afedbadd62c331a"
  },
  "kernelspec": {
   "display_name": "Python 3.10.4 ('BU_work': venv)",
   "language": "python",
   "name": "python3"
  },
  "language_info": {
   "codemirror_mode": {
    "name": "ipython",
    "version": 3
   },
   "file_extension": ".py",
   "mimetype": "text/x-python",
   "name": "python",
   "nbconvert_exporter": "python",
   "pygments_lexer": "ipython3",
   "version": "3.10.4"
  },
  "orig_nbformat": 4
 },
 "nbformat": 4,
 "nbformat_minor": 2
}
